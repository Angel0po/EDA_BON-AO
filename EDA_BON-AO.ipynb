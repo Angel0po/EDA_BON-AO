{
 "cells": [
  {
   "cell_type": "markdown",
   "id": "d925d2e7-4f24-435c-9d67-f8c8521ce897",
   "metadata": {},
   "source": [
    "## Exploratory Data Analysis on the Most Streamed Spotify Songs of 2023 by Bon-ao, Angelo B."
   ]
  },
  {
   "cell_type": "markdown",
   "id": "ff4fde90-d0a2-4675-aa74-cc8f539e2af6",
   "metadata": {},
   "source": [
    "#### This code entails an exploratory data analysis on the most streamed spotify songs of 2023. \n",
    "#### It includes exploring, cleaning, and visualizing the data it contains."
   ]
  },
  {
   "cell_type": "markdown",
   "id": "4ec84fd9-4a7b-4b98-a9ba-c765f2c6e6d4",
   "metadata": {},
   "source": [
    "---"
   ]
  },
  {
   "cell_type": "markdown",
   "id": "86e1b2f9-b92d-484c-a5c0-0563d75fdcff",
   "metadata": {},
   "source": [
    "### Preparation/Pre-processing for EDA"
   ]
  },
  {
   "cell_type": "markdown",
   "id": "70e7cfa5-6f38-44c4-aaa1-4cf4eefe87fb",
   "metadata": {},
   "source": [
    "#### Importing necessary libraries"
   ]
  },
  {
   "cell_type": "code",
   "execution_count": 6,
   "id": "5a9231bf-387b-4f7d-a66e-2bf3af495f56",
   "metadata": {},
   "outputs": [],
   "source": [
    "import pandas as pd\n",
    "import matplotlib.pyplot as plt\n",
    "import seaborn as sns"
   ]
  },
  {
   "cell_type": "markdown",
   "id": "9a7c35df-35b8-4104-8417-f0fcd93e3dae",
   "metadata": {},
   "source": [
    "##### These libraries are needed in order to perform EDA on the given dataset;\n",
    "##### The pandas library will make it so that the dataset from the csv file is read and turned into a dataframe.\n",
    "##### It'll also allow us to use commands that is needed for the EDA.\n",
    "#####\n",
    "##### The matplotlib.pyplot library will allow us to visualize the data and highlight the stories within the data.\n",
    "##### \n",
    "##### The seaborn library serves the same purpose as matplotlib.pyplot but carries an extra feature that colors the visualizations.\n",
    "---"
   ]
  },
  {
   "cell_type": "markdown",
   "id": "52005f3e-5637-49d8-a027-aa47b10395ea",
   "metadata": {},
   "source": [
    "#### Loading/Reading the data as a dataframe"
   ]
  },
  {
   "cell_type": "code",
   "execution_count": 9,
   "id": "69114303-6b47-4cf2-b570-ec4cbab9c171",
   "metadata": {},
   "outputs": [
    {
     "data": {
      "text/html": [
       "<div>\n",
       "<style scoped>\n",
       "    .dataframe tbody tr th:only-of-type {\n",
       "        vertical-align: middle;\n",
       "    }\n",
       "\n",
       "    .dataframe tbody tr th {\n",
       "        vertical-align: top;\n",
       "    }\n",
       "\n",
       "    .dataframe thead th {\n",
       "        text-align: right;\n",
       "    }\n",
       "</style>\n",
       "<table border=\"1\" class=\"dataframe\">\n",
       "  <thead>\n",
       "    <tr style=\"text-align: right;\">\n",
       "      <th></th>\n",
       "      <th>track_name</th>\n",
       "      <th>artist(s)_name</th>\n",
       "      <th>artist_count</th>\n",
       "      <th>released_year</th>\n",
       "      <th>released_month</th>\n",
       "      <th>released_day</th>\n",
       "      <th>in_spotify_playlists</th>\n",
       "      <th>in_spotify_charts</th>\n",
       "      <th>streams</th>\n",
       "      <th>in_apple_playlists</th>\n",
       "      <th>...</th>\n",
       "      <th>bpm</th>\n",
       "      <th>key</th>\n",
       "      <th>mode</th>\n",
       "      <th>danceability_%</th>\n",
       "      <th>valence_%</th>\n",
       "      <th>energy_%</th>\n",
       "      <th>acousticness_%</th>\n",
       "      <th>instrumentalness_%</th>\n",
       "      <th>liveness_%</th>\n",
       "      <th>speechiness_%</th>\n",
       "    </tr>\n",
       "  </thead>\n",
       "  <tbody>\n",
       "    <tr>\n",
       "      <th>0</th>\n",
       "      <td>Seven (feat. Latto) (Explicit Ver.)</td>\n",
       "      <td>Latto, Jung Kook</td>\n",
       "      <td>2</td>\n",
       "      <td>2023</td>\n",
       "      <td>7</td>\n",
       "      <td>14</td>\n",
       "      <td>553</td>\n",
       "      <td>147</td>\n",
       "      <td>141381703</td>\n",
       "      <td>43</td>\n",
       "      <td>...</td>\n",
       "      <td>125</td>\n",
       "      <td>B</td>\n",
       "      <td>Major</td>\n",
       "      <td>80</td>\n",
       "      <td>89</td>\n",
       "      <td>83</td>\n",
       "      <td>31</td>\n",
       "      <td>0</td>\n",
       "      <td>8</td>\n",
       "      <td>4</td>\n",
       "    </tr>\n",
       "    <tr>\n",
       "      <th>1</th>\n",
       "      <td>LALA</td>\n",
       "      <td>Myke Towers</td>\n",
       "      <td>1</td>\n",
       "      <td>2023</td>\n",
       "      <td>3</td>\n",
       "      <td>23</td>\n",
       "      <td>1474</td>\n",
       "      <td>48</td>\n",
       "      <td>133716286</td>\n",
       "      <td>48</td>\n",
       "      <td>...</td>\n",
       "      <td>92</td>\n",
       "      <td>C#</td>\n",
       "      <td>Major</td>\n",
       "      <td>71</td>\n",
       "      <td>61</td>\n",
       "      <td>74</td>\n",
       "      <td>7</td>\n",
       "      <td>0</td>\n",
       "      <td>10</td>\n",
       "      <td>4</td>\n",
       "    </tr>\n",
       "    <tr>\n",
       "      <th>2</th>\n",
       "      <td>vampire</td>\n",
       "      <td>Olivia Rodrigo</td>\n",
       "      <td>1</td>\n",
       "      <td>2023</td>\n",
       "      <td>6</td>\n",
       "      <td>30</td>\n",
       "      <td>1397</td>\n",
       "      <td>113</td>\n",
       "      <td>140003974</td>\n",
       "      <td>94</td>\n",
       "      <td>...</td>\n",
       "      <td>138</td>\n",
       "      <td>F</td>\n",
       "      <td>Major</td>\n",
       "      <td>51</td>\n",
       "      <td>32</td>\n",
       "      <td>53</td>\n",
       "      <td>17</td>\n",
       "      <td>0</td>\n",
       "      <td>31</td>\n",
       "      <td>6</td>\n",
       "    </tr>\n",
       "    <tr>\n",
       "      <th>3</th>\n",
       "      <td>Cruel Summer</td>\n",
       "      <td>Taylor Swift</td>\n",
       "      <td>1</td>\n",
       "      <td>2019</td>\n",
       "      <td>8</td>\n",
       "      <td>23</td>\n",
       "      <td>7858</td>\n",
       "      <td>100</td>\n",
       "      <td>800840817</td>\n",
       "      <td>116</td>\n",
       "      <td>...</td>\n",
       "      <td>170</td>\n",
       "      <td>A</td>\n",
       "      <td>Major</td>\n",
       "      <td>55</td>\n",
       "      <td>58</td>\n",
       "      <td>72</td>\n",
       "      <td>11</td>\n",
       "      <td>0</td>\n",
       "      <td>11</td>\n",
       "      <td>15</td>\n",
       "    </tr>\n",
       "    <tr>\n",
       "      <th>4</th>\n",
       "      <td>WHERE SHE GOES</td>\n",
       "      <td>Bad Bunny</td>\n",
       "      <td>1</td>\n",
       "      <td>2023</td>\n",
       "      <td>5</td>\n",
       "      <td>18</td>\n",
       "      <td>3133</td>\n",
       "      <td>50</td>\n",
       "      <td>303236322</td>\n",
       "      <td>84</td>\n",
       "      <td>...</td>\n",
       "      <td>144</td>\n",
       "      <td>A</td>\n",
       "      <td>Minor</td>\n",
       "      <td>65</td>\n",
       "      <td>23</td>\n",
       "      <td>80</td>\n",
       "      <td>14</td>\n",
       "      <td>63</td>\n",
       "      <td>11</td>\n",
       "      <td>6</td>\n",
       "    </tr>\n",
       "    <tr>\n",
       "      <th>...</th>\n",
       "      <td>...</td>\n",
       "      <td>...</td>\n",
       "      <td>...</td>\n",
       "      <td>...</td>\n",
       "      <td>...</td>\n",
       "      <td>...</td>\n",
       "      <td>...</td>\n",
       "      <td>...</td>\n",
       "      <td>...</td>\n",
       "      <td>...</td>\n",
       "      <td>...</td>\n",
       "      <td>...</td>\n",
       "      <td>...</td>\n",
       "      <td>...</td>\n",
       "      <td>...</td>\n",
       "      <td>...</td>\n",
       "      <td>...</td>\n",
       "      <td>...</td>\n",
       "      <td>...</td>\n",
       "      <td>...</td>\n",
       "      <td>...</td>\n",
       "    </tr>\n",
       "    <tr>\n",
       "      <th>948</th>\n",
       "      <td>My Mind &amp; Me</td>\n",
       "      <td>Selena Gomez</td>\n",
       "      <td>1</td>\n",
       "      <td>2022</td>\n",
       "      <td>11</td>\n",
       "      <td>3</td>\n",
       "      <td>953</td>\n",
       "      <td>0</td>\n",
       "      <td>91473363</td>\n",
       "      <td>61</td>\n",
       "      <td>...</td>\n",
       "      <td>144</td>\n",
       "      <td>A</td>\n",
       "      <td>Major</td>\n",
       "      <td>60</td>\n",
       "      <td>24</td>\n",
       "      <td>39</td>\n",
       "      <td>57</td>\n",
       "      <td>0</td>\n",
       "      <td>8</td>\n",
       "      <td>3</td>\n",
       "    </tr>\n",
       "    <tr>\n",
       "      <th>949</th>\n",
       "      <td>Bigger Than The Whole Sky</td>\n",
       "      <td>Taylor Swift</td>\n",
       "      <td>1</td>\n",
       "      <td>2022</td>\n",
       "      <td>10</td>\n",
       "      <td>21</td>\n",
       "      <td>1180</td>\n",
       "      <td>0</td>\n",
       "      <td>121871870</td>\n",
       "      <td>4</td>\n",
       "      <td>...</td>\n",
       "      <td>166</td>\n",
       "      <td>F#</td>\n",
       "      <td>Major</td>\n",
       "      <td>42</td>\n",
       "      <td>7</td>\n",
       "      <td>24</td>\n",
       "      <td>83</td>\n",
       "      <td>1</td>\n",
       "      <td>12</td>\n",
       "      <td>6</td>\n",
       "    </tr>\n",
       "    <tr>\n",
       "      <th>950</th>\n",
       "      <td>A Veces (feat. Feid)</td>\n",
       "      <td>Feid, Paulo Londra</td>\n",
       "      <td>2</td>\n",
       "      <td>2022</td>\n",
       "      <td>11</td>\n",
       "      <td>3</td>\n",
       "      <td>573</td>\n",
       "      <td>0</td>\n",
       "      <td>73513683</td>\n",
       "      <td>2</td>\n",
       "      <td>...</td>\n",
       "      <td>92</td>\n",
       "      <td>C#</td>\n",
       "      <td>Major</td>\n",
       "      <td>80</td>\n",
       "      <td>81</td>\n",
       "      <td>67</td>\n",
       "      <td>4</td>\n",
       "      <td>0</td>\n",
       "      <td>8</td>\n",
       "      <td>6</td>\n",
       "    </tr>\n",
       "    <tr>\n",
       "      <th>951</th>\n",
       "      <td>En La De Ella</td>\n",
       "      <td>Feid, Sech, Jhayco</td>\n",
       "      <td>3</td>\n",
       "      <td>2022</td>\n",
       "      <td>10</td>\n",
       "      <td>20</td>\n",
       "      <td>1320</td>\n",
       "      <td>0</td>\n",
       "      <td>133895612</td>\n",
       "      <td>29</td>\n",
       "      <td>...</td>\n",
       "      <td>97</td>\n",
       "      <td>C#</td>\n",
       "      <td>Major</td>\n",
       "      <td>82</td>\n",
       "      <td>67</td>\n",
       "      <td>77</td>\n",
       "      <td>8</td>\n",
       "      <td>0</td>\n",
       "      <td>12</td>\n",
       "      <td>5</td>\n",
       "    </tr>\n",
       "    <tr>\n",
       "      <th>952</th>\n",
       "      <td>Alone</td>\n",
       "      <td>Burna Boy</td>\n",
       "      <td>1</td>\n",
       "      <td>2022</td>\n",
       "      <td>11</td>\n",
       "      <td>4</td>\n",
       "      <td>782</td>\n",
       "      <td>2</td>\n",
       "      <td>96007391</td>\n",
       "      <td>27</td>\n",
       "      <td>...</td>\n",
       "      <td>90</td>\n",
       "      <td>E</td>\n",
       "      <td>Minor</td>\n",
       "      <td>61</td>\n",
       "      <td>32</td>\n",
       "      <td>67</td>\n",
       "      <td>15</td>\n",
       "      <td>0</td>\n",
       "      <td>11</td>\n",
       "      <td>5</td>\n",
       "    </tr>\n",
       "  </tbody>\n",
       "</table>\n",
       "<p>953 rows × 24 columns</p>\n",
       "</div>"
      ],
      "text/plain": [
       "                              track_name      artist(s)_name  artist_count  \\\n",
       "0    Seven (feat. Latto) (Explicit Ver.)    Latto, Jung Kook             2   \n",
       "1                                   LALA         Myke Towers             1   \n",
       "2                                vampire      Olivia Rodrigo             1   \n",
       "3                           Cruel Summer        Taylor Swift             1   \n",
       "4                         WHERE SHE GOES           Bad Bunny             1   \n",
       "..                                   ...                 ...           ...   \n",
       "948                         My Mind & Me        Selena Gomez             1   \n",
       "949            Bigger Than The Whole Sky        Taylor Swift             1   \n",
       "950                 A Veces (feat. Feid)  Feid, Paulo Londra             2   \n",
       "951                        En La De Ella  Feid, Sech, Jhayco             3   \n",
       "952                                Alone           Burna Boy             1   \n",
       "\n",
       "     released_year  released_month  released_day  in_spotify_playlists  \\\n",
       "0             2023               7            14                   553   \n",
       "1             2023               3            23                  1474   \n",
       "2             2023               6            30                  1397   \n",
       "3             2019               8            23                  7858   \n",
       "4             2023               5            18                  3133   \n",
       "..             ...             ...           ...                   ...   \n",
       "948           2022              11             3                   953   \n",
       "949           2022              10            21                  1180   \n",
       "950           2022              11             3                   573   \n",
       "951           2022              10            20                  1320   \n",
       "952           2022              11             4                   782   \n",
       "\n",
       "     in_spotify_charts    streams  in_apple_playlists  ...  bpm key   mode  \\\n",
       "0                  147  141381703                  43  ...  125   B  Major   \n",
       "1                   48  133716286                  48  ...   92  C#  Major   \n",
       "2                  113  140003974                  94  ...  138   F  Major   \n",
       "3                  100  800840817                 116  ...  170   A  Major   \n",
       "4                   50  303236322                  84  ...  144   A  Minor   \n",
       "..                 ...        ...                 ...  ...  ...  ..    ...   \n",
       "948                  0   91473363                  61  ...  144   A  Major   \n",
       "949                  0  121871870                   4  ...  166  F#  Major   \n",
       "950                  0   73513683                   2  ...   92  C#  Major   \n",
       "951                  0  133895612                  29  ...   97  C#  Major   \n",
       "952                  2   96007391                  27  ...   90   E  Minor   \n",
       "\n",
       "    danceability_%  valence_% energy_% acousticness_%  instrumentalness_%  \\\n",
       "0               80         89       83             31                   0   \n",
       "1               71         61       74              7                   0   \n",
       "2               51         32       53             17                   0   \n",
       "3               55         58       72             11                   0   \n",
       "4               65         23       80             14                  63   \n",
       "..             ...        ...      ...            ...                 ...   \n",
       "948             60         24       39             57                   0   \n",
       "949             42          7       24             83                   1   \n",
       "950             80         81       67              4                   0   \n",
       "951             82         67       77              8                   0   \n",
       "952             61         32       67             15                   0   \n",
       "\n",
       "     liveness_%  speechiness_%  \n",
       "0             8              4  \n",
       "1            10              4  \n",
       "2            31              6  \n",
       "3            11             15  \n",
       "4            11              6  \n",
       "..          ...            ...  \n",
       "948           8              3  \n",
       "949          12              6  \n",
       "950           8              6  \n",
       "951          12              5  \n",
       "952          11              5  \n",
       "\n",
       "[953 rows x 24 columns]"
      ]
     },
     "execution_count": 9,
     "metadata": {},
     "output_type": "execute_result"
    }
   ],
   "source": [
    "df_spotify = pd.read_csv('spotify-2023.csv', encoding='ISO-8859-1')\n",
    "df_spotify"
   ]
  },
  {
   "cell_type": "markdown",
   "id": "79a50c1b-e8ed-4322-8e7c-6b5289f7b562",
   "metadata": {},
   "source": [
    "##### To load the given dataset, which is a csv file, the pd.read_csv is used\n",
    "##### The encoding='ISO-8859-1' is also implemented as it would not load the file without it\n",
    "---"
   ]
  },
  {
   "cell_type": "markdown",
   "id": "4e0afdc2-c0a0-4de8-9d60-0d37f2e2a4d2",
   "metadata": {},
   "source": [
    "#### Viewing/Checking the data"
   ]
  },
  {
   "cell_type": "code",
   "execution_count": 12,
   "id": "72623047-908a-4919-8db3-942b979146ca",
   "metadata": {},
   "outputs": [
    {
     "name": "stdout",
     "output_type": "stream",
     "text": [
      "<class 'pandas.core.frame.DataFrame'>\n",
      "RangeIndex: 953 entries, 0 to 952\n",
      "Data columns (total 24 columns):\n",
      " #   Column                Non-Null Count  Dtype \n",
      "---  ------                --------------  ----- \n",
      " 0   track_name            953 non-null    object\n",
      " 1   artist(s)_name        953 non-null    object\n",
      " 2   artist_count          953 non-null    int64 \n",
      " 3   released_year         953 non-null    int64 \n",
      " 4   released_month        953 non-null    int64 \n",
      " 5   released_day          953 non-null    int64 \n",
      " 6   in_spotify_playlists  953 non-null    int64 \n",
      " 7   in_spotify_charts     953 non-null    int64 \n",
      " 8   streams               953 non-null    object\n",
      " 9   in_apple_playlists    953 non-null    int64 \n",
      " 10  in_apple_charts       953 non-null    int64 \n",
      " 11  in_deezer_playlists   953 non-null    object\n",
      " 12  in_deezer_charts      953 non-null    int64 \n",
      " 13  in_shazam_charts      903 non-null    object\n",
      " 14  bpm                   953 non-null    int64 \n",
      " 15  key                   858 non-null    object\n",
      " 16  mode                  953 non-null    object\n",
      " 17  danceability_%        953 non-null    int64 \n",
      " 18  valence_%             953 non-null    int64 \n",
      " 19  energy_%              953 non-null    int64 \n",
      " 20  acousticness_%        953 non-null    int64 \n",
      " 21  instrumentalness_%    953 non-null    int64 \n",
      " 22  liveness_%            953 non-null    int64 \n",
      " 23  speechiness_%         953 non-null    int64 \n",
      "dtypes: int64(17), object(7)\n",
      "memory usage: 178.8+ KB\n"
     ]
    }
   ],
   "source": [
    "df_spotify.info()"
   ]
  },
  {
   "cell_type": "markdown",
   "id": "1708d6d1-5350-4659-857f-e28939340076",
   "metadata": {},
   "source": [
    "##### Using .info() acquires the basic information of the data\n",
    "##### There are 953 rows and 24 columns. \n",
    "##### The datatype for the streams in_deezer_playlists, and in_shazam_charts columns are also incorrectly detected as an object\n",
    "---"
   ]
  },
  {
   "cell_type": "markdown",
   "id": "51625d57-ee18-49f1-a349-6e3fc3e00fcd",
   "metadata": {},
   "source": [
    "### Cleaning/Fixing the dataset"
   ]
  },
  {
   "cell_type": "markdown",
   "id": "f079b8c8-284f-4115-ae15-b8f3f95fc918",
   "metadata": {},
   "source": [
    "#### Fixing the datatypes for streams, in_deezer_playlists, and in_shazam_charts"
   ]
  },
  {
   "cell_type": "markdown",
   "id": "e3992aee-864c-454a-82d1-c1f27dc6f207",
   "metadata": {},
   "source": [
    "##### For the streams columns"
   ]
  },
  {
   "cell_type": "code",
   "execution_count": 17,
   "id": "e07843d1-2b56-48d2-a5b4-503a81bfdafc",
   "metadata": {},
   "outputs": [
    {
     "data": {
      "text/plain": [
       "'BPM110KeyAModeMajorDanceability53Valence75Energy69Acousticness7Instrumentalness0Liveness17Speechiness3'"
      ]
     },
     "execution_count": 17,
     "metadata": {},
     "output_type": "execute_result"
    }
   ],
   "source": [
    "df_spotify['streams'].iloc[574]"
   ]
  },
  {
   "cell_type": "code",
   "execution_count": 18,
   "id": "da40c4a3-ab90-4eea-972f-d512cc67223b",
   "metadata": {},
   "outputs": [
    {
     "data": {
      "text/plain": [
       "0      141381703.0\n",
       "1      133716286.0\n",
       "2      140003974.0\n",
       "3      800840817.0\n",
       "4      303236322.0\n",
       "          ...     \n",
       "948     91473363.0\n",
       "949    121871870.0\n",
       "950     73513683.0\n",
       "951    133895612.0\n",
       "952     96007391.0\n",
       "Name: streams, Length: 953, dtype: float64"
      ]
     },
     "execution_count": 18,
     "metadata": {},
     "output_type": "execute_result"
    }
   ],
   "source": [
    "df_spotify['streams'] = pd.to_numeric(df_spotify['streams'], errors = 'coerce')\n",
    "df_spotify['streams']"
   ]
  },
  {
   "cell_type": "code",
   "execution_count": 19,
   "id": "269b2df3-fb50-4175-9fb2-5ca396c4a7b1",
   "metadata": {},
   "outputs": [
    {
     "data": {
      "text/plain": [
       "nan"
      ]
     },
     "execution_count": 19,
     "metadata": {},
     "output_type": "execute_result"
    }
   ],
   "source": [
    "df_spotify['streams'].iloc[574]"
   ]
  },
  {
   "cell_type": "markdown",
   "id": "e222d371-cac2-4651-bf2f-c1a6cea98d7c",
   "metadata": {},
   "source": [
    "##### Used errors = 'coerce' as without it, it wouldn't be able to convert the 574th row in to a numerical value\n",
    "##### The value of the 574th row of streams is converted to Nan and is now missing\n",
    "##### It used to store the values of the other columns related to the row of the song which was 'Love Grows (Where My Rosemary Goes)' by Edison Lighthouse\n",
    "##### It used to have 'BPM110KeyAModeMajorDanceability53Valence75Energy69Acousticness7Instrumentalness0Liveness17Speechiness3'\n",
    "#####\n",
    "##### Upon researching, the original song has about 276,093,748\taccumulated streams and is being streamed daily by 168,328 on 2024/10/16 which was 290 days since 2023\n",
    "##### Subtracting 276,093,748 by 168,000 multiplied by 290 to account for the extra days, we get 227,373,748 streams\n",
    "##### We should now store this value in that row as done below,"
   ]
  },
  {
   "cell_type": "code",
   "execution_count": 21,
   "id": "114962d1-1489-47cb-849b-53629be7d2ca",
   "metadata": {},
   "outputs": [
    {
     "data": {
      "text/plain": [
       "227373748.0"
      ]
     },
     "execution_count": 21,
     "metadata": {},
     "output_type": "execute_result"
    }
   ],
   "source": [
    "df_spotify.at[574, 'streams'] = 227373748\n",
    "df_spotify['streams'].iloc[574]"
   ]
  },
  {
   "cell_type": "markdown",
   "id": "974fc1df-7311-41e1-a3d2-bf0535304465",
   "metadata": {},
   "source": [
    "#### For the in_deezer_playlists columns"
   ]
  },
  {
   "cell_type": "code",
   "execution_count": 23,
   "id": "7bb7f281-fae4-4849-86ac-42c18a840533",
   "metadata": {},
   "outputs": [
    {
     "data": {
      "text/plain": [
       "'2,445'"
      ]
     },
     "execution_count": 23,
     "metadata": {},
     "output_type": "execute_result"
    }
   ],
   "source": [
    "df_spotify['in_deezer_playlists'].iloc[48]"
   ]
  },
  {
   "cell_type": "code",
   "execution_count": 24,
   "id": "cdd10f24-c341-4a7d-8751-da9d60bb2571",
   "metadata": {},
   "outputs": [
    {
     "data": {
      "text/plain": [
       "0       45\n",
       "1       58\n",
       "2       91\n",
       "3      125\n",
       "4       87\n",
       "      ... \n",
       "948     37\n",
       "949      8\n",
       "950      7\n",
       "951     17\n",
       "952     32\n",
       "Name: in_deezer_playlists, Length: 953, dtype: int32"
      ]
     },
     "execution_count": 24,
     "metadata": {},
     "output_type": "execute_result"
    }
   ],
   "source": [
    "df_spotify['in_deezer_playlists'] = df_spotify['in_deezer_playlists'].str.replace(\",\",\"\").astype(int)\n",
    "df_spotify['in_deezer_playlists']"
   ]
  },
  {
   "cell_type": "code",
   "execution_count": 25,
   "id": "7a7c662b-8826-4c13-9a87-35fc3d233f13",
   "metadata": {},
   "outputs": [
    {
     "data": {
      "text/plain": [
       "2445"
      ]
     },
     "execution_count": 25,
     "metadata": {},
     "output_type": "execute_result"
    }
   ],
   "source": [
    "df_spotify['in_deezer_playlists'].iloc[48]"
   ]
  },
  {
   "cell_type": "markdown",
   "id": "cbef6964-5c8c-4e60-8f30-faa83452b53f",
   "metadata": {},
   "source": [
    "##### The in_deezer_playlists contains numbers with commas and that is probably the reason it detected as an object\n",
    "##### replacing all the commas with a space using .str.replace(\",\"\") ensuring that it can be all converted into numerical values\n",
    "##### The astype(float) is used to convert all the values in to column to become the float datatype\n",
    "#####"
   ]
  },
  {
   "cell_type": "markdown",
   "id": "7510911f-d22d-4f35-b2cc-222aeb863931",
   "metadata": {},
   "source": [
    "#### For the in_shazam_charts"
   ]
  },
  {
   "cell_type": "markdown",
   "id": "34e1cb47-17bb-43b5-8c05-771939223212",
   "metadata": {},
   "source": [
    "##### It has the same problem with the 'in_deezer_playlists' column so we just need to repeat the process before"
   ]
  },
  {
   "cell_type": "code",
   "execution_count": 29,
   "id": "7e310e0a-f7c1-4bf6-b537-9e66480c016d",
   "metadata": {},
   "outputs": [
    {
     "data": {
      "text/plain": [
       "'1,021'"
      ]
     },
     "execution_count": 29,
     "metadata": {},
     "output_type": "execute_result"
    }
   ],
   "source": [
    "df_spotify['in_shazam_charts'].iloc[12]"
   ]
  },
  {
   "cell_type": "code",
   "execution_count": 30,
   "id": "a0dfdfcc-8dee-493f-913c-9188015d8b94",
   "metadata": {},
   "outputs": [
    {
     "data": {
      "text/plain": [
       "0      826.0\n",
       "1      382.0\n",
       "2      949.0\n",
       "3      548.0\n",
       "4      425.0\n",
       "       ...  \n",
       "948      0.0\n",
       "949      0.0\n",
       "950      0.0\n",
       "951      0.0\n",
       "952      0.0\n",
       "Name: in_shazam_charts, Length: 953, dtype: float64"
      ]
     },
     "execution_count": 30,
     "metadata": {},
     "output_type": "execute_result"
    }
   ],
   "source": [
    "df_spotify['in_shazam_charts'] = df_spotify['in_shazam_charts'].str.replace(\",\",\"\").astype(float)\n",
    "df_spotify['in_shazam_charts']"
   ]
  },
  {
   "cell_type": "code",
   "execution_count": 31,
   "id": "89513928-e5f2-4ba3-a923-2ed87e21a799",
   "metadata": {},
   "outputs": [
    {
     "data": {
      "text/plain": [
       "1021.0"
      ]
     },
     "execution_count": 31,
     "metadata": {},
     "output_type": "execute_result"
    }
   ],
   "source": [
    "df_spotify['in_shazam_charts'].iloc[12]"
   ]
  },
  {
   "cell_type": "markdown",
   "id": "7a60822c-3a1d-4a13-8f7b-9b72a49299de",
   "metadata": {},
   "source": [
    "---\n",
    "#### Handling duplicate tracks & values"
   ]
  },
  {
   "cell_type": "markdown",
   "id": "21b710ff-3439-4f59-af24-634c803febff",
   "metadata": {},
   "source": [
    "##### To check for duplicates the .duplicated command is used and since there are no exact duplicate of rows, only track names and artists,\n",
    "##### the .duplicated command has an added condition as (['track_name','artist(s)_name'])]\n",
    "#####"
   ]
  },
  {
   "cell_type": "code",
   "execution_count": 34,
   "id": "b5d363ef-4336-4449-b6c4-01d66d2501a8",
   "metadata": {},
   "outputs": [
    {
     "name": "stdout",
     "output_type": "stream",
     "text": [
      "The duplicate tracks that is in the dataseet are \n",
      "\n",
      "           track_name artist(s)_name  artist_count  released_year  \\\n",
      "482  SPIT IN MY FACE!       ThxSoMch             1           2022   \n",
      "616    Take My Breath     The Weeknd             1           2021   \n",
      "764   About Damn Time          Lizzo             1           2022   \n",
      "873              SNAP      Rosa Linn             1           2022   \n",
      "\n",
      "     released_month  released_day  in_spotify_playlists  in_spotify_charts  \\\n",
      "482              10            31                   573                  0   \n",
      "616               8             6                  6392                  0   \n",
      "764               4            14                  9021                  0   \n",
      "873               3            19                  1818                  0   \n",
      "\n",
      "         streams  in_apple_playlists  ...  bpm  key   mode  danceability_%  \\\n",
      "482  301869854.0                   1  ...  166   C#  Major              70   \n",
      "616  432702334.0                 174  ...  121   G#  Major              75   \n",
      "764  723894473.0                 242  ...  109   A#  Minor              84   \n",
      "873  711366595.0                   3  ...  170  NaN  Major              56   \n",
      "\n",
      "     valence_% energy_% acousticness_%  instrumentalness_%  liveness_%  \\\n",
      "482         57       57              9                  20          11   \n",
      "616         53       74              2                   0          11   \n",
      "764         72       74             10                   0          34   \n",
      "873         52       64             11                   0          45   \n",
      "\n",
      "     speechiness_%  \n",
      "482              7  \n",
      "616              5  \n",
      "764              7  \n",
      "873              7  \n",
      "\n",
      "[4 rows x 24 columns]\n"
     ]
    }
   ],
   "source": [
    "duplicate_tracks = df_spotify[df_spotify.duplicated(['track_name','artist(s)_name'])]\n",
    "\n",
    "print(\"The duplicate tracks that is in the dataseet are \")\n",
    "print()\n",
    "print(duplicate_tracks)"
   ]
  },
  {
   "cell_type": "markdown",
   "id": "35aba23a-9890-48e2-a593-6ff5fab9dae9",
   "metadata": {},
   "source": [
    "#####\n",
    "##### The duplicated tracks are probably due to re-releases and source data anomalies such as data entry errors or data collection methods\n",
    "##### Since the duplicated tracks are only 4, these tracks should be dropped and the their first instance should be kept\n",
    "#####"
   ]
  },
  {
   "cell_type": "code",
   "execution_count": 36,
   "id": "4dd099e9-c9f5-4d18-82cb-a7ef5d9c5bce",
   "metadata": {},
   "outputs": [
    {
     "name": "stdout",
     "output_type": "stream",
     "text": [
      "Empty DataFrame\n",
      "Columns: [track_name, artist(s)_name, artist_count, released_year, released_month, released_day, in_spotify_playlists, in_spotify_charts, streams, in_apple_playlists, in_apple_charts, in_deezer_playlists, in_deezer_charts, in_shazam_charts, bpm, key, mode, danceability_%, valence_%, energy_%, acousticness_%, instrumentalness_%, liveness_%, speechiness_%]\n",
      "Index: []\n",
      "\n",
      "[0 rows x 24 columns]\n"
     ]
    }
   ],
   "source": [
    "df_spotify = df_spotify.drop_duplicates([\"track_name\",\"artist(s)_name\"])\n",
    "duplicate_tracks = df_spotify[df_spotify.duplicated([\"track_name\",\"artist(s)_name\"])]\n",
    "print(duplicate_tracks)"
   ]
  },
  {
   "cell_type": "markdown",
   "id": "a0607132-26bb-4b7c-b3ed-a53f87f7ddb4",
   "metadata": {},
   "source": [
    "##### Checking for the kept instances of dropped duplicates"
   ]
  },
  {
   "cell_type": "code",
   "execution_count": 38,
   "id": "b63d86a2-8ce4-46eb-ade7-127a4c83e990",
   "metadata": {},
   "outputs": [
    {
     "data": {
      "text/html": [
       "<div>\n",
       "<style scoped>\n",
       "    .dataframe tbody tr th:only-of-type {\n",
       "        vertical-align: middle;\n",
       "    }\n",
       "\n",
       "    .dataframe tbody tr th {\n",
       "        vertical-align: top;\n",
       "    }\n",
       "\n",
       "    .dataframe thead th {\n",
       "        text-align: right;\n",
       "    }\n",
       "</style>\n",
       "<table border=\"1\" class=\"dataframe\">\n",
       "  <thead>\n",
       "    <tr style=\"text-align: right;\">\n",
       "      <th></th>\n",
       "      <th>track_name</th>\n",
       "      <th>artist(s)_name</th>\n",
       "      <th>artist_count</th>\n",
       "      <th>released_year</th>\n",
       "      <th>released_month</th>\n",
       "      <th>released_day</th>\n",
       "      <th>in_spotify_playlists</th>\n",
       "      <th>in_spotify_charts</th>\n",
       "      <th>streams</th>\n",
       "      <th>in_apple_playlists</th>\n",
       "      <th>...</th>\n",
       "      <th>bpm</th>\n",
       "      <th>key</th>\n",
       "      <th>mode</th>\n",
       "      <th>danceability_%</th>\n",
       "      <th>valence_%</th>\n",
       "      <th>energy_%</th>\n",
       "      <th>acousticness_%</th>\n",
       "      <th>instrumentalness_%</th>\n",
       "      <th>liveness_%</th>\n",
       "      <th>speechiness_%</th>\n",
       "    </tr>\n",
       "  </thead>\n",
       "  <tbody>\n",
       "    <tr>\n",
       "      <th>345</th>\n",
       "      <td>SPIT IN MY FACE!</td>\n",
       "      <td>ThxSoMch</td>\n",
       "      <td>1</td>\n",
       "      <td>2022</td>\n",
       "      <td>10</td>\n",
       "      <td>31</td>\n",
       "      <td>629</td>\n",
       "      <td>14</td>\n",
       "      <td>303216294.0</td>\n",
       "      <td>32</td>\n",
       "      <td>...</td>\n",
       "      <td>94</td>\n",
       "      <td>G#</td>\n",
       "      <td>Major</td>\n",
       "      <td>73</td>\n",
       "      <td>65</td>\n",
       "      <td>79</td>\n",
       "      <td>5</td>\n",
       "      <td>2</td>\n",
       "      <td>11</td>\n",
       "      <td>6</td>\n",
       "    </tr>\n",
       "  </tbody>\n",
       "</table>\n",
       "<p>1 rows × 24 columns</p>\n",
       "</div>"
      ],
      "text/plain": [
       "           track_name artist(s)_name  artist_count  released_year  \\\n",
       "345  SPIT IN MY FACE!       ThxSoMch             1           2022   \n",
       "\n",
       "     released_month  released_day  in_spotify_playlists  in_spotify_charts  \\\n",
       "345              10            31                   629                 14   \n",
       "\n",
       "         streams  in_apple_playlists  ...  bpm  key   mode  danceability_%  \\\n",
       "345  303216294.0                  32  ...   94   G#  Major              73   \n",
       "\n",
       "     valence_% energy_% acousticness_%  instrumentalness_%  liveness_%  \\\n",
       "345         65       79              5                   2          11   \n",
       "\n",
       "     speechiness_%  \n",
       "345              6  \n",
       "\n",
       "[1 rows x 24 columns]"
      ]
     },
     "execution_count": 38,
     "metadata": {},
     "output_type": "execute_result"
    }
   ],
   "source": [
    "df_spotify.loc[(df_spotify['track_name']=='SPIT IN MY FACE!')&(df_spotify['artist(s)_name']=='ThxSoMch')]"
   ]
  },
  {
   "cell_type": "code",
   "execution_count": 39,
   "id": "04df5bbf-70d7-4b7c-adfc-fae9329d1ca0",
   "metadata": {},
   "outputs": [
    {
     "data": {
      "text/html": [
       "<div>\n",
       "<style scoped>\n",
       "    .dataframe tbody tr th:only-of-type {\n",
       "        vertical-align: middle;\n",
       "    }\n",
       "\n",
       "    .dataframe tbody tr th {\n",
       "        vertical-align: top;\n",
       "    }\n",
       "\n",
       "    .dataframe thead th {\n",
       "        text-align: right;\n",
       "    }\n",
       "</style>\n",
       "<table border=\"1\" class=\"dataframe\">\n",
       "  <thead>\n",
       "    <tr style=\"text-align: right;\">\n",
       "      <th></th>\n",
       "      <th>track_name</th>\n",
       "      <th>artist(s)_name</th>\n",
       "      <th>artist_count</th>\n",
       "      <th>released_year</th>\n",
       "      <th>released_month</th>\n",
       "      <th>released_day</th>\n",
       "      <th>in_spotify_playlists</th>\n",
       "      <th>in_spotify_charts</th>\n",
       "      <th>streams</th>\n",
       "      <th>in_apple_playlists</th>\n",
       "      <th>...</th>\n",
       "      <th>bpm</th>\n",
       "      <th>key</th>\n",
       "      <th>mode</th>\n",
       "      <th>danceability_%</th>\n",
       "      <th>valence_%</th>\n",
       "      <th>energy_%</th>\n",
       "      <th>acousticness_%</th>\n",
       "      <th>instrumentalness_%</th>\n",
       "      <th>liveness_%</th>\n",
       "      <th>speechiness_%</th>\n",
       "    </tr>\n",
       "  </thead>\n",
       "  <tbody>\n",
       "    <tr>\n",
       "      <th>512</th>\n",
       "      <td>Take My Breath</td>\n",
       "      <td>The Weeknd</td>\n",
       "      <td>1</td>\n",
       "      <td>2021</td>\n",
       "      <td>8</td>\n",
       "      <td>6</td>\n",
       "      <td>2597</td>\n",
       "      <td>0</td>\n",
       "      <td>130655803.0</td>\n",
       "      <td>17</td>\n",
       "      <td>...</td>\n",
       "      <td>121</td>\n",
       "      <td>A#</td>\n",
       "      <td>Minor</td>\n",
       "      <td>70</td>\n",
       "      <td>35</td>\n",
       "      <td>77</td>\n",
       "      <td>1</td>\n",
       "      <td>0</td>\n",
       "      <td>26</td>\n",
       "      <td>4</td>\n",
       "    </tr>\n",
       "  </tbody>\n",
       "</table>\n",
       "<p>1 rows × 24 columns</p>\n",
       "</div>"
      ],
      "text/plain": [
       "         track_name artist(s)_name  artist_count  released_year  \\\n",
       "512  Take My Breath     The Weeknd             1           2021   \n",
       "\n",
       "     released_month  released_day  in_spotify_playlists  in_spotify_charts  \\\n",
       "512               8             6                  2597                  0   \n",
       "\n",
       "         streams  in_apple_playlists  ...  bpm  key   mode  danceability_%  \\\n",
       "512  130655803.0                  17  ...  121   A#  Minor              70   \n",
       "\n",
       "     valence_% energy_% acousticness_%  instrumentalness_%  liveness_%  \\\n",
       "512         35       77              1                   0          26   \n",
       "\n",
       "     speechiness_%  \n",
       "512              4  \n",
       "\n",
       "[1 rows x 24 columns]"
      ]
     },
     "execution_count": 39,
     "metadata": {},
     "output_type": "execute_result"
    }
   ],
   "source": [
    "df_spotify.loc[(df_spotify['track_name']=='Take My Breath')&(df_spotify['artist(s)_name']=='The Weeknd')]"
   ]
  },
  {
   "cell_type": "code",
   "execution_count": 40,
   "id": "98e146c4-15af-4de9-af06-a967df820db1",
   "metadata": {},
   "outputs": [
    {
     "data": {
      "text/html": [
       "<div>\n",
       "<style scoped>\n",
       "    .dataframe tbody tr th:only-of-type {\n",
       "        vertical-align: middle;\n",
       "    }\n",
       "\n",
       "    .dataframe tbody tr th {\n",
       "        vertical-align: top;\n",
       "    }\n",
       "\n",
       "    .dataframe thead th {\n",
       "        text-align: right;\n",
       "    }\n",
       "</style>\n",
       "<table border=\"1\" class=\"dataframe\">\n",
       "  <thead>\n",
       "    <tr style=\"text-align: right;\">\n",
       "      <th></th>\n",
       "      <th>track_name</th>\n",
       "      <th>artist(s)_name</th>\n",
       "      <th>artist_count</th>\n",
       "      <th>released_year</th>\n",
       "      <th>released_month</th>\n",
       "      <th>released_day</th>\n",
       "      <th>in_spotify_playlists</th>\n",
       "      <th>in_spotify_charts</th>\n",
       "      <th>streams</th>\n",
       "      <th>in_apple_playlists</th>\n",
       "      <th>...</th>\n",
       "      <th>bpm</th>\n",
       "      <th>key</th>\n",
       "      <th>mode</th>\n",
       "      <th>danceability_%</th>\n",
       "      <th>valence_%</th>\n",
       "      <th>energy_%</th>\n",
       "      <th>acousticness_%</th>\n",
       "      <th>instrumentalness_%</th>\n",
       "      <th>liveness_%</th>\n",
       "      <th>speechiness_%</th>\n",
       "    </tr>\n",
       "  </thead>\n",
       "  <tbody>\n",
       "    <tr>\n",
       "      <th>372</th>\n",
       "      <td>About Damn Time</td>\n",
       "      <td>Lizzo</td>\n",
       "      <td>1</td>\n",
       "      <td>2022</td>\n",
       "      <td>7</td>\n",
       "      <td>15</td>\n",
       "      <td>2332</td>\n",
       "      <td>2</td>\n",
       "      <td>723894473.0</td>\n",
       "      <td>0</td>\n",
       "      <td>...</td>\n",
       "      <td>109</td>\n",
       "      <td>A#</td>\n",
       "      <td>Minor</td>\n",
       "      <td>84</td>\n",
       "      <td>72</td>\n",
       "      <td>74</td>\n",
       "      <td>10</td>\n",
       "      <td>0</td>\n",
       "      <td>34</td>\n",
       "      <td>7</td>\n",
       "    </tr>\n",
       "  </tbody>\n",
       "</table>\n",
       "<p>1 rows × 24 columns</p>\n",
       "</div>"
      ],
      "text/plain": [
       "          track_name artist(s)_name  artist_count  released_year  \\\n",
       "372  About Damn Time          Lizzo             1           2022   \n",
       "\n",
       "     released_month  released_day  in_spotify_playlists  in_spotify_charts  \\\n",
       "372               7            15                  2332                  2   \n",
       "\n",
       "         streams  in_apple_playlists  ...  bpm  key   mode  danceability_%  \\\n",
       "372  723894473.0                   0  ...  109   A#  Minor              84   \n",
       "\n",
       "     valence_% energy_% acousticness_%  instrumentalness_%  liveness_%  \\\n",
       "372         72       74             10                   0          34   \n",
       "\n",
       "     speechiness_%  \n",
       "372              7  \n",
       "\n",
       "[1 rows x 24 columns]"
      ]
     },
     "execution_count": 40,
     "metadata": {},
     "output_type": "execute_result"
    }
   ],
   "source": [
    "df_spotify.loc[(df_spotify['track_name']=='About Damn Time')&(df_spotify['artist(s)_name']=='Lizzo')]"
   ]
  },
  {
   "cell_type": "code",
   "execution_count": 41,
   "id": "6277006b-2f7e-4a6c-a9de-3a0d3170c9eb",
   "metadata": {},
   "outputs": [
    {
     "data": {
      "text/html": [
       "<div>\n",
       "<style scoped>\n",
       "    .dataframe tbody tr th:only-of-type {\n",
       "        vertical-align: middle;\n",
       "    }\n",
       "\n",
       "    .dataframe tbody tr th {\n",
       "        vertical-align: top;\n",
       "    }\n",
       "\n",
       "    .dataframe thead th {\n",
       "        text-align: right;\n",
       "    }\n",
       "</style>\n",
       "<table border=\"1\" class=\"dataframe\">\n",
       "  <thead>\n",
       "    <tr style=\"text-align: right;\">\n",
       "      <th></th>\n",
       "      <th>track_name</th>\n",
       "      <th>artist(s)_name</th>\n",
       "      <th>artist_count</th>\n",
       "      <th>released_year</th>\n",
       "      <th>released_month</th>\n",
       "      <th>released_day</th>\n",
       "      <th>in_spotify_playlists</th>\n",
       "      <th>in_spotify_charts</th>\n",
       "      <th>streams</th>\n",
       "      <th>in_apple_playlists</th>\n",
       "      <th>...</th>\n",
       "      <th>bpm</th>\n",
       "      <th>key</th>\n",
       "      <th>mode</th>\n",
       "      <th>danceability_%</th>\n",
       "      <th>valence_%</th>\n",
       "      <th>energy_%</th>\n",
       "      <th>acousticness_%</th>\n",
       "      <th>instrumentalness_%</th>\n",
       "      <th>liveness_%</th>\n",
       "      <th>speechiness_%</th>\n",
       "    </tr>\n",
       "  </thead>\n",
       "  <tbody>\n",
       "    <tr>\n",
       "      <th>178</th>\n",
       "      <td>SNAP</td>\n",
       "      <td>Rosa Linn</td>\n",
       "      <td>1</td>\n",
       "      <td>2022</td>\n",
       "      <td>3</td>\n",
       "      <td>19</td>\n",
       "      <td>3202</td>\n",
       "      <td>18</td>\n",
       "      <td>726307468.0</td>\n",
       "      <td>148</td>\n",
       "      <td>...</td>\n",
       "      <td>170</td>\n",
       "      <td>NaN</td>\n",
       "      <td>Major</td>\n",
       "      <td>56</td>\n",
       "      <td>53</td>\n",
       "      <td>64</td>\n",
       "      <td>11</td>\n",
       "      <td>0</td>\n",
       "      <td>45</td>\n",
       "      <td>6</td>\n",
       "    </tr>\n",
       "  </tbody>\n",
       "</table>\n",
       "<p>1 rows × 24 columns</p>\n",
       "</div>"
      ],
      "text/plain": [
       "    track_name artist(s)_name  artist_count  released_year  released_month  \\\n",
       "178       SNAP      Rosa Linn             1           2022               3   \n",
       "\n",
       "     released_day  in_spotify_playlists  in_spotify_charts      streams  \\\n",
       "178            19                  3202                 18  726307468.0   \n",
       "\n",
       "     in_apple_playlists  ...  bpm  key   mode  danceability_%  valence_%  \\\n",
       "178                 148  ...  170  NaN  Major              56         53   \n",
       "\n",
       "    energy_% acousticness_%  instrumentalness_%  liveness_%  speechiness_%  \n",
       "178       64             11                   0          45              6  \n",
       "\n",
       "[1 rows x 24 columns]"
      ]
     },
     "execution_count": 41,
     "metadata": {},
     "output_type": "execute_result"
    }
   ],
   "source": [
    "df_spotify.loc[(df_spotify['track_name']=='SNAP')&(df_spotify['artist(s)_name']=='Rosa Linn')]"
   ]
  },
  {
   "cell_type": "markdown",
   "id": "b1987e93-7703-4faf-bd26-28bb21a921df",
   "metadata": {},
   "source": [
    "---\n",
    "#### Handling Missing Values"
   ]
  },
  {
   "cell_type": "markdown",
   "id": "1bd08ce0-75d3-44c2-a69e-c05a168467ac",
   "metadata": {},
   "source": [
    "##### To check for missing values, .isna() returns a bool value, it returns true if the value in a specific column is missing or null\n",
    "##### .sum() makes it so that it counts all the times .isna() returns true in their respective columns\n",
    "##### VTo see the specific columns that have missing values, the missing_values>0 condition is used so it only prints those who have missing values"
   ]
  },
  {
   "cell_type": "code",
   "execution_count": 44,
   "id": "edd41e58-8745-4cd0-b852-914261312ec0",
   "metadata": {},
   "outputs": [
    {
     "name": "stdout",
     "output_type": "stream",
     "text": [
      "The columns that have missing values in the dataset are \n",
      "\n",
      "in_shazam_charts    50\n",
      "key                 94\n",
      "dtype: int64\n"
     ]
    }
   ],
   "source": [
    "missing_values = df_spotify.isna().sum()\n",
    "\n",
    "print(\"The columns that have missing values in the dataset are \")\n",
    "print()\n",
    "print(missing_values[missing_values>0])"
   ]
  },
  {
   "cell_type": "markdown",
   "id": "85770627-5ed8-4cdf-a0ec-fa06068d22c0",
   "metadata": {},
   "source": [
    "##### Since the missing values are lesser than 10% of the population, we may use imputation methods to replace them.\n",
    "##### Except for the cases of the missing values of the key column as they are specific to their own song, an object datatype, and almost has 10% missing\n",
    "##### We will drop the rows with missing key values\n",
    "##### \n",
    "##### Upon further research, it would seem that most data analysis algorithms/software assumes that data are missing completely at random.\n",
    "##### For the missing values in the in_shazam_charts, I opted to use the median imputation method \n",
    "##### as it makes the assumption that the data is missing completely at random"
   ]
  },
  {
   "cell_type": "code",
   "execution_count": 46,
   "id": "016bae67-b712-4fe6-b585-26bb7447dce2",
   "metadata": {},
   "outputs": [
    {
     "name": "stderr",
     "output_type": "stream",
     "text": [
      "C:\\Users\\Angelo Bon-ao\\AppData\\Local\\Temp\\ipykernel_27100\\3622115646.py:1: SettingWithCopyWarning: \n",
      "A value is trying to be set on a copy of a slice from a DataFrame\n",
      "\n",
      "See the caveats in the documentation: https://pandas.pydata.org/pandas-docs/stable/user_guide/indexing.html#returning-a-view-versus-a-copy\n",
      "  df_spotify.dropna(subset=['key'], inplace=True)\n"
     ]
    }
   ],
   "source": [
    "df_spotify.dropna(subset=['key'], inplace=True)"
   ]
  },
  {
   "cell_type": "code",
   "execution_count": 47,
   "id": "bf7ffbd8-adb6-4c33-ae37-5c9e70af2d40",
   "metadata": {},
   "outputs": [
    {
     "name": "stdout",
     "output_type": "stream",
     "text": [
      "The updated missing values are now \n",
      "\n",
      "in_shazam_charts    41\n",
      "dtype: int64\n"
     ]
    }
   ],
   "source": [
    "missing_values = df_spotify.isna().sum()\n",
    "print(\"The updated missing values are now \")\n",
    "print()\n",
    "print(missing_values[missing_values>0])"
   ]
  },
  {
   "cell_type": "markdown",
   "id": "dfae00fa-a467-451c-a770-ae01346bdb1c",
   "metadata": {},
   "source": [
    "##### Now that the rows with missing key values are gone, the missing values for in_shazam_charts have also lessened\n",
    "##### Making the median imputation safer to execute as it will have less impact to the entire population while retaining the song's other factors"
   ]
  },
  {
   "cell_type": "code",
   "execution_count": 49,
   "id": "e1c6a58b-2512-4877-b5cb-2df4e5638367",
   "metadata": {},
   "outputs": [
    {
     "data": {
      "text/plain": [
       "\"The median value of the 'in_shazam_charts' is 2.5\""
      ]
     },
     "execution_count": 49,
     "metadata": {},
     "output_type": "execute_result"
    }
   ],
   "source": [
    "shazam_median = df_spotify['in_shazam_charts'].median()\n",
    "f\"The median value of the 'in_shazam_charts' is {shazam_median}\""
   ]
  },
  {
   "cell_type": "code",
   "execution_count": 50,
   "id": "7baa2700-7804-4e9f-9995-19e0907bc61c",
   "metadata": {},
   "outputs": [
    {
     "name": "stderr",
     "output_type": "stream",
     "text": [
      "C:\\Users\\Angelo Bon-ao\\AppData\\Local\\Temp\\ipykernel_27100\\3851771827.py:1: FutureWarning: A value is trying to be set on a copy of a DataFrame or Series through chained assignment using an inplace method.\n",
      "The behavior will change in pandas 3.0. This inplace method will never work because the intermediate object on which we are setting values always behaves as a copy.\n",
      "\n",
      "For example, when doing 'df[col].method(value, inplace=True)', try using 'df.method({col: value}, inplace=True)' or df[col] = df[col].method(value) instead, to perform the operation inplace on the original object.\n",
      "\n",
      "\n",
      "  df_spotify['in_shazam_charts'].fillna(shazam_median, inplace=True)\n",
      "C:\\Users\\Angelo Bon-ao\\AppData\\Local\\Temp\\ipykernel_27100\\3851771827.py:1: SettingWithCopyWarning: \n",
      "A value is trying to be set on a copy of a slice from a DataFrame\n",
      "\n",
      "See the caveats in the documentation: https://pandas.pydata.org/pandas-docs/stable/user_guide/indexing.html#returning-a-view-versus-a-copy\n",
      "  df_spotify['in_shazam_charts'].fillna(shazam_median, inplace=True)\n"
     ]
    }
   ],
   "source": [
    "df_spotify['in_shazam_charts'].fillna(shazam_median, inplace=True)"
   ]
  },
  {
   "cell_type": "markdown",
   "id": "c9a0d3e6-dc7a-4a4c-9da1-c253151ebdb7",
   "metadata": {},
   "source": [
    "##### .fillna() is used to fill all nan values with something else such as the shazam_median,\n",
    "##### and inplace=True makes it so that the action is done to the original dataframe and not in a seperate copy\n",
    "##### Lastly, we should reset the index as many rows were dropped from the original dataframe"
   ]
  },
  {
   "cell_type": "code",
   "execution_count": 52,
   "id": "d82fca5a-b86b-4246-a403-47e2e9d3c2e4",
   "metadata": {},
   "outputs": [],
   "source": [
    "df_spotify = df_spotify.reset_index(drop=True)"
   ]
  },
  {
   "cell_type": "code",
   "execution_count": 53,
   "id": "86e3359e-c79d-405d-a870-c350dd72cf5d",
   "metadata": {},
   "outputs": [
    {
     "data": {
      "text/plain": [
       "track_name              0\n",
       "artist(s)_name          0\n",
       "artist_count            0\n",
       "released_year           0\n",
       "released_month          0\n",
       "released_day            0\n",
       "in_spotify_playlists    0\n",
       "in_spotify_charts       0\n",
       "streams                 0\n",
       "in_apple_playlists      0\n",
       "in_apple_charts         0\n",
       "in_deezer_playlists     0\n",
       "in_deezer_charts        0\n",
       "in_shazam_charts        0\n",
       "bpm                     0\n",
       "key                     0\n",
       "mode                    0\n",
       "danceability_%          0\n",
       "valence_%               0\n",
       "energy_%                0\n",
       "acousticness_%          0\n",
       "instrumentalness_%      0\n",
       "liveness_%              0\n",
       "speechiness_%           0\n",
       "dtype: int64"
      ]
     },
     "execution_count": 53,
     "metadata": {},
     "output_type": "execute_result"
    }
   ],
   "source": [
    "df_spotify.isna().sum()"
   ]
  },
  {
   "cell_type": "code",
   "execution_count": 54,
   "id": "6d20fbaa-7ee3-4479-b3b9-f4d41cf15d5c",
   "metadata": {},
   "outputs": [
    {
     "name": "stdout",
     "output_type": "stream",
     "text": [
      "<class 'pandas.core.frame.DataFrame'>\n",
      "RangeIndex: 855 entries, 0 to 854\n",
      "Data columns (total 24 columns):\n",
      " #   Column                Non-Null Count  Dtype  \n",
      "---  ------                --------------  -----  \n",
      " 0   track_name            855 non-null    object \n",
      " 1   artist(s)_name        855 non-null    object \n",
      " 2   artist_count          855 non-null    int64  \n",
      " 3   released_year         855 non-null    int64  \n",
      " 4   released_month        855 non-null    int64  \n",
      " 5   released_day          855 non-null    int64  \n",
      " 6   in_spotify_playlists  855 non-null    int64  \n",
      " 7   in_spotify_charts     855 non-null    int64  \n",
      " 8   streams               855 non-null    float64\n",
      " 9   in_apple_playlists    855 non-null    int64  \n",
      " 10  in_apple_charts       855 non-null    int64  \n",
      " 11  in_deezer_playlists   855 non-null    int32  \n",
      " 12  in_deezer_charts      855 non-null    int64  \n",
      " 13  in_shazam_charts      855 non-null    float64\n",
      " 14  bpm                   855 non-null    int64  \n",
      " 15  key                   855 non-null    object \n",
      " 16  mode                  855 non-null    object \n",
      " 17  danceability_%        855 non-null    int64  \n",
      " 18  valence_%             855 non-null    int64  \n",
      " 19  energy_%              855 non-null    int64  \n",
      " 20  acousticness_%        855 non-null    int64  \n",
      " 21  instrumentalness_%    855 non-null    int64  \n",
      " 22  liveness_%            855 non-null    int64  \n",
      " 23  speechiness_%         855 non-null    int64  \n",
      "dtypes: float64(2), int32(1), int64(17), object(4)\n",
      "memory usage: 157.1+ KB\n"
     ]
    }
   ],
   "source": [
    "df_spotify.info()"
   ]
  },
  {
   "cell_type": "markdown",
   "id": "e70b4ceb-de7d-40b2-9c42-8c63a1ac93da",
   "metadata": {},
   "source": [
    "##### With this in mind, the data pre-processing/preparation is now complete. We now go ahead and do the rest of the EDA\n",
    "##### The resulting size of the dataset has 855 rows and 24 columns\n",
    "---"
   ]
  },
  {
   "cell_type": "code",
   "execution_count": null,
   "id": "a7fe50d9-4d48-44e8-8cd7-bef2405f564e",
   "metadata": {},
   "outputs": [],
   "source": []
  }
 ],
 "metadata": {
  "kernelspec": {
   "display_name": "Python 3 (ipykernel)",
   "language": "python",
   "name": "python3"
  },
  "language_info": {
   "codemirror_mode": {
    "name": "ipython",
    "version": 3
   },
   "file_extension": ".py",
   "mimetype": "text/x-python",
   "name": "python",
   "nbconvert_exporter": "python",
   "pygments_lexer": "ipython3",
   "version": "3.12.4"
  }
 },
 "nbformat": 4,
 "nbformat_minor": 5
}
