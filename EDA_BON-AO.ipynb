{
 "cells": [
  {
   "cell_type": "markdown",
   "id": "d925d2e7-4f24-435c-9d67-f8c8521ce897",
   "metadata": {},
   "source": [
    "## Exploratory Data Analysis on the Most Streamed Spotify Songs of 2023 by Bon-ao, Angelo B."
   ]
  },
  {
   "cell_type": "markdown",
   "id": "ff4fde90-d0a2-4675-aa74-cc8f539e2af6",
   "metadata": {},
   "source": [
    "#### This code entails an exploratory data analysis on the most streamed spotify songs of 2023. \n",
    "#### It includes exploring, cleaning, and visualizing the data it contains."
   ]
  },
  {
   "cell_type": "code",
   "execution_count": null,
   "id": "bede344f-9f58-4055-8165-54f641fb4e9f",
   "metadata": {},
   "outputs": [],
   "source": [
    "## "
   ]
  },
  {
   "cell_type": "code",
   "execution_count": null,
   "id": "db831527-5565-4be7-8980-983e0b181fcd",
   "metadata": {},
   "outputs": [],
   "source": []
  },
  {
   "cell_type": "markdown",
   "id": "86e1b2f9-b92d-484c-a5c0-0563d75fdcff",
   "metadata": {},
   "source": [
    "### Preparation/Pre-processing for EDA"
   ]
  },
  {
   "cell_type": "markdown",
   "id": "70e7cfa5-6f38-44c4-aaa1-4cf4eefe87fb",
   "metadata": {},
   "source": [
    "#### Importing necessary libraries"
   ]
  },
  {
   "cell_type": "code",
   "execution_count": 10,
   "id": "5a9231bf-387b-4f7d-a66e-2bf3af495f56",
   "metadata": {},
   "outputs": [],
   "source": [
    "import pandas as pd\n",
    "import matplotlib.pyplot as plt\n",
    "import seaborn as sns"
   ]
  },
  {
   "cell_type": "markdown",
   "id": "52005f3e-5637-49d8-a027-aa47b10395ea",
   "metadata": {},
   "source": [
    "#### Loading/Reading the data as a dataframe"
   ]
  },
  {
   "cell_type": "code",
   "execution_count": 11,
   "id": "69114303-6b47-4cf2-b570-ec4cbab9c171",
   "metadata": {},
   "outputs": [],
   "source": [
    "df_spotify = pd.read_csv('spotify-2023.csv', encoding='ISO-8859-1')"
   ]
  },
  {
   "cell_type": "markdown",
   "id": "4e0afdc2-c0a0-4de8-9d60-0d37f2e2a4d2",
   "metadata": {},
   "source": [
    "#### Viewing/Checking the data"
   ]
  },
  {
   "cell_type": "code",
   "execution_count": 14,
   "id": "72623047-908a-4919-8db3-942b979146ca",
   "metadata": {},
   "outputs": [
    {
     "name": "stdout",
     "output_type": "stream",
     "text": [
      "<class 'pandas.core.frame.DataFrame'>\n",
      "RangeIndex: 953 entries, 0 to 952\n",
      "Data columns (total 24 columns):\n",
      " #   Column                Non-Null Count  Dtype \n",
      "---  ------                --------------  ----- \n",
      " 0   track_name            953 non-null    object\n",
      " 1   artist(s)_name        953 non-null    object\n",
      " 2   artist_count          953 non-null    int64 \n",
      " 3   released_year         953 non-null    int64 \n",
      " 4   released_month        953 non-null    int64 \n",
      " 5   released_day          953 non-null    int64 \n",
      " 6   in_spotify_playlists  953 non-null    int64 \n",
      " 7   in_spotify_charts     953 non-null    int64 \n",
      " 8   streams               953 non-null    object\n",
      " 9   in_apple_playlists    953 non-null    int64 \n",
      " 10  in_apple_charts       953 non-null    int64 \n",
      " 11  in_deezer_playlists   953 non-null    object\n",
      " 12  in_deezer_charts      953 non-null    int64 \n",
      " 13  in_shazam_charts      903 non-null    object\n",
      " 14  bpm                   953 non-null    int64 \n",
      " 15  key                   858 non-null    object\n",
      " 16  mode                  953 non-null    object\n",
      " 17  danceability_%        953 non-null    int64 \n",
      " 18  valence_%             953 non-null    int64 \n",
      " 19  energy_%              953 non-null    int64 \n",
      " 20  acousticness_%        953 non-null    int64 \n",
      " 21  instrumentalness_%    953 non-null    int64 \n",
      " 22  liveness_%            953 non-null    int64 \n",
      " 23  speechiness_%         953 non-null    int64 \n",
      "dtypes: int64(17), object(7)\n",
      "memory usage: 178.8+ KB\n"
     ]
    }
   ],
   "source": [
    "df_spotify.info()"
   ]
  },
  {
   "cell_type": "code",
   "execution_count": 16,
   "id": "827d2649-39c2-4215-8ea1-75e8ffb150d9",
   "metadata": {},
   "outputs": [
    {
     "data": {
      "text/html": [
       "<div>\n",
       "<style scoped>\n",
       "    .dataframe tbody tr th:only-of-type {\n",
       "        vertical-align: middle;\n",
       "    }\n",
       "\n",
       "    .dataframe tbody tr th {\n",
       "        vertical-align: top;\n",
       "    }\n",
       "\n",
       "    .dataframe thead th {\n",
       "        text-align: right;\n",
       "    }\n",
       "</style>\n",
       "<table border=\"1\" class=\"dataframe\">\n",
       "  <thead>\n",
       "    <tr style=\"text-align: right;\">\n",
       "      <th></th>\n",
       "      <th>artist_count</th>\n",
       "      <th>released_year</th>\n",
       "      <th>released_month</th>\n",
       "      <th>released_day</th>\n",
       "      <th>in_spotify_playlists</th>\n",
       "      <th>in_spotify_charts</th>\n",
       "      <th>in_apple_playlists</th>\n",
       "      <th>in_apple_charts</th>\n",
       "      <th>in_deezer_charts</th>\n",
       "      <th>bpm</th>\n",
       "      <th>danceability_%</th>\n",
       "      <th>valence_%</th>\n",
       "      <th>energy_%</th>\n",
       "      <th>acousticness_%</th>\n",
       "      <th>instrumentalness_%</th>\n",
       "      <th>liveness_%</th>\n",
       "      <th>speechiness_%</th>\n",
       "    </tr>\n",
       "  </thead>\n",
       "  <tbody>\n",
       "    <tr>\n",
       "      <th>count</th>\n",
       "      <td>953.000000</td>\n",
       "      <td>953.000000</td>\n",
       "      <td>953.000000</td>\n",
       "      <td>953.000000</td>\n",
       "      <td>953.000000</td>\n",
       "      <td>953.000000</td>\n",
       "      <td>953.000000</td>\n",
       "      <td>953.000000</td>\n",
       "      <td>953.000000</td>\n",
       "      <td>953.000000</td>\n",
       "      <td>953.00000</td>\n",
       "      <td>953.000000</td>\n",
       "      <td>953.000000</td>\n",
       "      <td>953.000000</td>\n",
       "      <td>953.000000</td>\n",
       "      <td>953.000000</td>\n",
       "      <td>953.000000</td>\n",
       "    </tr>\n",
       "    <tr>\n",
       "      <th>mean</th>\n",
       "      <td>1.556139</td>\n",
       "      <td>2018.238195</td>\n",
       "      <td>6.033578</td>\n",
       "      <td>13.930745</td>\n",
       "      <td>5200.124869</td>\n",
       "      <td>12.009444</td>\n",
       "      <td>67.812172</td>\n",
       "      <td>51.908709</td>\n",
       "      <td>2.666317</td>\n",
       "      <td>122.540399</td>\n",
       "      <td>66.96957</td>\n",
       "      <td>51.431270</td>\n",
       "      <td>64.279119</td>\n",
       "      <td>27.057712</td>\n",
       "      <td>1.581322</td>\n",
       "      <td>18.213012</td>\n",
       "      <td>10.131165</td>\n",
       "    </tr>\n",
       "    <tr>\n",
       "      <th>std</th>\n",
       "      <td>0.893044</td>\n",
       "      <td>11.116218</td>\n",
       "      <td>3.566435</td>\n",
       "      <td>9.201949</td>\n",
       "      <td>7897.608990</td>\n",
       "      <td>19.575992</td>\n",
       "      <td>86.441493</td>\n",
       "      <td>50.630241</td>\n",
       "      <td>6.035599</td>\n",
       "      <td>28.057802</td>\n",
       "      <td>14.63061</td>\n",
       "      <td>23.480632</td>\n",
       "      <td>16.550526</td>\n",
       "      <td>25.996077</td>\n",
       "      <td>8.409800</td>\n",
       "      <td>13.711223</td>\n",
       "      <td>9.912888</td>\n",
       "    </tr>\n",
       "    <tr>\n",
       "      <th>min</th>\n",
       "      <td>1.000000</td>\n",
       "      <td>1930.000000</td>\n",
       "      <td>1.000000</td>\n",
       "      <td>1.000000</td>\n",
       "      <td>31.000000</td>\n",
       "      <td>0.000000</td>\n",
       "      <td>0.000000</td>\n",
       "      <td>0.000000</td>\n",
       "      <td>0.000000</td>\n",
       "      <td>65.000000</td>\n",
       "      <td>23.00000</td>\n",
       "      <td>4.000000</td>\n",
       "      <td>9.000000</td>\n",
       "      <td>0.000000</td>\n",
       "      <td>0.000000</td>\n",
       "      <td>3.000000</td>\n",
       "      <td>2.000000</td>\n",
       "    </tr>\n",
       "    <tr>\n",
       "      <th>25%</th>\n",
       "      <td>1.000000</td>\n",
       "      <td>2020.000000</td>\n",
       "      <td>3.000000</td>\n",
       "      <td>6.000000</td>\n",
       "      <td>875.000000</td>\n",
       "      <td>0.000000</td>\n",
       "      <td>13.000000</td>\n",
       "      <td>7.000000</td>\n",
       "      <td>0.000000</td>\n",
       "      <td>100.000000</td>\n",
       "      <td>57.00000</td>\n",
       "      <td>32.000000</td>\n",
       "      <td>53.000000</td>\n",
       "      <td>6.000000</td>\n",
       "      <td>0.000000</td>\n",
       "      <td>10.000000</td>\n",
       "      <td>4.000000</td>\n",
       "    </tr>\n",
       "    <tr>\n",
       "      <th>50%</th>\n",
       "      <td>1.000000</td>\n",
       "      <td>2022.000000</td>\n",
       "      <td>6.000000</td>\n",
       "      <td>13.000000</td>\n",
       "      <td>2224.000000</td>\n",
       "      <td>3.000000</td>\n",
       "      <td>34.000000</td>\n",
       "      <td>38.000000</td>\n",
       "      <td>0.000000</td>\n",
       "      <td>121.000000</td>\n",
       "      <td>69.00000</td>\n",
       "      <td>51.000000</td>\n",
       "      <td>66.000000</td>\n",
       "      <td>18.000000</td>\n",
       "      <td>0.000000</td>\n",
       "      <td>12.000000</td>\n",
       "      <td>6.000000</td>\n",
       "    </tr>\n",
       "    <tr>\n",
       "      <th>75%</th>\n",
       "      <td>2.000000</td>\n",
       "      <td>2022.000000</td>\n",
       "      <td>9.000000</td>\n",
       "      <td>22.000000</td>\n",
       "      <td>5542.000000</td>\n",
       "      <td>16.000000</td>\n",
       "      <td>88.000000</td>\n",
       "      <td>87.000000</td>\n",
       "      <td>2.000000</td>\n",
       "      <td>140.000000</td>\n",
       "      <td>78.00000</td>\n",
       "      <td>70.000000</td>\n",
       "      <td>77.000000</td>\n",
       "      <td>43.000000</td>\n",
       "      <td>0.000000</td>\n",
       "      <td>24.000000</td>\n",
       "      <td>11.000000</td>\n",
       "    </tr>\n",
       "    <tr>\n",
       "      <th>max</th>\n",
       "      <td>8.000000</td>\n",
       "      <td>2023.000000</td>\n",
       "      <td>12.000000</td>\n",
       "      <td>31.000000</td>\n",
       "      <td>52898.000000</td>\n",
       "      <td>147.000000</td>\n",
       "      <td>672.000000</td>\n",
       "      <td>275.000000</td>\n",
       "      <td>58.000000</td>\n",
       "      <td>206.000000</td>\n",
       "      <td>96.00000</td>\n",
       "      <td>97.000000</td>\n",
       "      <td>97.000000</td>\n",
       "      <td>97.000000</td>\n",
       "      <td>91.000000</td>\n",
       "      <td>97.000000</td>\n",
       "      <td>64.000000</td>\n",
       "    </tr>\n",
       "  </tbody>\n",
       "</table>\n",
       "</div>"
      ],
      "text/plain": [
       "       artist_count  released_year  released_month  released_day  \\\n",
       "count    953.000000     953.000000      953.000000    953.000000   \n",
       "mean       1.556139    2018.238195        6.033578     13.930745   \n",
       "std        0.893044      11.116218        3.566435      9.201949   \n",
       "min        1.000000    1930.000000        1.000000      1.000000   \n",
       "25%        1.000000    2020.000000        3.000000      6.000000   \n",
       "50%        1.000000    2022.000000        6.000000     13.000000   \n",
       "75%        2.000000    2022.000000        9.000000     22.000000   \n",
       "max        8.000000    2023.000000       12.000000     31.000000   \n",
       "\n",
       "       in_spotify_playlists  in_spotify_charts  in_apple_playlists  \\\n",
       "count            953.000000         953.000000          953.000000   \n",
       "mean            5200.124869          12.009444           67.812172   \n",
       "std             7897.608990          19.575992           86.441493   \n",
       "min               31.000000           0.000000            0.000000   \n",
       "25%              875.000000           0.000000           13.000000   \n",
       "50%             2224.000000           3.000000           34.000000   \n",
       "75%             5542.000000          16.000000           88.000000   \n",
       "max            52898.000000         147.000000          672.000000   \n",
       "\n",
       "       in_apple_charts  in_deezer_charts         bpm  danceability_%  \\\n",
       "count       953.000000        953.000000  953.000000       953.00000   \n",
       "mean         51.908709          2.666317  122.540399        66.96957   \n",
       "std          50.630241          6.035599   28.057802        14.63061   \n",
       "min           0.000000          0.000000   65.000000        23.00000   \n",
       "25%           7.000000          0.000000  100.000000        57.00000   \n",
       "50%          38.000000          0.000000  121.000000        69.00000   \n",
       "75%          87.000000          2.000000  140.000000        78.00000   \n",
       "max         275.000000         58.000000  206.000000        96.00000   \n",
       "\n",
       "        valence_%    energy_%  acousticness_%  instrumentalness_%  liveness_%  \\\n",
       "count  953.000000  953.000000      953.000000          953.000000  953.000000   \n",
       "mean    51.431270   64.279119       27.057712            1.581322   18.213012   \n",
       "std     23.480632   16.550526       25.996077            8.409800   13.711223   \n",
       "min      4.000000    9.000000        0.000000            0.000000    3.000000   \n",
       "25%     32.000000   53.000000        6.000000            0.000000   10.000000   \n",
       "50%     51.000000   66.000000       18.000000            0.000000   12.000000   \n",
       "75%     70.000000   77.000000       43.000000            0.000000   24.000000   \n",
       "max     97.000000   97.000000       97.000000           91.000000   97.000000   \n",
       "\n",
       "       speechiness_%  \n",
       "count     953.000000  \n",
       "mean       10.131165  \n",
       "std         9.912888  \n",
       "min         2.000000  \n",
       "25%         4.000000  \n",
       "50%         6.000000  \n",
       "75%        11.000000  \n",
       "max        64.000000  "
      ]
     },
     "execution_count": 16,
     "metadata": {},
     "output_type": "execute_result"
    }
   ],
   "source": [
    "df_spotify.describe()"
   ]
  },
  {
   "cell_type": "markdown",
   "id": "2e72d4ec-b9af-4225-9b61-a68cb27211ed",
   "metadata": {},
   "source": [
    "##### Using .info() acquires the basic information of the data\n",
    "##### There are 953 rows and 24 columns. \n",
    "##### The datatype for the streams column is wrongly detected as an object. This is probably due to the values in it being expressed \n",
    "##### as an exponential using the letter 'E'.\n",
    "\n",
    "##### \n",
    "#####\n",
    "\n",
    "##### For the descriptive statistics, the things that stood out were\n",
    "##### The most streamed songs on Spotify in 2023\n",
    "##### is more prevalent in the charts of Apple Music than Deezer, and Spotify itself.\n",
    "##### is more likely than not has a fast bpm or in Allegro which ranges from 109-132 BPM.\n",
    "##### is more acoustic and slight less valence and energy than I expected"
   ]
  },
  {
   "cell_type": "markdown",
   "id": "957f21bb-fafd-484d-a860-0da9ed66a39d",
   "metadata": {},
   "source": [
    "## Guide Questions for EDA"
   ]
  },
  {
   "cell_type": "markdown",
   "id": "f22d3f0f-2545-4f2a-a2ba-f23b91f47745",
   "metadata": {},
   "source": [
    "#### How many rows and columns does the dataset contain?"
   ]
  },
  {
   "cell_type": "markdown",
   "id": "1442f842-f336-491e-8121-c02c9902abd0",
   "metadata": {},
   "source": [
    "##### using the .info(), as used before to check and view the basic information of the data\n",
    "##### it shows that the dataset contains 953 rows and 24 columns"
   ]
  },
  {
   "cell_type": "markdown",
   "id": "acdcb3d5-2e93-4e9c-b947-99274b343aa2",
   "metadata": {},
   "source": [
    "#### What are the data types of each column? Are there any missing values?"
   ]
  },
  {
   "cell_type": "markdown",
   "id": "77552179-8018-45de-8ac8-a042db4d41f8",
   "metadata": {},
   "source": [
    "##### also using the .info(), the data types of each column are either a 64bit integer or an object\n",
    "##### the streams values are also incorrectly detected as an object"
   ]
  },
  {
   "cell_type": "code",
   "execution_count": 24,
   "id": "38f35863-ea7d-4895-b719-b8207d5107cd",
   "metadata": {},
   "outputs": [
    {
     "data": {
      "text/plain": [
       "track_name               0\n",
       "artist(s)_name           0\n",
       "artist_count             0\n",
       "released_year            0\n",
       "released_month           0\n",
       "released_day             0\n",
       "in_spotify_playlists     0\n",
       "in_spotify_charts        0\n",
       "streams                  0\n",
       "in_apple_playlists       0\n",
       "in_apple_charts          0\n",
       "in_deezer_playlists      0\n",
       "in_deezer_charts         0\n",
       "in_shazam_charts        50\n",
       "bpm                      0\n",
       "key                     95\n",
       "mode                     0\n",
       "danceability_%           0\n",
       "valence_%                0\n",
       "energy_%                 0\n",
       "acousticness_%           0\n",
       "instrumentalness_%       0\n",
       "liveness_%               0\n",
       "speechiness_%            0\n",
       "dtype: int64"
      ]
     },
     "execution_count": 24,
     "metadata": {},
     "output_type": "execute_result"
    }
   ],
   "source": [
    "df_spotify.isna().sum()"
   ]
  },
  {
   "cell_type": "markdown",
   "id": "462b6945-3da4-4987-af51-f1d2a7de9dea",
   "metadata": {},
   "source": [
    "##### using the combination of .isna(), which checks if the value inside a column is missing or null, and\n",
    "##### .sum() to sum all the counts/times there are missing/null values in a column,\n",
    "##### it shows that there are 50 missing values inside 'in_shazam_charts' column and 95 missing values inside the 'key' column"
   ]
  },
  {
   "cell_type": "code",
   "execution_count": null,
   "id": "6cf22c16-583d-4da1-b380-8a5721e3d46e",
   "metadata": {},
   "outputs": [],
   "source": []
  }
 ],
 "metadata": {
  "kernelspec": {
   "display_name": "Python 3 (ipykernel)",
   "language": "python",
   "name": "python3"
  },
  "language_info": {
   "codemirror_mode": {
    "name": "ipython",
    "version": 3
   },
   "file_extension": ".py",
   "mimetype": "text/x-python",
   "name": "python",
   "nbconvert_exporter": "python",
   "pygments_lexer": "ipython3",
   "version": "3.12.4"
  }
 },
 "nbformat": 4,
 "nbformat_minor": 5
}
