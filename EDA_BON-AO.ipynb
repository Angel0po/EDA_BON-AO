{
 "cells": [
  {
   "cell_type": "markdown",
   "id": "d3b96183-e4af-4438-a373-6df6496786b5",
   "metadata": {},
   "source": [
    "# Most Streamed Spotify Songs of 2023"
   ]
  },
  {
   "cell_type": "markdown",
   "id": "e758bd08-48a9-4dda-b771-e13d84d3b592",
   "metadata": {},
   "source": [
    "## Overview of Dataset"
   ]
  },
  {
   "cell_type": "markdown",
   "id": "1ca96d8f-6ac9-4d17-8eb2-8daff3bb5c8e",
   "metadata": {},
   "source": [
    "### How many rows and columns does the dataset contain?"
   ]
  },
  {
   "cell_type": "code",
   "execution_count": 23,
   "id": "940ffba7-8d8c-40c6-b044-b0b91fbc1519",
   "metadata": {},
   "outputs": [
    {
     "name": "stdout",
     "output_type": "stream",
     "text": [
      "<class 'pandas.core.frame.DataFrame'>\n",
      "RangeIndex: 953 entries, 0 to 952\n",
      "Data columns (total 24 columns):\n",
      " #   Column                Non-Null Count  Dtype \n",
      "---  ------                --------------  ----- \n",
      " 0   track_name            953 non-null    object\n",
      " 1   artist(s)_name        953 non-null    object\n",
      " 2   artist_count          953 non-null    int64 \n",
      " 3   released_year         953 non-null    int64 \n",
      " 4   released_month        953 non-null    int64 \n",
      " 5   released_day          953 non-null    int64 \n",
      " 6   in_spotify_playlists  953 non-null    int64 \n",
      " 7   in_spotify_charts     953 non-null    int64 \n",
      " 8   streams               953 non-null    object\n",
      " 9   in_apple_playlists    953 non-null    int64 \n",
      " 10  in_apple_charts       953 non-null    int64 \n",
      " 11  in_deezer_playlists   953 non-null    object\n",
      " 12  in_deezer_charts      953 non-null    int64 \n",
      " 13  in_shazam_charts      903 non-null    object\n",
      " 14  bpm                   953 non-null    int64 \n",
      " 15  key                   858 non-null    object\n",
      " 16  mode                  953 non-null    object\n",
      " 17  danceability_%        953 non-null    int64 \n",
      " 18  valence_%             953 non-null    int64 \n",
      " 19  energy_%              953 non-null    int64 \n",
      " 20  acousticness_%        953 non-null    int64 \n",
      " 21  instrumentalness_%    953 non-null    int64 \n",
      " 22  liveness_%            953 non-null    int64 \n",
      " 23  speechiness_%         953 non-null    int64 \n",
      "dtypes: int64(17), object(7)\n",
      "memory usage: 178.8+ KB\n"
     ]
    }
   ],
   "source": [
    "import pandas as pd\n",
    "\n",
    "df_spotify = pd.read_csv('spotify-2023.csv', encoding='ISO-8859-1')\n",
    "\n",
    "df_spotify.info()\n",
    "\n",
    "\"Using .info(), the given data has 953 rows, and 24 columns \""
   ]
  },
  {
   "cell_type": "markdown",
   "id": "1c37980f-7326-45a0-94bb-41e5422dbd79",
   "metadata": {},
   "source": [
    "### What are the data types of each column? Are there any missing values?"
   ]
  },
  {
   "cell_type": "markdown",
   "id": "624ebae5-e8a5-4c5c-81de-aa42ab31940f",
   "metadata": {},
   "source": [
    "##### Also using .info(), the data types of each column is detected as either a 64 bit integer or an object.\""
   ]
  },
  {
   "cell_type": "code",
   "execution_count": 34,
   "id": "9eadbceb-395b-4f3b-ae66-7eee20d5360d",
   "metadata": {},
   "outputs": [
    {
     "data": {
      "text/plain": [
       "track_name               0\n",
       "artist(s)_name           0\n",
       "artist_count             0\n",
       "released_year            0\n",
       "released_month           0\n",
       "released_day             0\n",
       "in_spotify_playlists     0\n",
       "in_spotify_charts        0\n",
       "streams                  0\n",
       "in_apple_playlists       0\n",
       "in_apple_charts          0\n",
       "in_deezer_playlists      0\n",
       "in_deezer_charts         0\n",
       "in_shazam_charts        50\n",
       "bpm                      0\n",
       "key                     95\n",
       "mode                     0\n",
       "danceability_%           0\n",
       "valence_%                0\n",
       "energy_%                 0\n",
       "acousticness_%           0\n",
       "instrumentalness_%       0\n",
       "liveness_%               0\n",
       "speechiness_%            0\n",
       "dtype: int64"
      ]
     },
     "execution_count": 34,
     "metadata": {},
     "output_type": "execute_result"
    }
   ],
   "source": [
    "df_spotify.isna().sum()"
   ]
  },
  {
   "cell_type": "markdown",
   "id": "99c9b885-77a5-4c3c-a432-4abc87dbd884",
   "metadata": {},
   "source": [
    "##### combining .isna() and .sum() checks and sums all the missing values in each column.\n",
    "##### There about 50 missing values in in_shazam_charts & 95 missing values in key."
   ]
  },
  {
   "cell_type": "markdown",
   "id": "6c6214fc-4f00-4592-9a4a-c87f0cc1a6e4",
   "metadata": {},
   "source": [
    "## Basic Descriptive Statistics"
   ]
  },
  {
   "cell_type": "markdown",
   "id": "34ac0feb-1be1-43e4-b341-e197c27a54e7",
   "metadata": {},
   "source": [
    "### What are the mean, median, and standard deviation of the streams column?"
   ]
  },
  {
   "cell_type": "code",
   "execution_count": 98,
   "id": "82246aa6-56ec-428d-a13a-bb47b6fed782",
   "metadata": {},
   "outputs": [
    {
     "name": "stdout",
     "output_type": "stream",
     "text": [
      "514137424.93907565\n",
      "290530915.0\n",
      "566856949.0388832\n"
     ]
    }
   ],
   "source": [
    "streams = pd.to_numeric(df_spotify['streams'], errors='coerce')\n",
    "\n",
    "mean_streams = streams.mean()\n",
    "median_streams = streams.median()\n",
    "std_dev_streams = streams.std()\n",
    "\n",
    "f\"The mean of the streams is {print(mean_streams)}\"\n",
    "f\"The meadian of the streams column is {print(median_streams)}\n",
    "print(std_dev_streams)\n"
   ]
  },
  {
   "cell_type": "code",
   "execution_count": null,
   "id": "dbbe9270-6f97-44c1-b01e-6ed08ccbee1c",
   "metadata": {},
   "outputs": [],
   "source": []
  }
 ],
 "metadata": {
  "kernelspec": {
   "display_name": "Python 3 (ipykernel)",
   "language": "python",
   "name": "python3"
  },
  "language_info": {
   "codemirror_mode": {
    "name": "ipython",
    "version": 3
   },
   "file_extension": ".py",
   "mimetype": "text/x-python",
   "name": "python",
   "nbconvert_exporter": "python",
   "pygments_lexer": "ipython3",
   "version": "3.12.4"
  }
 },
 "nbformat": 4,
 "nbformat_minor": 5
}
