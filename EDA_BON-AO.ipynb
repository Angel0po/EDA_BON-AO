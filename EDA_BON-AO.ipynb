{
 "cells": [
  {
   "cell_type": "markdown",
   "id": "d925d2e7-4f24-435c-9d67-f8c8521ce897",
   "metadata": {},
   "source": [
    "## Exploratory Data Analysis on the Most Streamed Spotify Songs of 2023 by Bon-ao, Angelo B."
   ]
  },
  {
   "cell_type": "markdown",
   "id": "ff4fde90-d0a2-4675-aa74-cc8f539e2af6",
   "metadata": {},
   "source": [
    "#### This code entails an exploratory data analysis on the most streamed spotify songs of 2023. \n",
    "#### It includes exploring, cleaning, and visualizing the data it contains."
   ]
  },
  {
   "cell_type": "markdown",
   "id": "4ec84fd9-4a7b-4b98-a9ba-c765f2c6e6d4",
   "metadata": {},
   "source": [
    "---"
   ]
  },
  {
   "cell_type": "markdown",
   "id": "86e1b2f9-b92d-484c-a5c0-0563d75fdcff",
   "metadata": {},
   "source": [
    "### Preparation/Pre-processing for EDA"
   ]
  },
  {
   "cell_type": "markdown",
   "id": "70e7cfa5-6f38-44c4-aaa1-4cf4eefe87fb",
   "metadata": {},
   "source": [
    "#### Importing necessary libraries"
   ]
  },
  {
   "cell_type": "code",
   "execution_count": 198,
   "id": "5a9231bf-387b-4f7d-a66e-2bf3af495f56",
   "metadata": {},
   "outputs": [],
   "source": [
    "import pandas as pd\n",
    "import matplotlib.pyplot as plt\n",
    "import seaborn as sns\n",
    "import calendar"
   ]
  },
  {
   "cell_type": "markdown",
   "id": "9a7c35df-35b8-4104-8417-f0fcd93e3dae",
   "metadata": {},
   "source": [
    "##### These libraries are needed in order to perform EDA on the given dataset;\n",
    "##### The pandas library will make it so that the dataset from the csv file is read and turned into a dataframe.\n",
    "##### It'll also allow us to use commands that is needed for the EDA.\n",
    "#####\n",
    "##### The matplotlib.pyplot library will allow us to visualize the data and highlight the stories within the data.\n",
    "##### \n",
    "##### The seaborn library serves the same purpose as matplotlib.pyplot but carries an extra feature that colors the visualizations.\n",
    "---"
   ]
  },
  {
   "cell_type": "markdown",
   "id": "52005f3e-5637-49d8-a027-aa47b10395ea",
   "metadata": {},
   "source": [
    "#### Loading/Reading the data as a dataframe"
   ]
  },
  {
   "cell_type": "code",
   "execution_count": 9,
   "id": "69114303-6b47-4cf2-b570-ec4cbab9c171",
   "metadata": {},
   "outputs": [
    {
     "data": {
      "text/html": [
       "<div>\n",
       "<style scoped>\n",
       "    .dataframe tbody tr th:only-of-type {\n",
       "        vertical-align: middle;\n",
       "    }\n",
       "\n",
       "    .dataframe tbody tr th {\n",
       "        vertical-align: top;\n",
       "    }\n",
       "\n",
       "    .dataframe thead th {\n",
       "        text-align: right;\n",
       "    }\n",
       "</style>\n",
       "<table border=\"1\" class=\"dataframe\">\n",
       "  <thead>\n",
       "    <tr style=\"text-align: right;\">\n",
       "      <th></th>\n",
       "      <th>track_name</th>\n",
       "      <th>artist(s)_name</th>\n",
       "      <th>artist_count</th>\n",
       "      <th>released_year</th>\n",
       "      <th>released_month</th>\n",
       "      <th>released_day</th>\n",
       "      <th>in_spotify_playlists</th>\n",
       "      <th>in_spotify_charts</th>\n",
       "      <th>streams</th>\n",
       "      <th>in_apple_playlists</th>\n",
       "      <th>...</th>\n",
       "      <th>bpm</th>\n",
       "      <th>key</th>\n",
       "      <th>mode</th>\n",
       "      <th>danceability_%</th>\n",
       "      <th>valence_%</th>\n",
       "      <th>energy_%</th>\n",
       "      <th>acousticness_%</th>\n",
       "      <th>instrumentalness_%</th>\n",
       "      <th>liveness_%</th>\n",
       "      <th>speechiness_%</th>\n",
       "    </tr>\n",
       "  </thead>\n",
       "  <tbody>\n",
       "    <tr>\n",
       "      <th>0</th>\n",
       "      <td>Seven (feat. Latto) (Explicit Ver.)</td>\n",
       "      <td>Latto, Jung Kook</td>\n",
       "      <td>2</td>\n",
       "      <td>2023</td>\n",
       "      <td>7</td>\n",
       "      <td>14</td>\n",
       "      <td>553</td>\n",
       "      <td>147</td>\n",
       "      <td>141381703</td>\n",
       "      <td>43</td>\n",
       "      <td>...</td>\n",
       "      <td>125</td>\n",
       "      <td>B</td>\n",
       "      <td>Major</td>\n",
       "      <td>80</td>\n",
       "      <td>89</td>\n",
       "      <td>83</td>\n",
       "      <td>31</td>\n",
       "      <td>0</td>\n",
       "      <td>8</td>\n",
       "      <td>4</td>\n",
       "    </tr>\n",
       "    <tr>\n",
       "      <th>1</th>\n",
       "      <td>LALA</td>\n",
       "      <td>Myke Towers</td>\n",
       "      <td>1</td>\n",
       "      <td>2023</td>\n",
       "      <td>3</td>\n",
       "      <td>23</td>\n",
       "      <td>1474</td>\n",
       "      <td>48</td>\n",
       "      <td>133716286</td>\n",
       "      <td>48</td>\n",
       "      <td>...</td>\n",
       "      <td>92</td>\n",
       "      <td>C#</td>\n",
       "      <td>Major</td>\n",
       "      <td>71</td>\n",
       "      <td>61</td>\n",
       "      <td>74</td>\n",
       "      <td>7</td>\n",
       "      <td>0</td>\n",
       "      <td>10</td>\n",
       "      <td>4</td>\n",
       "    </tr>\n",
       "    <tr>\n",
       "      <th>2</th>\n",
       "      <td>vampire</td>\n",
       "      <td>Olivia Rodrigo</td>\n",
       "      <td>1</td>\n",
       "      <td>2023</td>\n",
       "      <td>6</td>\n",
       "      <td>30</td>\n",
       "      <td>1397</td>\n",
       "      <td>113</td>\n",
       "      <td>140003974</td>\n",
       "      <td>94</td>\n",
       "      <td>...</td>\n",
       "      <td>138</td>\n",
       "      <td>F</td>\n",
       "      <td>Major</td>\n",
       "      <td>51</td>\n",
       "      <td>32</td>\n",
       "      <td>53</td>\n",
       "      <td>17</td>\n",
       "      <td>0</td>\n",
       "      <td>31</td>\n",
       "      <td>6</td>\n",
       "    </tr>\n",
       "    <tr>\n",
       "      <th>3</th>\n",
       "      <td>Cruel Summer</td>\n",
       "      <td>Taylor Swift</td>\n",
       "      <td>1</td>\n",
       "      <td>2019</td>\n",
       "      <td>8</td>\n",
       "      <td>23</td>\n",
       "      <td>7858</td>\n",
       "      <td>100</td>\n",
       "      <td>800840817</td>\n",
       "      <td>116</td>\n",
       "      <td>...</td>\n",
       "      <td>170</td>\n",
       "      <td>A</td>\n",
       "      <td>Major</td>\n",
       "      <td>55</td>\n",
       "      <td>58</td>\n",
       "      <td>72</td>\n",
       "      <td>11</td>\n",
       "      <td>0</td>\n",
       "      <td>11</td>\n",
       "      <td>15</td>\n",
       "    </tr>\n",
       "    <tr>\n",
       "      <th>4</th>\n",
       "      <td>WHERE SHE GOES</td>\n",
       "      <td>Bad Bunny</td>\n",
       "      <td>1</td>\n",
       "      <td>2023</td>\n",
       "      <td>5</td>\n",
       "      <td>18</td>\n",
       "      <td>3133</td>\n",
       "      <td>50</td>\n",
       "      <td>303236322</td>\n",
       "      <td>84</td>\n",
       "      <td>...</td>\n",
       "      <td>144</td>\n",
       "      <td>A</td>\n",
       "      <td>Minor</td>\n",
       "      <td>65</td>\n",
       "      <td>23</td>\n",
       "      <td>80</td>\n",
       "      <td>14</td>\n",
       "      <td>63</td>\n",
       "      <td>11</td>\n",
       "      <td>6</td>\n",
       "    </tr>\n",
       "    <tr>\n",
       "      <th>...</th>\n",
       "      <td>...</td>\n",
       "      <td>...</td>\n",
       "      <td>...</td>\n",
       "      <td>...</td>\n",
       "      <td>...</td>\n",
       "      <td>...</td>\n",
       "      <td>...</td>\n",
       "      <td>...</td>\n",
       "      <td>...</td>\n",
       "      <td>...</td>\n",
       "      <td>...</td>\n",
       "      <td>...</td>\n",
       "      <td>...</td>\n",
       "      <td>...</td>\n",
       "      <td>...</td>\n",
       "      <td>...</td>\n",
       "      <td>...</td>\n",
       "      <td>...</td>\n",
       "      <td>...</td>\n",
       "      <td>...</td>\n",
       "      <td>...</td>\n",
       "    </tr>\n",
       "    <tr>\n",
       "      <th>948</th>\n",
       "      <td>My Mind &amp; Me</td>\n",
       "      <td>Selena Gomez</td>\n",
       "      <td>1</td>\n",
       "      <td>2022</td>\n",
       "      <td>11</td>\n",
       "      <td>3</td>\n",
       "      <td>953</td>\n",
       "      <td>0</td>\n",
       "      <td>91473363</td>\n",
       "      <td>61</td>\n",
       "      <td>...</td>\n",
       "      <td>144</td>\n",
       "      <td>A</td>\n",
       "      <td>Major</td>\n",
       "      <td>60</td>\n",
       "      <td>24</td>\n",
       "      <td>39</td>\n",
       "      <td>57</td>\n",
       "      <td>0</td>\n",
       "      <td>8</td>\n",
       "      <td>3</td>\n",
       "    </tr>\n",
       "    <tr>\n",
       "      <th>949</th>\n",
       "      <td>Bigger Than The Whole Sky</td>\n",
       "      <td>Taylor Swift</td>\n",
       "      <td>1</td>\n",
       "      <td>2022</td>\n",
       "      <td>10</td>\n",
       "      <td>21</td>\n",
       "      <td>1180</td>\n",
       "      <td>0</td>\n",
       "      <td>121871870</td>\n",
       "      <td>4</td>\n",
       "      <td>...</td>\n",
       "      <td>166</td>\n",
       "      <td>F#</td>\n",
       "      <td>Major</td>\n",
       "      <td>42</td>\n",
       "      <td>7</td>\n",
       "      <td>24</td>\n",
       "      <td>83</td>\n",
       "      <td>1</td>\n",
       "      <td>12</td>\n",
       "      <td>6</td>\n",
       "    </tr>\n",
       "    <tr>\n",
       "      <th>950</th>\n",
       "      <td>A Veces (feat. Feid)</td>\n",
       "      <td>Feid, Paulo Londra</td>\n",
       "      <td>2</td>\n",
       "      <td>2022</td>\n",
       "      <td>11</td>\n",
       "      <td>3</td>\n",
       "      <td>573</td>\n",
       "      <td>0</td>\n",
       "      <td>73513683</td>\n",
       "      <td>2</td>\n",
       "      <td>...</td>\n",
       "      <td>92</td>\n",
       "      <td>C#</td>\n",
       "      <td>Major</td>\n",
       "      <td>80</td>\n",
       "      <td>81</td>\n",
       "      <td>67</td>\n",
       "      <td>4</td>\n",
       "      <td>0</td>\n",
       "      <td>8</td>\n",
       "      <td>6</td>\n",
       "    </tr>\n",
       "    <tr>\n",
       "      <th>951</th>\n",
       "      <td>En La De Ella</td>\n",
       "      <td>Feid, Sech, Jhayco</td>\n",
       "      <td>3</td>\n",
       "      <td>2022</td>\n",
       "      <td>10</td>\n",
       "      <td>20</td>\n",
       "      <td>1320</td>\n",
       "      <td>0</td>\n",
       "      <td>133895612</td>\n",
       "      <td>29</td>\n",
       "      <td>...</td>\n",
       "      <td>97</td>\n",
       "      <td>C#</td>\n",
       "      <td>Major</td>\n",
       "      <td>82</td>\n",
       "      <td>67</td>\n",
       "      <td>77</td>\n",
       "      <td>8</td>\n",
       "      <td>0</td>\n",
       "      <td>12</td>\n",
       "      <td>5</td>\n",
       "    </tr>\n",
       "    <tr>\n",
       "      <th>952</th>\n",
       "      <td>Alone</td>\n",
       "      <td>Burna Boy</td>\n",
       "      <td>1</td>\n",
       "      <td>2022</td>\n",
       "      <td>11</td>\n",
       "      <td>4</td>\n",
       "      <td>782</td>\n",
       "      <td>2</td>\n",
       "      <td>96007391</td>\n",
       "      <td>27</td>\n",
       "      <td>...</td>\n",
       "      <td>90</td>\n",
       "      <td>E</td>\n",
       "      <td>Minor</td>\n",
       "      <td>61</td>\n",
       "      <td>32</td>\n",
       "      <td>67</td>\n",
       "      <td>15</td>\n",
       "      <td>0</td>\n",
       "      <td>11</td>\n",
       "      <td>5</td>\n",
       "    </tr>\n",
       "  </tbody>\n",
       "</table>\n",
       "<p>953 rows × 24 columns</p>\n",
       "</div>"
      ],
      "text/plain": [
       "                              track_name      artist(s)_name  artist_count  \\\n",
       "0    Seven (feat. Latto) (Explicit Ver.)    Latto, Jung Kook             2   \n",
       "1                                   LALA         Myke Towers             1   \n",
       "2                                vampire      Olivia Rodrigo             1   \n",
       "3                           Cruel Summer        Taylor Swift             1   \n",
       "4                         WHERE SHE GOES           Bad Bunny             1   \n",
       "..                                   ...                 ...           ...   \n",
       "948                         My Mind & Me        Selena Gomez             1   \n",
       "949            Bigger Than The Whole Sky        Taylor Swift             1   \n",
       "950                 A Veces (feat. Feid)  Feid, Paulo Londra             2   \n",
       "951                        En La De Ella  Feid, Sech, Jhayco             3   \n",
       "952                                Alone           Burna Boy             1   \n",
       "\n",
       "     released_year  released_month  released_day  in_spotify_playlists  \\\n",
       "0             2023               7            14                   553   \n",
       "1             2023               3            23                  1474   \n",
       "2             2023               6            30                  1397   \n",
       "3             2019               8            23                  7858   \n",
       "4             2023               5            18                  3133   \n",
       "..             ...             ...           ...                   ...   \n",
       "948           2022              11             3                   953   \n",
       "949           2022              10            21                  1180   \n",
       "950           2022              11             3                   573   \n",
       "951           2022              10            20                  1320   \n",
       "952           2022              11             4                   782   \n",
       "\n",
       "     in_spotify_charts    streams  in_apple_playlists  ...  bpm key   mode  \\\n",
       "0                  147  141381703                  43  ...  125   B  Major   \n",
       "1                   48  133716286                  48  ...   92  C#  Major   \n",
       "2                  113  140003974                  94  ...  138   F  Major   \n",
       "3                  100  800840817                 116  ...  170   A  Major   \n",
       "4                   50  303236322                  84  ...  144   A  Minor   \n",
       "..                 ...        ...                 ...  ...  ...  ..    ...   \n",
       "948                  0   91473363                  61  ...  144   A  Major   \n",
       "949                  0  121871870                   4  ...  166  F#  Major   \n",
       "950                  0   73513683                   2  ...   92  C#  Major   \n",
       "951                  0  133895612                  29  ...   97  C#  Major   \n",
       "952                  2   96007391                  27  ...   90   E  Minor   \n",
       "\n",
       "    danceability_%  valence_% energy_% acousticness_%  instrumentalness_%  \\\n",
       "0               80         89       83             31                   0   \n",
       "1               71         61       74              7                   0   \n",
       "2               51         32       53             17                   0   \n",
       "3               55         58       72             11                   0   \n",
       "4               65         23       80             14                  63   \n",
       "..             ...        ...      ...            ...                 ...   \n",
       "948             60         24       39             57                   0   \n",
       "949             42          7       24             83                   1   \n",
       "950             80         81       67              4                   0   \n",
       "951             82         67       77              8                   0   \n",
       "952             61         32       67             15                   0   \n",
       "\n",
       "     liveness_%  speechiness_%  \n",
       "0             8              4  \n",
       "1            10              4  \n",
       "2            31              6  \n",
       "3            11             15  \n",
       "4            11              6  \n",
       "..          ...            ...  \n",
       "948           8              3  \n",
       "949          12              6  \n",
       "950           8              6  \n",
       "951          12              5  \n",
       "952          11              5  \n",
       "\n",
       "[953 rows x 24 columns]"
      ]
     },
     "execution_count": 9,
     "metadata": {},
     "output_type": "execute_result"
    }
   ],
   "source": [
    "df_spotify = pd.read_csv('spotify-2023.csv', encoding='ISO-8859-1')\n",
    "df_spotify"
   ]
  },
  {
   "cell_type": "markdown",
   "id": "c1fed5f4-ba78-4192-b611-f58b211b5770",
   "metadata": {},
   "source": [
    "##### To load the given dataset, which is a csv file, the pd.read_csv is used\n",
    "##### The encoding='ISO-8859-1' is also implemented as it would not load the file without it\n",
    "#####\n",
    "##### It would also seem that multiple artists are credited for a number of songs so they must be seperated and each have their own row\n",
    "---"
   ]
  },
  {
   "cell_type": "markdown",
   "id": "4e0afdc2-c0a0-4de8-9d60-0d37f2e2a4d2",
   "metadata": {},
   "source": [
    "#### Viewing/Checking the data"
   ]
  },
  {
   "cell_type": "code",
   "execution_count": 12,
   "id": "72623047-908a-4919-8db3-942b979146ca",
   "metadata": {},
   "outputs": [
    {
     "name": "stdout",
     "output_type": "stream",
     "text": [
      "<class 'pandas.core.frame.DataFrame'>\n",
      "RangeIndex: 953 entries, 0 to 952\n",
      "Data columns (total 24 columns):\n",
      " #   Column                Non-Null Count  Dtype \n",
      "---  ------                --------------  ----- \n",
      " 0   track_name            953 non-null    object\n",
      " 1   artist(s)_name        953 non-null    object\n",
      " 2   artist_count          953 non-null    int64 \n",
      " 3   released_year         953 non-null    int64 \n",
      " 4   released_month        953 non-null    int64 \n",
      " 5   released_day          953 non-null    int64 \n",
      " 6   in_spotify_playlists  953 non-null    int64 \n",
      " 7   in_spotify_charts     953 non-null    int64 \n",
      " 8   streams               953 non-null    object\n",
      " 9   in_apple_playlists    953 non-null    int64 \n",
      " 10  in_apple_charts       953 non-null    int64 \n",
      " 11  in_deezer_playlists   953 non-null    object\n",
      " 12  in_deezer_charts      953 non-null    int64 \n",
      " 13  in_shazam_charts      903 non-null    object\n",
      " 14  bpm                   953 non-null    int64 \n",
      " 15  key                   858 non-null    object\n",
      " 16  mode                  953 non-null    object\n",
      " 17  danceability_%        953 non-null    int64 \n",
      " 18  valence_%             953 non-null    int64 \n",
      " 19  energy_%              953 non-null    int64 \n",
      " 20  acousticness_%        953 non-null    int64 \n",
      " 21  instrumentalness_%    953 non-null    int64 \n",
      " 22  liveness_%            953 non-null    int64 \n",
      " 23  speechiness_%         953 non-null    int64 \n",
      "dtypes: int64(17), object(7)\n",
      "memory usage: 178.8+ KB\n"
     ]
    }
   ],
   "source": [
    "df_spotify.info()"
   ]
  },
  {
   "cell_type": "markdown",
   "id": "f45f7546-a915-4fbb-a421-cca0639975c5",
   "metadata": {},
   "source": [
    "##### Using .info() acquires the basic information of the data\n",
    "##### There are 953 rows and 24 columns. \n",
    "##### The datatype for the streams in_deezer_playlists, and in_shazam_charts attributes are also incorrectly detected as an object\n",
    "---"
   ]
  },
  {
   "cell_type": "markdown",
   "id": "51625d57-ee18-49f1-a349-6e3fc3e00fcd",
   "metadata": {},
   "source": [
    "### Cleaning/Fixing the dataset"
   ]
  },
  {
   "cell_type": "markdown",
   "id": "f079b8c8-284f-4115-ae15-b8f3f95fc918",
   "metadata": {},
   "source": [
    "#### Fixing the datatypes for streams, in_deezer_playlists, and in_shazam_charts"
   ]
  },
  {
   "cell_type": "markdown",
   "id": "e3adeeb0-43cb-45da-afb7-bac0d8f59bc8",
   "metadata": {},
   "source": [
    "##### For the streams attribute"
   ]
  },
  {
   "cell_type": "code",
   "execution_count": 17,
   "id": "e07843d1-2b56-48d2-a5b4-503a81bfdafc",
   "metadata": {},
   "outputs": [
    {
     "data": {
      "text/plain": [
       "'BPM110KeyAModeMajorDanceability53Valence75Energy69Acousticness7Instrumentalness0Liveness17Speechiness3'"
      ]
     },
     "execution_count": 17,
     "metadata": {},
     "output_type": "execute_result"
    }
   ],
   "source": [
    "df_spotify['streams'].iloc[574]"
   ]
  },
  {
   "cell_type": "code",
   "execution_count": 18,
   "id": "da40c4a3-ab90-4eea-972f-d512cc67223b",
   "metadata": {},
   "outputs": [
    {
     "data": {
      "text/plain": [
       "0      141381703.0\n",
       "1      133716286.0\n",
       "2      140003974.0\n",
       "3      800840817.0\n",
       "4      303236322.0\n",
       "          ...     \n",
       "948     91473363.0\n",
       "949    121871870.0\n",
       "950     73513683.0\n",
       "951    133895612.0\n",
       "952     96007391.0\n",
       "Name: streams, Length: 953, dtype: float64"
      ]
     },
     "execution_count": 18,
     "metadata": {},
     "output_type": "execute_result"
    }
   ],
   "source": [
    "df_spotify['streams'] = pd.to_numeric(df_spotify['streams'], errors = 'coerce')\n",
    "df_spotify['streams']"
   ]
  },
  {
   "cell_type": "code",
   "execution_count": 19,
   "id": "269b2df3-fb50-4175-9fb2-5ca396c4a7b1",
   "metadata": {},
   "outputs": [
    {
     "data": {
      "text/plain": [
       "nan"
      ]
     },
     "execution_count": 19,
     "metadata": {},
     "output_type": "execute_result"
    }
   ],
   "source": [
    "df_spotify['streams'].iloc[574]"
   ]
  },
  {
   "cell_type": "markdown",
   "id": "e222d371-cac2-4651-bf2f-c1a6cea98d7c",
   "metadata": {},
   "source": [
    "##### Used errors = 'coerce' as without it, it wouldn't be able to convert the 574th row in to a numerical value\n",
    "##### The value of the 574th row of streams is converted to Nan and is now missing\n",
    "##### It used to store the values of the other columns related to the row of the song which was 'Love Grows (Where My Rosemary Goes)' by Edison Lighthouse\n",
    "##### It used to have 'BPM110KeyAModeMajorDanceability53Valence75Energy69Acousticness7Instrumentalness0Liveness17Speechiness3'\n",
    "#####\n",
    "##### Upon researching, the original song has about 276,093,748\taccumulated streams and is being streamed daily by 168,328 on 2024/10/16 which was 290 days since 2023\n",
    "##### Subtracting 276,093,748 by 168,000 multiplied by 290 to account for the extra days, we get 227,373,748 streams\n",
    "##### We should now store this value in that row as done below,"
   ]
  },
  {
   "cell_type": "code",
   "execution_count": 21,
   "id": "114962d1-1489-47cb-849b-53629be7d2ca",
   "metadata": {},
   "outputs": [
    {
     "data": {
      "text/plain": [
       "227373748.0"
      ]
     },
     "execution_count": 21,
     "metadata": {},
     "output_type": "execute_result"
    }
   ],
   "source": [
    "df_spotify.at[574, 'streams'] = 227373748\n",
    "df_spotify['streams'].iloc[574]"
   ]
  },
  {
   "cell_type": "markdown",
   "id": "d64feb94-486d-4604-82c2-9baf38325df4",
   "metadata": {},
   "source": [
    "#### For the in_deezer_playlists attribute"
   ]
  },
  {
   "cell_type": "code",
   "execution_count": 23,
   "id": "cdd10f24-c341-4a7d-8751-da9d60bb2571",
   "metadata": {},
   "outputs": [
    {
     "data": {
      "text/plain": [
       "0       45.0\n",
       "1       58.0\n",
       "2       91.0\n",
       "3      125.0\n",
       "4       87.0\n",
       "       ...  \n",
       "948     37.0\n",
       "949      8.0\n",
       "950      7.0\n",
       "951     17.0\n",
       "952     32.0\n",
       "Name: in_deezer_playlists, Length: 953, dtype: float64"
      ]
     },
     "execution_count": 23,
     "metadata": {},
     "output_type": "execute_result"
    }
   ],
   "source": [
    "df_spotify['in_deezer_playlists'] = df_spotify['in_deezer_playlists'].str.replace(\",\",\"\").astype(float)\n",
    "df_spotify['in_deezer_playlists']"
   ]
  },
  {
   "cell_type": "markdown",
   "id": "ee6f1036-852b-4414-91fc-59b392fdad2a",
   "metadata": {},
   "source": [
    "##### The in_deezer_playlists contains numbers with commas and it is the reason it detected as an object\n",
    "##### replacing all the commas with a space using .str.replace(\",\"\") ensuring that it can be all converted into numerical values\n",
    "##### The astype(float) is used to convert all the values in to column to become the float datatype\n",
    "#####"
   ]
  },
  {
   "cell_type": "markdown",
   "id": "57c556ae-8f46-46f2-8b2d-253fc283c8b6",
   "metadata": {},
   "source": [
    "#### For the in_shazam_charts attribute"
   ]
  },
  {
   "cell_type": "markdown",
   "id": "34e1cb47-17bb-43b5-8c05-771939223212",
   "metadata": {},
   "source": [
    "##### It has the same problem with the 'in_deezer_playlists' column so we just need to repeat the process before"
   ]
  },
  {
   "cell_type": "code",
   "execution_count": 27,
   "id": "a0dfdfcc-8dee-493f-913c-9188015d8b94",
   "metadata": {},
   "outputs": [
    {
     "data": {
      "text/plain": [
       "0      826.0\n",
       "1      382.0\n",
       "2      949.0\n",
       "3      548.0\n",
       "4      425.0\n",
       "       ...  \n",
       "948      0.0\n",
       "949      0.0\n",
       "950      0.0\n",
       "951      0.0\n",
       "952      0.0\n",
       "Name: in_shazam_charts, Length: 953, dtype: float64"
      ]
     },
     "execution_count": 27,
     "metadata": {},
     "output_type": "execute_result"
    }
   ],
   "source": [
    "df_spotify['in_shazam_charts'] = df_spotify['in_shazam_charts'].str.replace(\",\",\"\").astype(float)\n",
    "df_spotify['in_shazam_charts']"
   ]
  },
  {
   "cell_type": "markdown",
   "id": "7a60822c-3a1d-4a13-8f7b-9b72a49299de",
   "metadata": {},
   "source": [
    "---\n",
    "#### Handling duplicate tracks & values"
   ]
  },
  {
   "cell_type": "markdown",
   "id": "21b710ff-3439-4f59-af24-634c803febff",
   "metadata": {},
   "source": [
    "##### To check for duplicates the .duplicated command is used and since there are no exact duplicate of rows, only track names and artists,\n",
    "##### the .duplicated command has an added condition as (['track_name','artist(s)_name'])]\n",
    "#####"
   ]
  },
  {
   "cell_type": "code",
   "execution_count": 30,
   "id": "b5d363ef-4336-4449-b6c4-01d66d2501a8",
   "metadata": {},
   "outputs": [
    {
     "name": "stdout",
     "output_type": "stream",
     "text": [
      "The duplicate tracks that is in the dataseet are \n",
      "\n",
      "           track_name artist(s)_name  artist_count  released_year  \\\n",
      "482  SPIT IN MY FACE!       ThxSoMch             1           2022   \n",
      "616    Take My Breath     The Weeknd             1           2021   \n",
      "764   About Damn Time          Lizzo             1           2022   \n",
      "873              SNAP      Rosa Linn             1           2022   \n",
      "\n",
      "     released_month  released_day  in_spotify_playlists  in_spotify_charts  \\\n",
      "482              10            31                   573                  0   \n",
      "616               8             6                  6392                  0   \n",
      "764               4            14                  9021                  0   \n",
      "873               3            19                  1818                  0   \n",
      "\n",
      "         streams  in_apple_playlists  ...  bpm  key   mode  danceability_%  \\\n",
      "482  301869854.0                   1  ...  166   C#  Major              70   \n",
      "616  432702334.0                 174  ...  121   G#  Major              75   \n",
      "764  723894473.0                 242  ...  109   A#  Minor              84   \n",
      "873  711366595.0                   3  ...  170  NaN  Major              56   \n",
      "\n",
      "     valence_% energy_% acousticness_%  instrumentalness_%  liveness_%  \\\n",
      "482         57       57              9                  20          11   \n",
      "616         53       74              2                   0          11   \n",
      "764         72       74             10                   0          34   \n",
      "873         52       64             11                   0          45   \n",
      "\n",
      "     speechiness_%  \n",
      "482              7  \n",
      "616              5  \n",
      "764              7  \n",
      "873              7  \n",
      "\n",
      "[4 rows x 24 columns]\n"
     ]
    }
   ],
   "source": [
    "duplicate_tracks = df_spotify[df_spotify.duplicated(['track_name','artist(s)_name'])]\n",
    "\n",
    "print(\"The duplicate tracks that is in the dataseet are \")\n",
    "print()\n",
    "print(duplicate_tracks)"
   ]
  },
  {
   "cell_type": "markdown",
   "id": "35aba23a-9890-48e2-a593-6ff5fab9dae9",
   "metadata": {},
   "source": [
    "#####\n",
    "##### The duplicated tracks are probably due to re-releases and source data anomalies such as data entry errors or data collection methods\n",
    "##### Since the duplicated tracks are only 4, these tracks should be dropped and the their first instance should be kept\n",
    "#####"
   ]
  },
  {
   "cell_type": "code",
   "execution_count": 32,
   "id": "4dd099e9-c9f5-4d18-82cb-a7ef5d9c5bce",
   "metadata": {},
   "outputs": [
    {
     "name": "stdout",
     "output_type": "stream",
     "text": [
      "Empty DataFrame\n",
      "Columns: [track_name, artist(s)_name, artist_count, released_year, released_month, released_day, in_spotify_playlists, in_spotify_charts, streams, in_apple_playlists, in_apple_charts, in_deezer_playlists, in_deezer_charts, in_shazam_charts, bpm, key, mode, danceability_%, valence_%, energy_%, acousticness_%, instrumentalness_%, liveness_%, speechiness_%]\n",
      "Index: []\n",
      "\n",
      "[0 rows x 24 columns]\n"
     ]
    }
   ],
   "source": [
    "df_spotify = df_spotify.drop_duplicates([\"track_name\",\"artist(s)_name\"])\n",
    "duplicate_tracks = df_spotify[df_spotify.duplicated([\"track_name\",\"artist(s)_name\"])]\n",
    "print(duplicate_tracks)"
   ]
  },
  {
   "cell_type": "markdown",
   "id": "b1987e93-7703-4faf-bd26-28bb21a921df",
   "metadata": {},
   "source": [
    "---\n",
    "#### Handling Missing Values"
   ]
  },
  {
   "cell_type": "markdown",
   "id": "4b911538-714a-4f01-922c-cee83f7ce529",
   "metadata": {},
   "source": [
    "##### To check for missing values, .isna() returns a bool value, it returns true if the value in a specific attribute is missing or null\n",
    "##### .sum() makes it so that it counts all the times the isna() returns true\n",
    "##### To see the specific attributes that have missing values, the missing_values>0 condition is used so it only prints those who have missing values"
   ]
  },
  {
   "cell_type": "code",
   "execution_count": 35,
   "id": "edd41e58-8745-4cd0-b852-914261312ec0",
   "metadata": {},
   "outputs": [
    {
     "name": "stdout",
     "output_type": "stream",
     "text": [
      "The attributes that have missing values in the dataset are \n",
      "\n",
      "in_shazam_charts    50\n",
      "key                 94\n",
      "dtype: int64\n"
     ]
    }
   ],
   "source": [
    "missing_values = df_spotify.isna().sum()\n",
    "\n",
    "print(\"The attributes that have missing values in the dataset are \")\n",
    "print()\n",
    "print(missing_values[missing_values>0])"
   ]
  },
  {
   "cell_type": "markdown",
   "id": "5e6f5636-90cc-4c7a-9ffb-13779c453c6c",
   "metadata": {},
   "source": [
    "##### Since the missing values are lesser than 10% of the population, we may use imputation methods to replace them.\n",
    "##### Except for the cases of the missing values of the key column as they are specific to their own song, an object datatype, and almost has 10% missing\n",
    "##### We will drop the rows with missing key values\n",
    "##### \n",
    "##### Upon further research, it would seem that most data analysis algorithms/software assumes that data are missing completely at random.\n",
    "##### For the missing values in the in_shazam_charts, I opted to use the median imputation method \n",
    "##### as it makes the assumption that the data is missing completely at random"
   ]
  },
  {
   "cell_type": "code",
   "execution_count": 37,
   "id": "016bae67-b712-4fe6-b585-26bb7447dce2",
   "metadata": {},
   "outputs": [
    {
     "name": "stderr",
     "output_type": "stream",
     "text": [
      "C:\\Users\\Angelo Bon-ao\\AppData\\Local\\Temp\\ipykernel_21968\\3622115646.py:1: SettingWithCopyWarning: \n",
      "A value is trying to be set on a copy of a slice from a DataFrame\n",
      "\n",
      "See the caveats in the documentation: https://pandas.pydata.org/pandas-docs/stable/user_guide/indexing.html#returning-a-view-versus-a-copy\n",
      "  df_spotify.dropna(subset=['key'], inplace=True)\n"
     ]
    }
   ],
   "source": [
    "df_spotify.dropna(subset=['key'], inplace=True)"
   ]
  },
  {
   "cell_type": "code",
   "execution_count": 38,
   "id": "bf7ffbd8-adb6-4c33-ae37-5c9e70af2d40",
   "metadata": {},
   "outputs": [
    {
     "name": "stdout",
     "output_type": "stream",
     "text": [
      "The updated missing values are now \n",
      "\n",
      "in_shazam_charts    41\n",
      "dtype: int64\n"
     ]
    }
   ],
   "source": [
    "missing_values = df_spotify.isna().sum()\n",
    "print(\"The updated missing values are now \")\n",
    "print()\n",
    "print(missing_values[missing_values>0])"
   ]
  },
  {
   "cell_type": "markdown",
   "id": "dfae00fa-a467-451c-a770-ae01346bdb1c",
   "metadata": {},
   "source": [
    "##### Now that the rows with missing key values are gone, the missing values for in_shazam_charts have also lessened\n",
    "##### Making the median imputation safer to execute as it will have less impact to the entire population while retaining the song's other factors"
   ]
  },
  {
   "cell_type": "code",
   "execution_count": 40,
   "id": "e1c6a58b-2512-4877-b5cb-2df4e5638367",
   "metadata": {},
   "outputs": [
    {
     "data": {
      "text/plain": [
       "\"The median value of the 'in_shazam_charts' is 2.5\""
      ]
     },
     "execution_count": 40,
     "metadata": {},
     "output_type": "execute_result"
    }
   ],
   "source": [
    "shazam_median = df_spotify['in_shazam_charts'].median()\n",
    "f\"The median value of the 'in_shazam_charts' is {shazam_median}\""
   ]
  },
  {
   "cell_type": "code",
   "execution_count": 41,
   "id": "7baa2700-7804-4e9f-9995-19e0907bc61c",
   "metadata": {},
   "outputs": [
    {
     "name": "stderr",
     "output_type": "stream",
     "text": [
      "C:\\Users\\Angelo Bon-ao\\AppData\\Local\\Temp\\ipykernel_21968\\3851771827.py:1: FutureWarning: A value is trying to be set on a copy of a DataFrame or Series through chained assignment using an inplace method.\n",
      "The behavior will change in pandas 3.0. This inplace method will never work because the intermediate object on which we are setting values always behaves as a copy.\n",
      "\n",
      "For example, when doing 'df[col].method(value, inplace=True)', try using 'df.method({col: value}, inplace=True)' or df[col] = df[col].method(value) instead, to perform the operation inplace on the original object.\n",
      "\n",
      "\n",
      "  df_spotify['in_shazam_charts'].fillna(shazam_median, inplace=True)\n",
      "C:\\Users\\Angelo Bon-ao\\AppData\\Local\\Temp\\ipykernel_21968\\3851771827.py:1: SettingWithCopyWarning: \n",
      "A value is trying to be set on a copy of a slice from a DataFrame\n",
      "\n",
      "See the caveats in the documentation: https://pandas.pydata.org/pandas-docs/stable/user_guide/indexing.html#returning-a-view-versus-a-copy\n",
      "  df_spotify['in_shazam_charts'].fillna(shazam_median, inplace=True)\n"
     ]
    }
   ],
   "source": [
    "df_spotify['in_shazam_charts'].fillna(shazam_median, inplace=True)"
   ]
  },
  {
   "cell_type": "markdown",
   "id": "c9a0d3e6-dc7a-4a4c-9da1-c253151ebdb7",
   "metadata": {},
   "source": [
    "##### .fillna() is used to fill all nan values with something else such as the shazam_median,\n",
    "##### and inplace=True makes it so that the action is done to the original dataframe and not in a seperate copy\n",
    "##### Lastly, we should reset the index as many rows were dropped from the original dataframe"
   ]
  },
  {
   "cell_type": "code",
   "execution_count": 43,
   "id": "d82fca5a-b86b-4246-a403-47e2e9d3c2e4",
   "metadata": {},
   "outputs": [],
   "source": [
    "df_spotify = df_spotify.reset_index(drop=True)"
   ]
  },
  {
   "cell_type": "code",
   "execution_count": 44,
   "id": "86e3359e-c79d-405d-a870-c350dd72cf5d",
   "metadata": {},
   "outputs": [
    {
     "data": {
      "text/plain": [
       "track_name              0\n",
       "artist(s)_name          0\n",
       "artist_count            0\n",
       "released_year           0\n",
       "released_month          0\n",
       "released_day            0\n",
       "in_spotify_playlists    0\n",
       "in_spotify_charts       0\n",
       "streams                 0\n",
       "in_apple_playlists      0\n",
       "in_apple_charts         0\n",
       "in_deezer_playlists     0\n",
       "in_deezer_charts        0\n",
       "in_shazam_charts        0\n",
       "bpm                     0\n",
       "key                     0\n",
       "mode                    0\n",
       "danceability_%          0\n",
       "valence_%               0\n",
       "energy_%                0\n",
       "acousticness_%          0\n",
       "instrumentalness_%      0\n",
       "liveness_%              0\n",
       "speechiness_%           0\n",
       "dtype: int64"
      ]
     },
     "execution_count": 44,
     "metadata": {},
     "output_type": "execute_result"
    }
   ],
   "source": [
    "df_spotify.isna().sum()"
   ]
  },
  {
   "cell_type": "code",
   "execution_count": 45,
   "id": "6d20fbaa-7ee3-4479-b3b9-f4d41cf15d5c",
   "metadata": {},
   "outputs": [
    {
     "name": "stdout",
     "output_type": "stream",
     "text": [
      "<class 'pandas.core.frame.DataFrame'>\n",
      "RangeIndex: 855 entries, 0 to 854\n",
      "Data columns (total 24 columns):\n",
      " #   Column                Non-Null Count  Dtype  \n",
      "---  ------                --------------  -----  \n",
      " 0   track_name            855 non-null    object \n",
      " 1   artist(s)_name        855 non-null    object \n",
      " 2   artist_count          855 non-null    int64  \n",
      " 3   released_year         855 non-null    int64  \n",
      " 4   released_month        855 non-null    int64  \n",
      " 5   released_day          855 non-null    int64  \n",
      " 6   in_spotify_playlists  855 non-null    int64  \n",
      " 7   in_spotify_charts     855 non-null    int64  \n",
      " 8   streams               855 non-null    float64\n",
      " 9   in_apple_playlists    855 non-null    int64  \n",
      " 10  in_apple_charts       855 non-null    int64  \n",
      " 11  in_deezer_playlists   855 non-null    float64\n",
      " 12  in_deezer_charts      855 non-null    int64  \n",
      " 13  in_shazam_charts      855 non-null    float64\n",
      " 14  bpm                   855 non-null    int64  \n",
      " 15  key                   855 non-null    object \n",
      " 16  mode                  855 non-null    object \n",
      " 17  danceability_%        855 non-null    int64  \n",
      " 18  valence_%             855 non-null    int64  \n",
      " 19  energy_%              855 non-null    int64  \n",
      " 20  acousticness_%        855 non-null    int64  \n",
      " 21  instrumentalness_%    855 non-null    int64  \n",
      " 22  liveness_%            855 non-null    int64  \n",
      " 23  speechiness_%         855 non-null    int64  \n",
      "dtypes: float64(3), int64(17), object(4)\n",
      "memory usage: 160.4+ KB\n"
     ]
    }
   ],
   "source": [
    "df_spotify.info()"
   ]
  },
  {
   "cell_type": "markdown",
   "id": "3bede57e-8547-484d-8337-48ab9fee6f85",
   "metadata": {},
   "source": [
    "---\n",
    "### Overview of Dataset"
   ]
  },
  {
   "cell_type": "markdown",
   "id": "804cb267-119f-4312-bc68-847699ab7043",
   "metadata": {},
   "source": [
    "##### At first, the dataset had about 953 rows and 24 columns. After pre-processing/preparation of the data, \n",
    "##### it resulted in the final size of 1324 rows and the same number of columns\n",
    "#####\n",
    "##### The datatypes of each column turned out to be either a 64bit integer or an object but some categories were incorrectly labeled as an object\n",
    "##### Such as the streams, in_deezer_playlists, and in_shazam_charts. After pre-processing/preparation of the data,\n",
    "##### The three became all 64-bit float datatype\n",
    "#####\n",
    "##### At first, after handling all the duplicate tracks\n",
    "##### there were missing values in the streams column, in_shazam_charts, key columns\n",
    "##### The missing value in the streams column got replaced by a rough estimate\n",
    "##### All the rows that has a missing key were dropped\n",
    "##### Lastly, the rest of missing values in the in_shazam_charts got replaced by the median of the column\n",
    "---"
   ]
  },
  {
   "cell_type": "markdown",
   "id": "d558e32c-95cc-46c3-b215-c14c0aebfa76",
   "metadata": {},
   "source": [
    "### Basic Descriptive Statistics"
   ]
  },
  {
   "cell_type": "code",
   "execution_count": 49,
   "id": "80d46156-635d-4a27-8236-ec9bdc893dc2",
   "metadata": {},
   "outputs": [
    {
     "data": {
      "text/plain": [
       "'The mean of the total streams of the most streamed spotify songs of 2023 is 513116313.88187134'"
      ]
     },
     "execution_count": 49,
     "metadata": {},
     "output_type": "execute_result"
    }
   ],
   "source": [
    "f\"The mean of the total streams of the most streamed spotify songs of 2023 is {df_spotify['streams'].mean()}\""
   ]
  },
  {
   "cell_type": "code",
   "execution_count": 50,
   "id": "4970cf13-e41a-4fe0-ad5c-fe9f2cb07b8d",
   "metadata": {},
   "outputs": [
    {
     "data": {
      "text/plain": [
       "'The median of the total streams of the most streamed spotify songs of 2023 is 284785823.0'"
      ]
     },
     "execution_count": 50,
     "metadata": {},
     "output_type": "execute_result"
    }
   ],
   "source": [
    "f\"The median of the total streams of the most streamed spotify songs of 2023 is {df_spotify['streams'].median()}\""
   ]
  },
  {
   "cell_type": "code",
   "execution_count": 51,
   "id": "c0a38a36-caba-4e6f-8272-58f9bb0f7689",
   "metadata": {},
   "outputs": [
    {
     "data": {
      "text/plain": [
       "'The standard deviation of the total streams of the most streamed spotify songs of 2023 is 572140128.9326662'"
      ]
     },
     "execution_count": 51,
     "metadata": {},
     "output_type": "execute_result"
    }
   ],
   "source": [
    "f\"The standard deviation of the total streams of the most streamed spotify songs of 2023 is {df_spotify['streams'].std()}\""
   ]
  },
  {
   "cell_type": "markdown",
   "id": "c92a079d-494e-454e-aed9-61c6bcac8595",
   "metadata": {},
   "source": [
    "##### The mean being way higher than the median indicates that the songs with greater streams dominate the calculations of the mean and\n",
    "##### it also probably increased due to splitting of track rows that are credited to multiple artists\n",
    "##### \n",
    "##### The high standard deviation also supports this theory as it indicates high variance of the number of streams among the tracks\n",
    "##### Let us check the 10 highest streamed song on Spotify 2023 by ordering the dataset starting from the greatest to least streams \n",
    "##### and the distribution of the number of streams for easier analysis"
   ]
  },
  {
   "cell_type": "code",
   "execution_count": 53,
   "id": "13cfaeff-2c2b-42c9-bc6e-c79532edd251",
   "metadata": {},
   "outputs": [
    {
     "data": {
      "text/html": [
       "<div>\n",
       "<style scoped>\n",
       "    .dataframe tbody tr th:only-of-type {\n",
       "        vertical-align: middle;\n",
       "    }\n",
       "\n",
       "    .dataframe tbody tr th {\n",
       "        vertical-align: top;\n",
       "    }\n",
       "\n",
       "    .dataframe thead th {\n",
       "        text-align: right;\n",
       "    }\n",
       "</style>\n",
       "<table border=\"1\" class=\"dataframe\">\n",
       "  <thead>\n",
       "    <tr style=\"text-align: right;\">\n",
       "      <th></th>\n",
       "      <th>track_name</th>\n",
       "      <th>streams</th>\n",
       "    </tr>\n",
       "  </thead>\n",
       "  <tbody>\n",
       "    <tr>\n",
       "      <th>49</th>\n",
       "      <td>Blinding Lights</td>\n",
       "      <td>3.703895e+09</td>\n",
       "    </tr>\n",
       "    <tr>\n",
       "      <th>159</th>\n",
       "      <td>Shape of You</td>\n",
       "      <td>3.562544e+09</td>\n",
       "    </tr>\n",
       "    <tr>\n",
       "      <th>78</th>\n",
       "      <td>Someone You Loved</td>\n",
       "      <td>2.887242e+09</td>\n",
       "    </tr>\n",
       "    <tr>\n",
       "      <th>553</th>\n",
       "      <td>Dance Monkey</td>\n",
       "      <td>2.864792e+09</td>\n",
       "    </tr>\n",
       "    <tr>\n",
       "      <th>37</th>\n",
       "      <td>Sunflower - Spider-Man: Into the Spider-Verse</td>\n",
       "      <td>2.808097e+09</td>\n",
       "    </tr>\n",
       "    <tr>\n",
       "      <th>145</th>\n",
       "      <td>One Dance</td>\n",
       "      <td>2.713922e+09</td>\n",
       "    </tr>\n",
       "    <tr>\n",
       "      <th>76</th>\n",
       "      <td>STAY (with Justin Bieber)</td>\n",
       "      <td>2.665344e+09</td>\n",
       "    </tr>\n",
       "    <tr>\n",
       "      <th>128</th>\n",
       "      <td>Believer</td>\n",
       "      <td>2.594040e+09</td>\n",
       "    </tr>\n",
       "    <tr>\n",
       "      <th>649</th>\n",
       "      <td>Closer</td>\n",
       "      <td>2.591224e+09</td>\n",
       "    </tr>\n",
       "    <tr>\n",
       "      <th>42</th>\n",
       "      <td>Starboy</td>\n",
       "      <td>2.565530e+09</td>\n",
       "    </tr>\n",
       "  </tbody>\n",
       "</table>\n",
       "</div>"
      ],
      "text/plain": [
       "                                        track_name       streams\n",
       "49                                 Blinding Lights  3.703895e+09\n",
       "159                                   Shape of You  3.562544e+09\n",
       "78                               Someone You Loved  2.887242e+09\n",
       "553                                   Dance Monkey  2.864792e+09\n",
       "37   Sunflower - Spider-Man: Into the Spider-Verse  2.808097e+09\n",
       "145                                      One Dance  2.713922e+09\n",
       "76                       STAY (with Justin Bieber)  2.665344e+09\n",
       "128                                       Believer  2.594040e+09\n",
       "649                                         Closer  2.591224e+09\n",
       "42                                         Starboy  2.565530e+09"
      ]
     },
     "execution_count": 53,
     "metadata": {},
     "output_type": "execute_result"
    }
   ],
   "source": [
    "df_spotify[['track_name', 'streams']].sort_values(by='streams', ascending=False).head(10)\n",
    "# ascending=False sorts the tracks by greatest to least number of streams, gets the top ten by .head(10),\n",
    "# and only prints the title and its number of streams"
   ]
  },
  {
   "cell_type": "code",
   "execution_count": 175,
   "id": "c443e71f-95a7-4d64-8a1d-90ca9391b79a",
   "metadata": {},
   "outputs": [
    {
     "data": {
      "text/plain": [
       "Text(0, 0.5, 'Number of Tracks')"
      ]
     },
     "execution_count": 175,
     "metadata": {},
     "output_type": "execute_result"
    },
    {
     "data": {
      "image/png": "[encoded data removed]",
      "text/plain": [
       "<Figure size 640x480 with 1 Axes>"
      ]
     },
     "metadata": {},
     "output_type": "display_data"
    }
   ],
   "source": [
    "sns.histplot(df_spotify, x= 'streams',color='blue', element=\"poly\").set(title = 'Distribution of total streams')\n",
    "sns.set_style(\"whitegrid\", {'grid.linestyle': '--'})\n",
    "\n",
    "plt.xlabel('Number of Streams by Billions')\n",
    "plt.ylabel('Number of Tracks')"
   ]
  },
  {
   "cell_type": "markdown",
   "id": "5b8f48dc-4b9d-41a1-8e54-8d0866eccfcf",
   "metadata": {},
   "source": [
    "##### It can be seen that the two of highest streamed song is both above 3.5 billion\n",
    "##### The distribution of the number of streams also highlights that the outliers the dominate the calculation for the mean"
   ]
  },
  {
   "cell_type": "markdown",
   "id": "8f2d32aa-cb66-4d5a-a572-8f159be08d82",
   "metadata": {},
   "source": [
    "#### Distribution of released_year and artist_count"
   ]
  },
  {
   "cell_type": "code",
   "execution_count": 57,
   "id": "45e0adf6-c05e-43c5-891d-d5c3aab8441b",
   "metadata": {},
   "outputs": [
    {
     "data": {
      "text/plain": [
       "Text(5.569444444444452, 0.5, 'Number of Tracks')"
      ]
     },
     "execution_count": 57,
     "metadata": {},
     "output_type": "execute_result"
    },
    {
     "data": {
      "image/png": "[encoded data removed]",
      "text/plain": [
       "<Figure size 1500x500 with 1 Axes>"
      ]
     },
     "metadata": {},
     "output_type": "display_data"
    }
   ],
   "source": [
    "ryd = sns.displot(df_spotify, x='released_year',color='blue', discrete=True, aspect=3).set(title = \"Distribution of the most streamed spotify songs of 2023 by released year\")\n",
    "# To plot the distrbution of the released_year along with its distribution line, and each year being represented\n",
    "# also labels title\n",
    "\n",
    "ax = ryd.ax\n",
    "ax.grid(True, axis=\"y\", color=\"gray\", alpha=0.5)\n",
    "# to place grids along the x_axis\n",
    "\n",
    "plt.xlabel('Track Release Year')\n",
    "plt.ylabel('Number of Tracks')\n",
    "# labels x and y axes"
   ]
  },
  {
   "cell_type": "markdown",
   "id": "862ce7a9-c0ae-46de-88f0-9e471cade2fa",
   "metadata": {},
   "source": [
    "##### It would seem the most streamed spotify songs of 2023 are mostly from the 2020's and largerly from the year 2022\n",
    "##### This makes sense as trendy and topical music gets played over and over as they are newly released\n",
    "##### Tracks from 2022 would also accumulate more plays at it had more time to earn it than the tracks that were released upon the year 2023\n",
    "##### It would also seem that the distribution of the released year of the song follows recency bias, except for some goldies and some retro songs of the 2000's\n",
    "#####\n",
    "##### To check for outliers, we should calculate the interquartile range and count all the tracks outside of it\n",
    "##### To also visualize the outliers, a box plot can be used "
   ]
  },
  {
   "cell_type": "code",
   "execution_count": 126,
   "id": "6d08e80e-1cda-4c10-af4d-c85a09084b0f",
   "metadata": {},
   "outputs": [
    {
     "data": {
      "text/plain": [
       "'There are about 137 outliers within the release year attributes of the tracks.'"
      ]
     },
     "execution_count": 126,
     "metadata": {},
     "output_type": "execute_result"
    }
   ],
   "source": [
    "Q1ry = df_spotify['released_year'].quantile(0.25) \n",
    "# Defines 1st quartile\n",
    "Q3ry = df_spotify['released_year'].quantile(0.75)\n",
    "# Defines 2nd quartile\n",
    "IQRry = Q3ry - Q1ry\n",
    "\n",
    "# Equation for finding outliers within a given data\n",
    "outliers_ry = df_spotify[(df_spotify['released_year'] < Q1ry - 1.5 * IQRry) | (df_spotify['released_year'] > Q3ry + 1.5 * IQRry)]\n",
    "ry_outliers_num = outliers_ry.shape[0]\n",
    "f\"There are about {ry_outliers_num} outliers within the release year attributes of the tracks.\""
   ]
  },
  {
   "cell_type": "code",
   "execution_count": 146,
   "id": "bfee2d61-bfd6-436f-8e73-912703dccafd",
   "metadata": {},
   "outputs": [
    {
     "data": {
      "image/png": "[encoded data removed]",
      "text/plain": [
       "<Figure size 1500x500 with 1 Axes>"
      ]
     },
     "metadata": {},
     "output_type": "display_data"
    }
   ],
   "source": [
    "plt.figure(figsize=(15, 5))\n",
    "# To size the boxplots\n",
    "\n",
    "sns.boxplot(x=df_spotify['released_year'], fliersize=3)\n",
    "# Creates boxplot and resize the outlier data points\n",
    "\n",
    "plt.title(\"Track Release Year Boxplot\") \n",
    "# Sets title for the boxplot\n",
    "plt.xlabel(\"Track Release Year\")\n",
    "# Labels x-axis\n",
    "plt.show()"
   ]
  },
  {
   "cell_type": "code",
   "execution_count": 156,
   "id": "e597bcce-76f1-4b8c-8e95-513b1fef59f0",
   "metadata": {},
   "outputs": [
    {
     "data": {
      "text/plain": [
       "Text(5.569444444444445, 0.5, 'Number of Tracks')"
      ]
     },
     "execution_count": 156,
     "metadata": {},
     "output_type": "execute_result"
    },
    {
     "data": {
      "image/png": "[encoded data removed]",
      "text/plain": [
       "<Figure size 500x500 with 1 Axes>"
      ]
     },
     "metadata": {},
     "output_type": "display_data"
    }
   ],
   "source": [
    "ac = sns.displot(df_spotify, x='artist_count', color='Blue', discrete=True).set(title = \"Distribution of the number of credited artists per track\")\n",
    "# To plot the distrbution of the released_year along with its distribution line, and each year being represented\n",
    "# To plot the distrbution of the released_year along with its distribution line, and each artist count being represented\n",
    "# also labels title\n",
    "\n",
    "sns.set_style(\"white\")\n",
    "\n",
    "ax = ac.ax\n",
    "ax.grid(True, axis=\"y\", color=\"gray\", alpha=0.5)\n",
    "# to place grids along the x_axis\n",
    "\n",
    "plt.xlabel('Number of Credited Artists')\n",
    "plt.ylabel('Number of Tracks')\n",
    "# labels x and y axes"
   ]
  },
  {
   "cell_type": "code",
   "execution_count": null,
   "id": "5f7c351f-1675-430f-9599-67e95cb924be",
   "metadata": {},
   "outputs": [],
   "source": [
    "##### It would seem that the most streamed spotify songs of 2023 were made by a single artist \n",
    "##### The more artists are credited to a song, the less likely it would make the list of the most streamed spotify songs of 2023\n",
    "##### An anomaly that doesn't follow the trend is the artist count of 8 which is more occuring then the artist count of 7 \n",
    "#####\n",
    "##### To also check for outliers, we should repeat the same process used before for the track release year"
   ]
  },
  {
   "cell_type": "code",
   "execution_count": 152,
   "id": "3e1cc141-4652-4b82-bf66-de9a271c06e5",
   "metadata": {},
   "outputs": [
    {
     "data": {
      "text/plain": [
       "'There are about 24 outliers within the release year attributes of the tracks.'"
      ]
     },
     "execution_count": 152,
     "metadata": {},
     "output_type": "execute_result"
    }
   ],
   "source": [
    "Q1ac = df_spotify['artist_count'].quantile(0.25)\n",
    "Q3ac = df_spotify['artist_count'].quantile(0.75)\n",
    "IQRac = Q3ac - Q1ac\n",
    "\n",
    "# Equation for finding outliers within a given data\n",
    "outliers_ac = df_spotify[(df_spotify['artist_count'] < Q1ac - 1.5 * IQRac) | (df_spotify['artist_count'] > Q3ac + 1.5 * IQRac)]\n",
    "ac_outliers_num = outliers_ac.shape[0]\n",
    "f\"There are about {ac_outliers_num} outliers within the release year attributes of the tracks.\""
   ]
  },
  {
   "cell_type": "code",
   "execution_count": 158,
   "id": "a1ca2078-e90f-4ef6-84f7-6aea2e3c1b99",
   "metadata": {},
   "outputs": [
    {
     "data": {
      "image/png": "[encoded data removed]",
      "text/plain": [
       "<Figure size 1500x500 with 1 Axes>"
      ]
     },
     "metadata": {},
     "output_type": "display_data"
    }
   ],
   "source": [
    "plt.figure(figsize=(15, 5))\n",
    "# To size the boxplots\n",
    "\n",
    "sns.boxplot(x=df_spotify['artist_count'], fliersize=3)\n",
    "# Creates boxplot and resize the outlier data points\n",
    "\n",
    "plt.title(\"Number of Credited Artist Per Track Boxplot\") \n",
    "# Sets title for the boxplot\n",
    "plt.xlabel(\"Track Release Year\")\n",
    "# Labels x-axis\n",
    "plt.show()"
   ]
  },
  {
   "cell_type": "markdown",
   "id": "10f3a836-b7b5-4aaa-bde8-7e67e543c48e",
   "metadata": {},
   "source": [
    "---"
   ]
  },
  {
   "cell_type": "markdown",
   "id": "394fb905-602b-4ee0-a509-5dba79f645c9",
   "metadata": {},
   "source": [
    "### Top Performers"
   ]
  },
  {
   "cell_type": "markdown",
   "id": "3dd1ea1e-d473-4333-826c-119aac82e941",
   "metadata": {},
   "source": [
    "#### The top 5 most streamed tracks"
   ]
  },
  {
   "cell_type": "code",
   "execution_count": 63,
   "id": "10b77f95-bf4b-4e65-a51b-80592ff56fd8",
   "metadata": {},
   "outputs": [
    {
     "data": {
      "text/html": [
       "<div>\n",
       "<style scoped>\n",
       "    .dataframe tbody tr th:only-of-type {\n",
       "        vertical-align: middle;\n",
       "    }\n",
       "\n",
       "    .dataframe tbody tr th {\n",
       "        vertical-align: top;\n",
       "    }\n",
       "\n",
       "    .dataframe thead th {\n",
       "        text-align: right;\n",
       "    }\n",
       "</style>\n",
       "<table border=\"1\" class=\"dataframe\">\n",
       "  <thead>\n",
       "    <tr style=\"text-align: right;\">\n",
       "      <th></th>\n",
       "      <th>track_name</th>\n",
       "      <th>artist(s)_name</th>\n",
       "      <th>streams</th>\n",
       "    </tr>\n",
       "  </thead>\n",
       "  <tbody>\n",
       "    <tr>\n",
       "      <th>49</th>\n",
       "      <td>Blinding Lights</td>\n",
       "      <td>The Weeknd</td>\n",
       "      <td>3.703895e+09</td>\n",
       "    </tr>\n",
       "    <tr>\n",
       "      <th>159</th>\n",
       "      <td>Shape of You</td>\n",
       "      <td>Ed Sheeran</td>\n",
       "      <td>3.562544e+09</td>\n",
       "    </tr>\n",
       "    <tr>\n",
       "      <th>78</th>\n",
       "      <td>Someone You Loved</td>\n",
       "      <td>Lewis Capaldi</td>\n",
       "      <td>2.887242e+09</td>\n",
       "    </tr>\n",
       "    <tr>\n",
       "      <th>553</th>\n",
       "      <td>Dance Monkey</td>\n",
       "      <td>Tones and I</td>\n",
       "      <td>2.864792e+09</td>\n",
       "    </tr>\n",
       "    <tr>\n",
       "      <th>37</th>\n",
       "      <td>Sunflower - Spider-Man: Into the Spider-Verse</td>\n",
       "      <td>Post Malone, Swae Lee</td>\n",
       "      <td>2.808097e+09</td>\n",
       "    </tr>\n",
       "  </tbody>\n",
       "</table>\n",
       "</div>"
      ],
      "text/plain": [
       "                                        track_name         artist(s)_name  \\\n",
       "49                                 Blinding Lights             The Weeknd   \n",
       "159                                   Shape of You             Ed Sheeran   \n",
       "78                               Someone You Loved          Lewis Capaldi   \n",
       "553                                   Dance Monkey            Tones and I   \n",
       "37   Sunflower - Spider-Man: Into the Spider-Verse  Post Malone, Swae Lee   \n",
       "\n",
       "          streams  \n",
       "49   3.703895e+09  \n",
       "159  3.562544e+09  \n",
       "78   2.887242e+09  \n",
       "553  2.864792e+09  \n",
       "37   2.808097e+09  "
      ]
     },
     "execution_count": 63,
     "metadata": {},
     "output_type": "execute_result"
    }
   ],
   "source": [
    "df_spotify[['track_name', 'artist(s)_name','streams']].sort_values(by='streams', ascending=False).head()\n",
    "# it sorts the data from greatest to least streams\n",
    "# it locates and print the first 5 tracks along with its track name and the number of streams"
   ]
  },
  {
   "cell_type": "markdown",
   "id": "b99f1860-5a83-47a3-8158-994c5603cebd",
   "metadata": {},
   "source": [
    "##### The top 5 most streamed tracks are seen above, the most streamed track is the song 'Blinding Lights' by The Weeknd"
   ]
  },
  {
   "cell_type": "markdown",
   "id": "ddf513bd-27c8-4d38-8d40-f0d30aad15be",
   "metadata": {},
   "source": [
    "##### To track the top artists, we must first seperate all the tracks that have multiple credited artists\n",
    "##### This would make it so that each artist would have their own rows of the respective tracks\n",
    "##### This is to adjust and accumulate all the streams for each artist"
   ]
  },
  {
   "cell_type": "code",
   "execution_count": 66,
   "id": "b3d705e6-ee0e-41b4-920d-2c5b4073339a",
   "metadata": {},
   "outputs": [
    {
     "data": {
      "text/plain": [
       "0         [Latto,  Jung Kook]\n",
       "1               [Myke Towers]\n",
       "2            [Olivia Rodrigo]\n",
       "3              [Taylor Swift]\n",
       "4                 [Bad Bunny]\n",
       "                ...          \n",
       "850            [Selena Gomez]\n",
       "851            [Taylor Swift]\n",
       "852     [Feid,  Paulo Londra]\n",
       "853    [Feid,  Sech,  Jhayco]\n",
       "854               [Burna Boy]\n",
       "Name: artist(s)_name, Length: 855, dtype: object"
      ]
     },
     "execution_count": 66,
     "metadata": {},
     "output_type": "execute_result"
    }
   ],
   "source": [
    "df_spotify['artist(s)_name'] = df_spotify['artist(s)_name'].str.split(',')\n",
    "df_spotify['artist(s)_name']\n",
    "# turns all the artists into a list and splits all of them with a column"
   ]
  },
  {
   "cell_type": "code",
   "execution_count": 67,
   "id": "494d7dbb-c95e-4fb6-abeb-eb36d1cd6a49",
   "metadata": {},
   "outputs": [
    {
     "data": {
      "text/html": [
       "<div>\n",
       "<style scoped>\n",
       "    .dataframe tbody tr th:only-of-type {\n",
       "        vertical-align: middle;\n",
       "    }\n",
       "\n",
       "    .dataframe tbody tr th {\n",
       "        vertical-align: top;\n",
       "    }\n",
       "\n",
       "    .dataframe thead th {\n",
       "        text-align: right;\n",
       "    }\n",
       "</style>\n",
       "<table border=\"1\" class=\"dataframe\">\n",
       "  <thead>\n",
       "    <tr style=\"text-align: right;\">\n",
       "      <th></th>\n",
       "      <th>track_name</th>\n",
       "      <th>artist(s)_name</th>\n",
       "      <th>artist_count</th>\n",
       "      <th>released_year</th>\n",
       "      <th>released_month</th>\n",
       "      <th>released_day</th>\n",
       "      <th>in_spotify_playlists</th>\n",
       "      <th>in_spotify_charts</th>\n",
       "      <th>streams</th>\n",
       "      <th>in_apple_playlists</th>\n",
       "      <th>...</th>\n",
       "      <th>bpm</th>\n",
       "      <th>key</th>\n",
       "      <th>mode</th>\n",
       "      <th>danceability_%</th>\n",
       "      <th>valence_%</th>\n",
       "      <th>energy_%</th>\n",
       "      <th>acousticness_%</th>\n",
       "      <th>instrumentalness_%</th>\n",
       "      <th>liveness_%</th>\n",
       "      <th>speechiness_%</th>\n",
       "    </tr>\n",
       "  </thead>\n",
       "  <tbody>\n",
       "    <tr>\n",
       "      <th>0</th>\n",
       "      <td>Seven (feat. Latto) (Explicit Ver.)</td>\n",
       "      <td>Latto</td>\n",
       "      <td>2</td>\n",
       "      <td>2023</td>\n",
       "      <td>7</td>\n",
       "      <td>14</td>\n",
       "      <td>553</td>\n",
       "      <td>147</td>\n",
       "      <td>141381703.0</td>\n",
       "      <td>43</td>\n",
       "      <td>...</td>\n",
       "      <td>125</td>\n",
       "      <td>B</td>\n",
       "      <td>Major</td>\n",
       "      <td>80</td>\n",
       "      <td>89</td>\n",
       "      <td>83</td>\n",
       "      <td>31</td>\n",
       "      <td>0</td>\n",
       "      <td>8</td>\n",
       "      <td>4</td>\n",
       "    </tr>\n",
       "    <tr>\n",
       "      <th>1</th>\n",
       "      <td>Seven (feat. Latto) (Explicit Ver.)</td>\n",
       "      <td>Jung Kook</td>\n",
       "      <td>2</td>\n",
       "      <td>2023</td>\n",
       "      <td>7</td>\n",
       "      <td>14</td>\n",
       "      <td>553</td>\n",
       "      <td>147</td>\n",
       "      <td>141381703.0</td>\n",
       "      <td>43</td>\n",
       "      <td>...</td>\n",
       "      <td>125</td>\n",
       "      <td>B</td>\n",
       "      <td>Major</td>\n",
       "      <td>80</td>\n",
       "      <td>89</td>\n",
       "      <td>83</td>\n",
       "      <td>31</td>\n",
       "      <td>0</td>\n",
       "      <td>8</td>\n",
       "      <td>4</td>\n",
       "    </tr>\n",
       "    <tr>\n",
       "      <th>2</th>\n",
       "      <td>LALA</td>\n",
       "      <td>Myke Towers</td>\n",
       "      <td>1</td>\n",
       "      <td>2023</td>\n",
       "      <td>3</td>\n",
       "      <td>23</td>\n",
       "      <td>1474</td>\n",
       "      <td>48</td>\n",
       "      <td>133716286.0</td>\n",
       "      <td>48</td>\n",
       "      <td>...</td>\n",
       "      <td>92</td>\n",
       "      <td>C#</td>\n",
       "      <td>Major</td>\n",
       "      <td>71</td>\n",
       "      <td>61</td>\n",
       "      <td>74</td>\n",
       "      <td>7</td>\n",
       "      <td>0</td>\n",
       "      <td>10</td>\n",
       "      <td>4</td>\n",
       "    </tr>\n",
       "    <tr>\n",
       "      <th>3</th>\n",
       "      <td>vampire</td>\n",
       "      <td>Olivia Rodrigo</td>\n",
       "      <td>1</td>\n",
       "      <td>2023</td>\n",
       "      <td>6</td>\n",
       "      <td>30</td>\n",
       "      <td>1397</td>\n",
       "      <td>113</td>\n",
       "      <td>140003974.0</td>\n",
       "      <td>94</td>\n",
       "      <td>...</td>\n",
       "      <td>138</td>\n",
       "      <td>F</td>\n",
       "      <td>Major</td>\n",
       "      <td>51</td>\n",
       "      <td>32</td>\n",
       "      <td>53</td>\n",
       "      <td>17</td>\n",
       "      <td>0</td>\n",
       "      <td>31</td>\n",
       "      <td>6</td>\n",
       "    </tr>\n",
       "    <tr>\n",
       "      <th>4</th>\n",
       "      <td>Cruel Summer</td>\n",
       "      <td>Taylor Swift</td>\n",
       "      <td>1</td>\n",
       "      <td>2019</td>\n",
       "      <td>8</td>\n",
       "      <td>23</td>\n",
       "      <td>7858</td>\n",
       "      <td>100</td>\n",
       "      <td>800840817.0</td>\n",
       "      <td>116</td>\n",
       "      <td>...</td>\n",
       "      <td>170</td>\n",
       "      <td>A</td>\n",
       "      <td>Major</td>\n",
       "      <td>55</td>\n",
       "      <td>58</td>\n",
       "      <td>72</td>\n",
       "      <td>11</td>\n",
       "      <td>0</td>\n",
       "      <td>11</td>\n",
       "      <td>15</td>\n",
       "    </tr>\n",
       "    <tr>\n",
       "      <th>...</th>\n",
       "      <td>...</td>\n",
       "      <td>...</td>\n",
       "      <td>...</td>\n",
       "      <td>...</td>\n",
       "      <td>...</td>\n",
       "      <td>...</td>\n",
       "      <td>...</td>\n",
       "      <td>...</td>\n",
       "      <td>...</td>\n",
       "      <td>...</td>\n",
       "      <td>...</td>\n",
       "      <td>...</td>\n",
       "      <td>...</td>\n",
       "      <td>...</td>\n",
       "      <td>...</td>\n",
       "      <td>...</td>\n",
       "      <td>...</td>\n",
       "      <td>...</td>\n",
       "      <td>...</td>\n",
       "      <td>...</td>\n",
       "      <td>...</td>\n",
       "    </tr>\n",
       "    <tr>\n",
       "      <th>1322</th>\n",
       "      <td>A Veces (feat. Feid)</td>\n",
       "      <td>Paulo Londra</td>\n",
       "      <td>2</td>\n",
       "      <td>2022</td>\n",
       "      <td>11</td>\n",
       "      <td>3</td>\n",
       "      <td>573</td>\n",
       "      <td>0</td>\n",
       "      <td>73513683.0</td>\n",
       "      <td>2</td>\n",
       "      <td>...</td>\n",
       "      <td>92</td>\n",
       "      <td>C#</td>\n",
       "      <td>Major</td>\n",
       "      <td>80</td>\n",
       "      <td>81</td>\n",
       "      <td>67</td>\n",
       "      <td>4</td>\n",
       "      <td>0</td>\n",
       "      <td>8</td>\n",
       "      <td>6</td>\n",
       "    </tr>\n",
       "    <tr>\n",
       "      <th>1323</th>\n",
       "      <td>En La De Ella</td>\n",
       "      <td>Feid</td>\n",
       "      <td>3</td>\n",
       "      <td>2022</td>\n",
       "      <td>10</td>\n",
       "      <td>20</td>\n",
       "      <td>1320</td>\n",
       "      <td>0</td>\n",
       "      <td>133895612.0</td>\n",
       "      <td>29</td>\n",
       "      <td>...</td>\n",
       "      <td>97</td>\n",
       "      <td>C#</td>\n",
       "      <td>Major</td>\n",
       "      <td>82</td>\n",
       "      <td>67</td>\n",
       "      <td>77</td>\n",
       "      <td>8</td>\n",
       "      <td>0</td>\n",
       "      <td>12</td>\n",
       "      <td>5</td>\n",
       "    </tr>\n",
       "    <tr>\n",
       "      <th>1324</th>\n",
       "      <td>En La De Ella</td>\n",
       "      <td>Sech</td>\n",
       "      <td>3</td>\n",
       "      <td>2022</td>\n",
       "      <td>10</td>\n",
       "      <td>20</td>\n",
       "      <td>1320</td>\n",
       "      <td>0</td>\n",
       "      <td>133895612.0</td>\n",
       "      <td>29</td>\n",
       "      <td>...</td>\n",
       "      <td>97</td>\n",
       "      <td>C#</td>\n",
       "      <td>Major</td>\n",
       "      <td>82</td>\n",
       "      <td>67</td>\n",
       "      <td>77</td>\n",
       "      <td>8</td>\n",
       "      <td>0</td>\n",
       "      <td>12</td>\n",
       "      <td>5</td>\n",
       "    </tr>\n",
       "    <tr>\n",
       "      <th>1325</th>\n",
       "      <td>En La De Ella</td>\n",
       "      <td>Jhayco</td>\n",
       "      <td>3</td>\n",
       "      <td>2022</td>\n",
       "      <td>10</td>\n",
       "      <td>20</td>\n",
       "      <td>1320</td>\n",
       "      <td>0</td>\n",
       "      <td>133895612.0</td>\n",
       "      <td>29</td>\n",
       "      <td>...</td>\n",
       "      <td>97</td>\n",
       "      <td>C#</td>\n",
       "      <td>Major</td>\n",
       "      <td>82</td>\n",
       "      <td>67</td>\n",
       "      <td>77</td>\n",
       "      <td>8</td>\n",
       "      <td>0</td>\n",
       "      <td>12</td>\n",
       "      <td>5</td>\n",
       "    </tr>\n",
       "    <tr>\n",
       "      <th>1326</th>\n",
       "      <td>Alone</td>\n",
       "      <td>Burna Boy</td>\n",
       "      <td>1</td>\n",
       "      <td>2022</td>\n",
       "      <td>11</td>\n",
       "      <td>4</td>\n",
       "      <td>782</td>\n",
       "      <td>2</td>\n",
       "      <td>96007391.0</td>\n",
       "      <td>27</td>\n",
       "      <td>...</td>\n",
       "      <td>90</td>\n",
       "      <td>E</td>\n",
       "      <td>Minor</td>\n",
       "      <td>61</td>\n",
       "      <td>32</td>\n",
       "      <td>67</td>\n",
       "      <td>15</td>\n",
       "      <td>0</td>\n",
       "      <td>11</td>\n",
       "      <td>5</td>\n",
       "    </tr>\n",
       "  </tbody>\n",
       "</table>\n",
       "<p>1327 rows × 24 columns</p>\n",
       "</div>"
      ],
      "text/plain": [
       "                               track_name  artist(s)_name  artist_count  \\\n",
       "0     Seven (feat. Latto) (Explicit Ver.)           Latto             2   \n",
       "1     Seven (feat. Latto) (Explicit Ver.)       Jung Kook             2   \n",
       "2                                    LALA     Myke Towers             1   \n",
       "3                                 vampire  Olivia Rodrigo             1   \n",
       "4                            Cruel Summer    Taylor Swift             1   \n",
       "...                                   ...             ...           ...   \n",
       "1322                 A Veces (feat. Feid)    Paulo Londra             2   \n",
       "1323                        En La De Ella            Feid             3   \n",
       "1324                        En La De Ella            Sech             3   \n",
       "1325                        En La De Ella          Jhayco             3   \n",
       "1326                                Alone       Burna Boy             1   \n",
       "\n",
       "      released_year  released_month  released_day  in_spotify_playlists  \\\n",
       "0              2023               7            14                   553   \n",
       "1              2023               7            14                   553   \n",
       "2              2023               3            23                  1474   \n",
       "3              2023               6            30                  1397   \n",
       "4              2019               8            23                  7858   \n",
       "...             ...             ...           ...                   ...   \n",
       "1322           2022              11             3                   573   \n",
       "1323           2022              10            20                  1320   \n",
       "1324           2022              10            20                  1320   \n",
       "1325           2022              10            20                  1320   \n",
       "1326           2022              11             4                   782   \n",
       "\n",
       "      in_spotify_charts      streams  in_apple_playlists  ...  bpm  key  \\\n",
       "0                   147  141381703.0                  43  ...  125    B   \n",
       "1                   147  141381703.0                  43  ...  125    B   \n",
       "2                    48  133716286.0                  48  ...   92   C#   \n",
       "3                   113  140003974.0                  94  ...  138    F   \n",
       "4                   100  800840817.0                 116  ...  170    A   \n",
       "...                 ...          ...                 ...  ...  ...  ...   \n",
       "1322                  0   73513683.0                   2  ...   92   C#   \n",
       "1323                  0  133895612.0                  29  ...   97   C#   \n",
       "1324                  0  133895612.0                  29  ...   97   C#   \n",
       "1325                  0  133895612.0                  29  ...   97   C#   \n",
       "1326                  2   96007391.0                  27  ...   90    E   \n",
       "\n",
       "       mode  danceability_%  valence_% energy_% acousticness_%  \\\n",
       "0     Major              80         89       83             31   \n",
       "1     Major              80         89       83             31   \n",
       "2     Major              71         61       74              7   \n",
       "3     Major              51         32       53             17   \n",
       "4     Major              55         58       72             11   \n",
       "...     ...             ...        ...      ...            ...   \n",
       "1322  Major              80         81       67              4   \n",
       "1323  Major              82         67       77              8   \n",
       "1324  Major              82         67       77              8   \n",
       "1325  Major              82         67       77              8   \n",
       "1326  Minor              61         32       67             15   \n",
       "\n",
       "      instrumentalness_%  liveness_%  speechiness_%  \n",
       "0                      0           8              4  \n",
       "1                      0           8              4  \n",
       "2                      0          10              4  \n",
       "3                      0          31              6  \n",
       "4                      0          11             15  \n",
       "...                  ...         ...            ...  \n",
       "1322                   0           8              6  \n",
       "1323                   0          12              5  \n",
       "1324                   0          12              5  \n",
       "1325                   0          12              5  \n",
       "1326                   0          11              5  \n",
       "\n",
       "[1327 rows x 24 columns]"
      ]
     },
     "execution_count": 67,
     "metadata": {},
     "output_type": "execute_result"
    }
   ],
   "source": [
    "df_spotify = df_spotify.explode('artist(s)_name').reset_index(drop=True)\n",
    "df_spotify['artist(s)_name'] = df_spotify['artist(s)_name'].str.strip()\n",
    "df_spotify\n",
    "# The .explode() makes it so that the list is counted as a row, we also reset index for cleaner analaysis\n",
    "# The list of the seperated names in now stored in the column of the artist(s)_name\n",
    "# The result can be seen below"
   ]
  },
  {
   "cell_type": "markdown",
   "id": "02a51a3d-0d8e-49e0-8c38-b00bb3c8e930",
   "metadata": {},
   "source": [
    "##### The artist_count attribute is no longer valid as each artist is seperated, we should now drop that entire column for the rest of the EDA\n",
    "##### To also have a cleaner data, we could now rewrite the attrbute of the artist(s)_name as just artist_name"
   ]
  },
  {
   "cell_type": "code",
   "execution_count": 69,
   "id": "5193f300-40df-4475-a9cc-86e80610a28c",
   "metadata": {},
   "outputs": [],
   "source": [
    "df_spotify.drop('artist_count',axis=1,inplace=True)\n",
    "# drops the artist_count attribute from the whole dataset\n",
    "df_spotify.rename(columns={'artist(s)_name':'artist_name'}, inplace=True)\n",
    "# renames the attribute of artist name properky"
   ]
  },
  {
   "cell_type": "markdown",
   "id": "6f7ee501-706a-4958-8699-f4d65909dd23",
   "metadata": {},
   "source": [
    "### Top 5 most frequent artists based on the number of tracks"
   ]
  },
  {
   "cell_type": "code",
   "execution_count": 71,
   "id": "abb94880-7508-4e4f-9990-93dc7d087d07",
   "metadata": {},
   "outputs": [
    {
     "data": {
      "text/plain": [
       "artist_name\n",
       "Bad Bunny         36\n",
       "Taylor Swift      32\n",
       "The Weeknd        28\n",
       "Kendrick Lamar    23\n",
       "Feid              21\n",
       "Name: count, dtype: int64"
      ]
     },
     "execution_count": 71,
     "metadata": {},
     "output_type": "execute_result"
    }
   ],
   "source": [
    "df_spotify['artist_name'].value_counts().head()"
   ]
  },
  {
   "cell_type": "markdown",
   "id": "fa68479e-5767-41bf-bbbb-9836feeba036",
   "metadata": {},
   "source": [
    "##### The top 5 most frequent artists based on the number of tracks can be seen above\n",
    "##### Taylor Swift being Top 2 makes sense as she releases different versions of the same songs\n",
    "---"
   ]
  },
  {
   "cell_type": "markdown",
   "id": "40e77448-d045-4fd5-84fb-6fe6f1f51e38",
   "metadata": {},
   "source": [
    "### Temporal Trends"
   ]
  },
  {
   "cell_type": "markdown",
   "id": "f00b1b54-e94a-439e-8f88-6b960516211e",
   "metadata": {},
   "source": [
    "#### Trends in number of track released over time"
   ]
  },
  {
   "cell_type": "markdown",
   "id": "c9474bc7-d6dc-4ff5-a1c4-525b783d26b3",
   "metadata": {},
   "source": [
    "##### Releases over the years"
   ]
  },
  {
   "cell_type": "code",
   "execution_count": 234,
   "id": "dbf6685a-cf1f-4e28-ac7d-f36858b97904",
   "metadata": {},
   "outputs": [
    {
     "data": {
      "text/plain": [
       "<seaborn.axisgrid.FacetGrid at 0x1c459e6e9f0>"
      ]
     },
     "execution_count": 234,
     "metadata": {},
     "output_type": "execute_result"
    },
    {
     "data": {
      "image/png": "[encoded data removed]",
      "text/plain": [
       "<Figure size 1500x500 with 1 Axes>"
      ]
     },
     "metadata": {},
     "output_type": "display_data"
    }
   ],
   "source": [
    "sns.displot(data=df_spotify, x='released_year', element='poly', fill=False, discrete=True, aspect = 3)\n",
    "\n",
    "\n",
    "plt.xlabel('Months')\n",
    "plt.ylabel('Number of Tracks Released')\n",
    "plt.title('Number of Tracks Released Per Month')"
   ]
  },
  {
   "cell_type": "code",
   "execution_count": null,
   "id": "25194117-5a64-4612-92ee-4fd4a72590bc",
   "metadata": {},
   "outputs": [],
   "source": [
    "##### Same observations as before, the most streamed songs follow recency bias, most of the tracks released in the 2020's\n",
    "##### It also shows that given the right balance of time, tracks released from 2022 carry the most streams\n",
    "##### due to given more time to rise in popularity"
   ]
  },
  {
   "cell_type": "markdown",
   "id": "dff266ea-fcb1-417b-9644-faffa3fb397d",
   "metadata": {},
   "source": [
    "##### Releases over the months"
   ]
  },
  {
   "cell_type": "code",
   "execution_count": 230,
   "id": "8fb19736-0134-43e6-88da-2df12f1c2b39",
   "metadata": {},
   "outputs": [
    {
     "data": {
      "image/png": "[encoded data removed]",
      "text/plain": [
       "<Figure size 1500x500 with 1 Axes>"
      ]
     },
     "metadata": {},
     "output_type": "display_data"
    }
   ],
   "source": [
    "sns.displot(data=df_spotify, x='released_month', element='poly', fill=False, discrete=True, aspect = 3)\n",
    "\n",
    "plt.xlabel('Months')\n",
    "plt.ylabel('Number of Tracks Released')\n",
    "plt.title('Number of Tracks Released Per Month')\n",
    "\n",
    "\n",
    "plt.xticks(ticks=range(1, 13), labels=[calendar.month_name[i] for i in range(1, 13)])\n",
    "plt.xlim(1, 12)\n",
    "plt.show()"
   ]
  },
  {
   "cell_type": "code",
   "execution_count": null,
   "id": "7b541b49-4eb1-4d13-9f8c-5df69bfe04d6",
   "metadata": {},
   "outputs": [],
   "source": []
  }
 ],
 "metadata": {
  "kernelspec": {
   "display_name": "Python 3 (ipykernel)",
   "language": "python",
   "name": "python3"
  },
  "language_info": {
   "codemirror_mode": {
    "name": "ipython",
    "version": 3
   },
   "file_extension": ".py",
   "mimetype": "text/x-python",
   "name": "python",
   "nbconvert_exporter": "python",
   "pygments_lexer": "ipython3",
   "version": "3.12.4"
  }
 },
 "nbformat": 4,
 "nbformat_minor": 5
}
