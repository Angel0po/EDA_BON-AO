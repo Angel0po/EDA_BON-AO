{
 "cells": [
  {
   "cell_type": "markdown",
   "id": "d925d2e7-4f24-435c-9d67-f8c8521ce897",
   "metadata": {},
   "source": [
    "## Exploratory Data Analysis on the Most Streamed Spotify Songs of 2023 by Bon-ao, Angelo B."
   ]
  },
  {
   "cell_type": "markdown",
   "id": "ff4fde90-d0a2-4675-aa74-cc8f539e2af6",
   "metadata": {},
   "source": [
    "#### This code entails an exploratory data analysis on the most streamed spotify songs of 2023. \n",
    "#### It includes exploring, cleaning, and visualizing the data it contains."
   ]
  },
  {
   "cell_type": "markdown",
   "id": "86e1b2f9-b92d-484c-a5c0-0563d75fdcff",
   "metadata": {},
   "source": [
    "### Preparation/Pre-processing for EDA"
   ]
  },
  {
   "cell_type": "markdown",
   "id": "70e7cfa5-6f38-44c4-aaa1-4cf4eefe87fb",
   "metadata": {},
   "source": [
    "#### Importing necessary libraries"
   ]
  },
  {
   "cell_type": "code",
   "execution_count": 1,
   "id": "5a9231bf-387b-4f7d-a66e-2bf3af495f56",
   "metadata": {},
   "outputs": [],
   "source": [
    "import pandas as pd\n",
    "import matplotlib.pyplot as plt\n",
    "import seaborn as sns"
   ]
  },
  {
   "cell_type": "markdown",
   "id": "6683841f-5f92-4af0-8ebf-fb25becf7040",
   "metadata": {},
   "source": [
    "##### These libraries are needed in order to perform EDA on the given dataset;\n",
    "##### The pandas library will make it so that the dataset from the csv file is read and turned into a dataframe.\n",
    "##### It'll also allow us to use commands that is needed for the EDA.\n",
    "#####\n",
    "##### The matplotlib.pyplot library will allow us to visualize the data and highlight the stories within the data.\n",
    "##### \n",
    "##### The seaborn library serves the same purpose as matplotlib.pyplot but carries an extra feature that colors the visualizations."
   ]
  },
  {
   "cell_type": "markdown",
   "id": "52005f3e-5637-49d8-a027-aa47b10395ea",
   "metadata": {},
   "source": [
    "#### Loading/Reading the data as a dataframe"
   ]
  },
  {
   "cell_type": "code",
   "execution_count": 3,
   "id": "69114303-6b47-4cf2-b570-ec4cbab9c171",
   "metadata": {},
   "outputs": [
    {
     "data": {
      "text/html": [
       "<div>\n",
       "<style scoped>\n",
       "    .dataframe tbody tr th:only-of-type {\n",
       "        vertical-align: middle;\n",
       "    }\n",
       "\n",
       "    .dataframe tbody tr th {\n",
       "        vertical-align: top;\n",
       "    }\n",
       "\n",
       "    .dataframe thead th {\n",
       "        text-align: right;\n",
       "    }\n",
       "</style>\n",
       "<table border=\"1\" class=\"dataframe\">\n",
       "  <thead>\n",
       "    <tr style=\"text-align: right;\">\n",
       "      <th></th>\n",
       "      <th>track_name</th>\n",
       "      <th>artist(s)_name</th>\n",
       "      <th>artist_count</th>\n",
       "      <th>released_year</th>\n",
       "      <th>released_month</th>\n",
       "      <th>released_day</th>\n",
       "      <th>in_spotify_playlists</th>\n",
       "      <th>in_spotify_charts</th>\n",
       "      <th>streams</th>\n",
       "      <th>in_apple_playlists</th>\n",
       "      <th>...</th>\n",
       "      <th>bpm</th>\n",
       "      <th>key</th>\n",
       "      <th>mode</th>\n",
       "      <th>danceability_%</th>\n",
       "      <th>valence_%</th>\n",
       "      <th>energy_%</th>\n",
       "      <th>acousticness_%</th>\n",
       "      <th>instrumentalness_%</th>\n",
       "      <th>liveness_%</th>\n",
       "      <th>speechiness_%</th>\n",
       "    </tr>\n",
       "  </thead>\n",
       "  <tbody>\n",
       "    <tr>\n",
       "      <th>0</th>\n",
       "      <td>Seven (feat. Latto) (Explicit Ver.)</td>\n",
       "      <td>Latto, Jung Kook</td>\n",
       "      <td>2</td>\n",
       "      <td>2023</td>\n",
       "      <td>7</td>\n",
       "      <td>14</td>\n",
       "      <td>553</td>\n",
       "      <td>147</td>\n",
       "      <td>141381703</td>\n",
       "      <td>43</td>\n",
       "      <td>...</td>\n",
       "      <td>125</td>\n",
       "      <td>B</td>\n",
       "      <td>Major</td>\n",
       "      <td>80</td>\n",
       "      <td>89</td>\n",
       "      <td>83</td>\n",
       "      <td>31</td>\n",
       "      <td>0</td>\n",
       "      <td>8</td>\n",
       "      <td>4</td>\n",
       "    </tr>\n",
       "    <tr>\n",
       "      <th>1</th>\n",
       "      <td>LALA</td>\n",
       "      <td>Myke Towers</td>\n",
       "      <td>1</td>\n",
       "      <td>2023</td>\n",
       "      <td>3</td>\n",
       "      <td>23</td>\n",
       "      <td>1474</td>\n",
       "      <td>48</td>\n",
       "      <td>133716286</td>\n",
       "      <td>48</td>\n",
       "      <td>...</td>\n",
       "      <td>92</td>\n",
       "      <td>C#</td>\n",
       "      <td>Major</td>\n",
       "      <td>71</td>\n",
       "      <td>61</td>\n",
       "      <td>74</td>\n",
       "      <td>7</td>\n",
       "      <td>0</td>\n",
       "      <td>10</td>\n",
       "      <td>4</td>\n",
       "    </tr>\n",
       "    <tr>\n",
       "      <th>2</th>\n",
       "      <td>vampire</td>\n",
       "      <td>Olivia Rodrigo</td>\n",
       "      <td>1</td>\n",
       "      <td>2023</td>\n",
       "      <td>6</td>\n",
       "      <td>30</td>\n",
       "      <td>1397</td>\n",
       "      <td>113</td>\n",
       "      <td>140003974</td>\n",
       "      <td>94</td>\n",
       "      <td>...</td>\n",
       "      <td>138</td>\n",
       "      <td>F</td>\n",
       "      <td>Major</td>\n",
       "      <td>51</td>\n",
       "      <td>32</td>\n",
       "      <td>53</td>\n",
       "      <td>17</td>\n",
       "      <td>0</td>\n",
       "      <td>31</td>\n",
       "      <td>6</td>\n",
       "    </tr>\n",
       "    <tr>\n",
       "      <th>3</th>\n",
       "      <td>Cruel Summer</td>\n",
       "      <td>Taylor Swift</td>\n",
       "      <td>1</td>\n",
       "      <td>2019</td>\n",
       "      <td>8</td>\n",
       "      <td>23</td>\n",
       "      <td>7858</td>\n",
       "      <td>100</td>\n",
       "      <td>800840817</td>\n",
       "      <td>116</td>\n",
       "      <td>...</td>\n",
       "      <td>170</td>\n",
       "      <td>A</td>\n",
       "      <td>Major</td>\n",
       "      <td>55</td>\n",
       "      <td>58</td>\n",
       "      <td>72</td>\n",
       "      <td>11</td>\n",
       "      <td>0</td>\n",
       "      <td>11</td>\n",
       "      <td>15</td>\n",
       "    </tr>\n",
       "    <tr>\n",
       "      <th>4</th>\n",
       "      <td>WHERE SHE GOES</td>\n",
       "      <td>Bad Bunny</td>\n",
       "      <td>1</td>\n",
       "      <td>2023</td>\n",
       "      <td>5</td>\n",
       "      <td>18</td>\n",
       "      <td>3133</td>\n",
       "      <td>50</td>\n",
       "      <td>303236322</td>\n",
       "      <td>84</td>\n",
       "      <td>...</td>\n",
       "      <td>144</td>\n",
       "      <td>A</td>\n",
       "      <td>Minor</td>\n",
       "      <td>65</td>\n",
       "      <td>23</td>\n",
       "      <td>80</td>\n",
       "      <td>14</td>\n",
       "      <td>63</td>\n",
       "      <td>11</td>\n",
       "      <td>6</td>\n",
       "    </tr>\n",
       "    <tr>\n",
       "      <th>...</th>\n",
       "      <td>...</td>\n",
       "      <td>...</td>\n",
       "      <td>...</td>\n",
       "      <td>...</td>\n",
       "      <td>...</td>\n",
       "      <td>...</td>\n",
       "      <td>...</td>\n",
       "      <td>...</td>\n",
       "      <td>...</td>\n",
       "      <td>...</td>\n",
       "      <td>...</td>\n",
       "      <td>...</td>\n",
       "      <td>...</td>\n",
       "      <td>...</td>\n",
       "      <td>...</td>\n",
       "      <td>...</td>\n",
       "      <td>...</td>\n",
       "      <td>...</td>\n",
       "      <td>...</td>\n",
       "      <td>...</td>\n",
       "      <td>...</td>\n",
       "    </tr>\n",
       "    <tr>\n",
       "      <th>948</th>\n",
       "      <td>My Mind &amp; Me</td>\n",
       "      <td>Selena Gomez</td>\n",
       "      <td>1</td>\n",
       "      <td>2022</td>\n",
       "      <td>11</td>\n",
       "      <td>3</td>\n",
       "      <td>953</td>\n",
       "      <td>0</td>\n",
       "      <td>91473363</td>\n",
       "      <td>61</td>\n",
       "      <td>...</td>\n",
       "      <td>144</td>\n",
       "      <td>A</td>\n",
       "      <td>Major</td>\n",
       "      <td>60</td>\n",
       "      <td>24</td>\n",
       "      <td>39</td>\n",
       "      <td>57</td>\n",
       "      <td>0</td>\n",
       "      <td>8</td>\n",
       "      <td>3</td>\n",
       "    </tr>\n",
       "    <tr>\n",
       "      <th>949</th>\n",
       "      <td>Bigger Than The Whole Sky</td>\n",
       "      <td>Taylor Swift</td>\n",
       "      <td>1</td>\n",
       "      <td>2022</td>\n",
       "      <td>10</td>\n",
       "      <td>21</td>\n",
       "      <td>1180</td>\n",
       "      <td>0</td>\n",
       "      <td>121871870</td>\n",
       "      <td>4</td>\n",
       "      <td>...</td>\n",
       "      <td>166</td>\n",
       "      <td>F#</td>\n",
       "      <td>Major</td>\n",
       "      <td>42</td>\n",
       "      <td>7</td>\n",
       "      <td>24</td>\n",
       "      <td>83</td>\n",
       "      <td>1</td>\n",
       "      <td>12</td>\n",
       "      <td>6</td>\n",
       "    </tr>\n",
       "    <tr>\n",
       "      <th>950</th>\n",
       "      <td>A Veces (feat. Feid)</td>\n",
       "      <td>Feid, Paulo Londra</td>\n",
       "      <td>2</td>\n",
       "      <td>2022</td>\n",
       "      <td>11</td>\n",
       "      <td>3</td>\n",
       "      <td>573</td>\n",
       "      <td>0</td>\n",
       "      <td>73513683</td>\n",
       "      <td>2</td>\n",
       "      <td>...</td>\n",
       "      <td>92</td>\n",
       "      <td>C#</td>\n",
       "      <td>Major</td>\n",
       "      <td>80</td>\n",
       "      <td>81</td>\n",
       "      <td>67</td>\n",
       "      <td>4</td>\n",
       "      <td>0</td>\n",
       "      <td>8</td>\n",
       "      <td>6</td>\n",
       "    </tr>\n",
       "    <tr>\n",
       "      <th>951</th>\n",
       "      <td>En La De Ella</td>\n",
       "      <td>Feid, Sech, Jhayco</td>\n",
       "      <td>3</td>\n",
       "      <td>2022</td>\n",
       "      <td>10</td>\n",
       "      <td>20</td>\n",
       "      <td>1320</td>\n",
       "      <td>0</td>\n",
       "      <td>133895612</td>\n",
       "      <td>29</td>\n",
       "      <td>...</td>\n",
       "      <td>97</td>\n",
       "      <td>C#</td>\n",
       "      <td>Major</td>\n",
       "      <td>82</td>\n",
       "      <td>67</td>\n",
       "      <td>77</td>\n",
       "      <td>8</td>\n",
       "      <td>0</td>\n",
       "      <td>12</td>\n",
       "      <td>5</td>\n",
       "    </tr>\n",
       "    <tr>\n",
       "      <th>952</th>\n",
       "      <td>Alone</td>\n",
       "      <td>Burna Boy</td>\n",
       "      <td>1</td>\n",
       "      <td>2022</td>\n",
       "      <td>11</td>\n",
       "      <td>4</td>\n",
       "      <td>782</td>\n",
       "      <td>2</td>\n",
       "      <td>96007391</td>\n",
       "      <td>27</td>\n",
       "      <td>...</td>\n",
       "      <td>90</td>\n",
       "      <td>E</td>\n",
       "      <td>Minor</td>\n",
       "      <td>61</td>\n",
       "      <td>32</td>\n",
       "      <td>67</td>\n",
       "      <td>15</td>\n",
       "      <td>0</td>\n",
       "      <td>11</td>\n",
       "      <td>5</td>\n",
       "    </tr>\n",
       "  </tbody>\n",
       "</table>\n",
       "<p>953 rows × 24 columns</p>\n",
       "</div>"
      ],
      "text/plain": [
       "                              track_name      artist(s)_name  artist_count  \\\n",
       "0    Seven (feat. Latto) (Explicit Ver.)    Latto, Jung Kook             2   \n",
       "1                                   LALA         Myke Towers             1   \n",
       "2                                vampire      Olivia Rodrigo             1   \n",
       "3                           Cruel Summer        Taylor Swift             1   \n",
       "4                         WHERE SHE GOES           Bad Bunny             1   \n",
       "..                                   ...                 ...           ...   \n",
       "948                         My Mind & Me        Selena Gomez             1   \n",
       "949            Bigger Than The Whole Sky        Taylor Swift             1   \n",
       "950                 A Veces (feat. Feid)  Feid, Paulo Londra             2   \n",
       "951                        En La De Ella  Feid, Sech, Jhayco             3   \n",
       "952                                Alone           Burna Boy             1   \n",
       "\n",
       "     released_year  released_month  released_day  in_spotify_playlists  \\\n",
       "0             2023               7            14                   553   \n",
       "1             2023               3            23                  1474   \n",
       "2             2023               6            30                  1397   \n",
       "3             2019               8            23                  7858   \n",
       "4             2023               5            18                  3133   \n",
       "..             ...             ...           ...                   ...   \n",
       "948           2022              11             3                   953   \n",
       "949           2022              10            21                  1180   \n",
       "950           2022              11             3                   573   \n",
       "951           2022              10            20                  1320   \n",
       "952           2022              11             4                   782   \n",
       "\n",
       "     in_spotify_charts    streams  in_apple_playlists  ...  bpm key   mode  \\\n",
       "0                  147  141381703                  43  ...  125   B  Major   \n",
       "1                   48  133716286                  48  ...   92  C#  Major   \n",
       "2                  113  140003974                  94  ...  138   F  Major   \n",
       "3                  100  800840817                 116  ...  170   A  Major   \n",
       "4                   50  303236322                  84  ...  144   A  Minor   \n",
       "..                 ...        ...                 ...  ...  ...  ..    ...   \n",
       "948                  0   91473363                  61  ...  144   A  Major   \n",
       "949                  0  121871870                   4  ...  166  F#  Major   \n",
       "950                  0   73513683                   2  ...   92  C#  Major   \n",
       "951                  0  133895612                  29  ...   97  C#  Major   \n",
       "952                  2   96007391                  27  ...   90   E  Minor   \n",
       "\n",
       "    danceability_%  valence_% energy_% acousticness_%  instrumentalness_%  \\\n",
       "0               80         89       83             31                   0   \n",
       "1               71         61       74              7                   0   \n",
       "2               51         32       53             17                   0   \n",
       "3               55         58       72             11                   0   \n",
       "4               65         23       80             14                  63   \n",
       "..             ...        ...      ...            ...                 ...   \n",
       "948             60         24       39             57                   0   \n",
       "949             42          7       24             83                   1   \n",
       "950             80         81       67              4                   0   \n",
       "951             82         67       77              8                   0   \n",
       "952             61         32       67             15                   0   \n",
       "\n",
       "     liveness_%  speechiness_%  \n",
       "0             8              4  \n",
       "1            10              4  \n",
       "2            31              6  \n",
       "3            11             15  \n",
       "4            11              6  \n",
       "..          ...            ...  \n",
       "948           8              3  \n",
       "949          12              6  \n",
       "950           8              6  \n",
       "951          12              5  \n",
       "952          11              5  \n",
       "\n",
       "[953 rows x 24 columns]"
      ]
     },
     "execution_count": 3,
     "metadata": {},
     "output_type": "execute_result"
    }
   ],
   "source": [
    "df_spotify = pd.read_csv('spotify-2023.csv', encoding='ISO-8859-1')\n",
    "df_spotify"
   ]
  },
  {
   "cell_type": "code",
   "execution_count": null,
   "id": "4de916b0-d6db-4e00-9618-dc2e94682daf",
   "metadata": {},
   "outputs": [],
   "source": [
    "##### To load the given dataset, which is a csv file, the pd.read_csv is used\n",
    "##### The encoding='ISO-8859-1' is also implemented as it would not load the file without it"
   ]
  },
  {
   "cell_type": "markdown",
   "id": "4e0afdc2-c0a0-4de8-9d60-0d37f2e2a4d2",
   "metadata": {},
   "source": [
    "#### Viewing/Checking the data"
   ]
  },
  {
   "cell_type": "code",
   "execution_count": null,
   "id": "72623047-908a-4919-8db3-942b979146ca",
   "metadata": {},
   "outputs": [],
   "source": [
    "df_spotify.info()"
   ]
  },
  {
   "cell_type": "code",
   "execution_count": null,
   "id": "ddeff55c-e3b9-49e7-82b2-8fadedf8b40b",
   "metadata": {},
   "outputs": [],
   "source": [
    "##### Checking the csv file in excel, scrolling through the data, it is obvious that some of it is missing\n",
    "#####\n",
    "##### Using .info() acquires the basic information of the data\n",
    "##### There are 953 rows and 24 columns. \n",
    "##### The datatype for the streams in_deezer_playlists, and in_shazam_charts columns are also incorrectly detected as an object"
   ]
  },
  {
   "cell_type": "markdown",
   "id": "fcdf4ac1-62ab-45ee-ab09-d0adbd218912",
   "metadata": {},
   "source": [
    "### Fixing the dataset"
   ]
  },
  {
   "cell_type": "code",
   "execution_count": null,
   "id": "aa53563c-09a2-46c8-ba11-0c5fb795e096",
   "metadata": {},
   "outputs": [],
   "source": [
    "### Fixing the datatypes for streams, in_deezer_playlists, and in_shazam_charts"
   ]
  },
  {
   "cell_type": "code",
   "execution_count": null,
   "id": "2f29dddf-87d8-48cc-a849-99967cfb7bd5",
   "metadata": {},
   "outputs": [],
   "source": [
    "#### For the streams columns"
   ]
  },
  {
   "cell_type": "code",
   "execution_count": null,
   "id": "da40c4a3-ab90-4eea-972f-d512cc67223b",
   "metadata": {},
   "outputs": [],
   "source": [
    "df_spotify['streams'] = pd.to_numeric(df_spotify['streams'], errors = 'coerce')\n",
    "df_spotify['streams']"
   ]
  },
  {
   "cell_type": "code",
   "execution_count": null,
   "id": "269b2df3-fb50-4175-9fb2-5ca396c4a7b1",
   "metadata": {},
   "outputs": [],
   "source": [
    "df_spotify['streams'].iloc[574]"
   ]
  },
  {
   "cell_type": "markdown",
   "id": "e222d371-cac2-4651-bf2f-c1a6cea98d7c",
   "metadata": {},
   "source": [
    "##### Used errors = 'coerce' as without it, it wouldn't be able to convert the 574th row in to a numerical value\n",
    "##### The value of the 574th row of streams is converted to Nan and is now missing\n",
    "##### It used to store the values of the other columns related to the row of the song which was 'Love Grows (Where My Rosemary Goes)' by Edison Lighthouse\n",
    "##### It used to have 'BPM110KeyAModeMajorDanceability53Valence75Energy69Acousticness7Instrumentalness0Liveness17Speechiness3'\n",
    "#####\n",
    "##### Upon researching, the original song has about 276,093,748\taccumulated streams and is being streamed daily by 168,328 on 2024/10/16 which was 290 days since 2023\n",
    "##### Subtracting 276,093,748 by 168,000 multiplied by 290 to account for the extra days, we get 227,373,748 streams\n",
    "##### We should now store this value in that row as done below,"
   ]
  },
  {
   "cell_type": "code",
   "execution_count": null,
   "id": "114962d1-1489-47cb-849b-53629be7d2ca",
   "metadata": {},
   "outputs": [],
   "source": [
    "df_spotify.at[574, 'streams'] = 227373748\n",
    "df_spotify['streams'].iloc[574]"
   ]
  },
  {
   "cell_type": "code",
   "execution_count": null,
   "id": "40efe1ee-6dbe-4c6a-9d32-149b18630451",
   "metadata": {},
   "outputs": [],
   "source": [
    "#### For the in_deezer_playlists columns"
   ]
  },
  {
   "cell_type": "code",
   "execution_count": 5,
   "id": "7bb7f281-fae4-4849-86ac-42c18a840533",
   "metadata": {},
   "outputs": [
    {
     "data": {
      "text/plain": [
       "'2,445'"
      ]
     },
     "execution_count": 5,
     "metadata": {},
     "output_type": "execute_result"
    }
   ],
   "source": [
    "df_spotify['in_deezer_playlists'].iloc[48]"
   ]
  },
  {
   "cell_type": "code",
   "execution_count": 7,
   "id": "cdd10f24-c341-4a7d-8751-da9d60bb2571",
   "metadata": {},
   "outputs": [
    {
     "data": {
      "text/plain": [
       "0       45.0\n",
       "1       58.0\n",
       "2       91.0\n",
       "3      125.0\n",
       "4       87.0\n",
       "       ...  \n",
       "948     37.0\n",
       "949      8.0\n",
       "950      7.0\n",
       "951     17.0\n",
       "952     32.0\n",
       "Name: in_deezer_playlists, Length: 953, dtype: float64"
      ]
     },
     "execution_count": 7,
     "metadata": {},
     "output_type": "execute_result"
    }
   ],
   "source": [
    "df_spotify['in_deezer_playlists'] = df_spotify['in_deezer_playlists'].str.replace(\",\",\"\").astype(float)\n",
    "df_spotify['in_deezer_playlists']"
   ]
  },
  {
   "cell_type": "code",
   "execution_count": 9,
   "id": "7a7c662b-8826-4c13-9a87-35fc3d233f13",
   "metadata": {},
   "outputs": [
    {
     "data": {
      "text/plain": [
       "2445.0"
      ]
     },
     "execution_count": 9,
     "metadata": {},
     "output_type": "execute_result"
    }
   ],
   "source": [
    "df_spotify['in_deezer_playlists'].iloc[48]"
   ]
  },
  {
   "cell_type": "code",
   "execution_count": null,
   "id": "7e17c6c6-8986-472b-96cb-60d0738e7612",
   "metadata": {},
   "outputs": [],
   "source": [
    "##### The in_deezer_playlists contains numbers with commas and that is probably the reason it detected as an object\n",
    "##### replacing all the commas with a space using .str.replace(\",\"\") ensuring that it can be all converted into numerical values\n",
    "##### The astype(float) is used to convert all the values in to column to become the float datatype"
   ]
  },
  {
   "cell_type": "code",
   "execution_count": null,
   "id": "e9b438a8-6961-4fcb-b574-2aa55dfff792",
   "metadata": {},
   "outputs": [],
   "source": [
    "#### For the in_shazam_charts"
   ]
  },
  {
   "cell_type": "code",
   "execution_count": 11,
   "id": "d706f92a-81d7-4551-b9fc-69c434f28c72",
   "metadata": {},
   "outputs": [],
   "source": [
    "##### It has the same problem with the 'in_deezer_playlists' column so we just need to repeat the process before"
   ]
  },
  {
   "cell_type": "code",
   "execution_count": 13,
   "id": "7e310e0a-f7c1-4bf6-b537-9e66480c016d",
   "metadata": {},
   "outputs": [
    {
     "data": {
      "text/plain": [
       "'1,021'"
      ]
     },
     "execution_count": 13,
     "metadata": {},
     "output_type": "execute_result"
    }
   ],
   "source": [
    "df_spotify['in_shazam_charts'].iloc[12]"
   ]
  },
  {
   "cell_type": "code",
   "execution_count": 15,
   "id": "12846fa7-35e2-4302-b5f9-61918e0e2e85",
   "metadata": {},
   "outputs": [
    {
     "data": {
      "text/plain": [
       "0      826.0\n",
       "1      382.0\n",
       "2      949.0\n",
       "3      548.0\n",
       "4      425.0\n",
       "       ...  \n",
       "948      0.0\n",
       "949      0.0\n",
       "950      0.0\n",
       "951      0.0\n",
       "952      0.0\n",
       "Name: in_shazam_charts, Length: 953, dtype: float64"
      ]
     },
     "execution_count": 15,
     "metadata": {},
     "output_type": "execute_result"
    }
   ],
   "source": [
    "df_spotify['in_shazam_charts'] = df_spotify['in_shazam_charts'].str.replace(\",\",\"\").astype(float)\n",
    "df_spotify['in_shazam_charts']"
   ]
  },
  {
   "cell_type": "code",
   "execution_count": 17,
   "id": "89513928-e5f2-4ba3-a923-2ed87e21a799",
   "metadata": {},
   "outputs": [
    {
     "data": {
      "text/plain": [
       "1021.0"
      ]
     },
     "execution_count": 17,
     "metadata": {},
     "output_type": "execute_result"
    }
   ],
   "source": [
    "df_spotify['in_shazam_charts'].iloc[12]"
   ]
  },
  {
   "cell_type": "markdown",
   "id": "957f21bb-fafd-484d-a860-0da9ed66a39d",
   "metadata": {},
   "source": [
    "## Guide Questions for EDA"
   ]
  },
  {
   "cell_type": "markdown",
   "id": "f22d3f0f-2545-4f2a-a2ba-f23b91f47745",
   "metadata": {},
   "source": [
    "#### How many rows and columns does the dataset contain?"
   ]
  },
  {
   "cell_type": "markdown",
   "id": "1442f842-f336-491e-8121-c02c9902abd0",
   "metadata": {},
   "source": [
    "##### using the .info(), as used before to check and view the basic information of the data\n",
    "##### it shows that the dataset contains 953 rows and 24 columns"
   ]
  },
  {
   "cell_type": "markdown",
   "id": "acdcb3d5-2e93-4e9c-b947-99274b343aa2",
   "metadata": {},
   "source": [
    "#### What are the data types of each column? Are there any missing values?"
   ]
  },
  {
   "cell_type": "markdown",
   "id": "77552179-8018-45de-8ac8-a042db4d41f8",
   "metadata": {},
   "source": [
    "##### also using the .info(), the data types of each column are either a 64bit integer or an object\n",
    "##### the streams values are also incorrectly detected as an object"
   ]
  },
  {
   "cell_type": "code",
   "execution_count": 19,
   "id": "38f35863-ea7d-4895-b719-b8207d5107cd",
   "metadata": {},
   "outputs": [
    {
     "data": {
      "text/plain": [
       "track_name               0\n",
       "artist(s)_name           0\n",
       "artist_count             0\n",
       "released_year            0\n",
       "released_month           0\n",
       "released_day             0\n",
       "in_spotify_playlists     0\n",
       "in_spotify_charts        0\n",
       "streams                  0\n",
       "in_apple_playlists       0\n",
       "in_apple_charts          0\n",
       "in_deezer_playlists      0\n",
       "in_deezer_charts         0\n",
       "in_shazam_charts        50\n",
       "bpm                      0\n",
       "key                     95\n",
       "mode                     0\n",
       "danceability_%           0\n",
       "valence_%                0\n",
       "energy_%                 0\n",
       "acousticness_%           0\n",
       "instrumentalness_%       0\n",
       "liveness_%               0\n",
       "speechiness_%            0\n",
       "dtype: int64"
      ]
     },
     "execution_count": 19,
     "metadata": {},
     "output_type": "execute_result"
    }
   ],
   "source": [
    "df_spotify.isna().sum()"
   ]
  },
  {
   "cell_type": "code",
   "execution_count": null,
   "id": "2ce474dd-acf8-4fdc-936f-31ed47ae3515",
   "metadata": {},
   "outputs": [],
   "source": [
    "##### using the combination of .isna(), which checks if the value inside a column is missing or null, and\n",
    "##### .sum() to sum all the counts/times there are missing/Nan values in a column,\n",
    "##### it shows that there are 50 missing values inside 'in_shazam_charts' column and 95 missing values inside the 'key' column"
   ]
  },
  {
   "cell_type": "code",
   "execution_count": null,
   "id": "c93f83c8-c9d5-4d98-8ecf-20f94873945a",
   "metadata": {},
   "outputs": [],
   "source": [
    "df_spotify['streams'] = pd.to_numeric(df_spotify['streams'])"
   ]
  },
  {
   "cell_type": "markdown",
   "id": "4dd6b714-1913-47d5-ae0a-bfd6650f8748",
   "metadata": {},
   "source": [
    "### Basic Descriptive Statistics"
   ]
  },
  {
   "cell_type": "markdown",
   "id": "257fa83a-8328-4a38-91e4-8c003715ba59",
   "metadata": {},
   "source": [
    "#### What are the mean, median, and standard deviation of the streams column?"
   ]
  },
  {
   "cell_type": "code",
   "execution_count": null,
   "id": "cc3d3aa9-5212-468c-9ef6-e4a99b0d1bde",
   "metadata": {},
   "outputs": [],
   "source": [
    "df_spotify['streams'].mean()"
   ]
  },
  {
   "cell_type": "code",
   "execution_count": null,
   "id": "7b934ca3-a4cf-433f-806d-8c0231236d31",
   "metadata": {},
   "outputs": [],
   "source": [
    "df_spotify['streams'].median()"
   ]
  },
  {
   "cell_type": "code",
   "execution_count": null,
   "id": "e2e0f047-14fb-4861-b0d7-ea13cbfbf1cb",
   "metadata": {},
   "outputs": [],
   "source": [
    "df_spotify['streams'].std()"
   ]
  },
  {
   "cell_type": "code",
   "execution_count": null,
   "id": "e8cafc04-dbb1-4a4e-9a3d-5b20ac259ebd",
   "metadata": {},
   "outputs": [],
   "source": [
    "###### The mean of the streams column shows that on average the most streamed songs of spotify in 20223\n",
    "###### has close to half a billion streams in order to be on that list but this may be due to the highest streamed songs having such high numbers\n",
    "######\n",
    "##### The median of streams represent the most middle value when it's ordered according to ascending value\n",
    "##### It shows that most of the songs in this list has a lower stream count than the mean of the list"
   ]
  },
  {
   "cell_type": "code",
   "execution_count": null,
   "id": "c7f2a3cc-c054-4513-b723-1b9f528305a5",
   "metadata": {},
   "outputs": [],
   "source": [
    "sorted_streams = df_spotify['streams'].sort_values(ascending=False)\n",
    "sorted_streams.head(10)"
   ]
  },
  {
   "cell_type": "code",
   "execution_count": null,
   "id": "fe25dc59-4286-47d2-b7fb-c62e667a2507",
   "metadata": {},
   "outputs": [],
   "source": []
  }
 ],
 "metadata": {
  "kernelspec": {
   "display_name": "Python 3 (ipykernel)",
   "language": "python",
   "name": "python3"
  },
  "language_info": {
   "codemirror_mode": {
    "name": "ipython",
    "version": 3
   },
   "file_extension": ".py",
   "mimetype": "text/x-python",
   "name": "python",
   "nbconvert_exporter": "python",
   "pygments_lexer": "ipython3",
   "version": "3.12.4"
  }
 },
 "nbformat": 4,
 "nbformat_minor": 5
}
